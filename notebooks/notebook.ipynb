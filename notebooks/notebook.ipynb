{
 "cells": [
  {
   "cell_type": "markdown",
   "metadata": {
    "id": "DaaaJTAJzPNE"
   },
   "source": [
    "# Wasserstein GAN"
   ]
  },
  {
   "cell_type": "markdown",
   "metadata": {
    "id": "m00vkpNDVB1B"
   },
   "source": [
    "## Outline\n",
    "\n",
    "* Was wird in dem Notebookbesprochen"
   ]
  },
  {
   "cell_type": "markdown",
   "metadata": {
    "id": "c2c296w1UbmC"
   },
   "source": [
    "## Recap: Vanilla GAN\n",
    "\n",
    "* Wie functioniert ein Vanilla GAN"
   ]
  },
  {
   "cell_type": "code",
   "execution_count": 1,
   "metadata": {
    "colab": {
     "base_uri": "https://localhost:8080/",
     "height": 312
    },
    "id": "Lu37sThZUiCl",
    "outputId": "c1587596-c130-492a-f1fb-8fa84b916a53"
   },
   "outputs": [
    {
     "data": {
      "text/html": [
       "<img src=\"https://www.researchgate.net/publication/336781462/figure/fig2/AS:817722363494401@1571971612898/Example-of-a-typical-GANs-architecture-for-both-hand-written-digits-recognition-and.png\" width=\"700\"/>"
      ],
      "text/plain": [
       "<IPython.core.display.Image object>"
      ]
     },
     "execution_count": 1,
     "metadata": {},
     "output_type": "execute_result"
    }
   ],
   "source": [
    "from IPython.display import Image\n",
    "Image(url=\"https://www.researchgate.net/publication/336781462/figure/fig2/AS:817722363494401@1571971612898/Example-of-a-typical-GANs-architecture-for-both-hand-written-digits-recognition-and.png\", width=700)"
   ]
  },
  {
   "cell_type": "markdown",
   "metadata": {
    "id": "e_lT9MbNUw6Z"
   },
   "source": [
    "### Problems\n",
    "\n",
    "* Probleme eines Vanilla GANs"
   ]
  },
  {
   "cell_type": "markdown",
   "metadata": {
    "id": "CcQACT4XVWRX"
   },
   "source": [
    "### Solutions\n",
    "\n",
    "* Mögliche Lösungen"
   ]
  },
  {
   "cell_type": "markdown",
   "metadata": {
    "id": "gmIc-v9VA_8T"
   },
   "source": [
    "## Different Distances"
   ]
  },
  {
   "cell_type": "code",
   "execution_count": null,
   "metadata": {
    "id": "QsHhDQLSz73u"
   },
   "outputs": [],
   "source": [
    "from scipy.stats import wasserstein_distance, norm\n",
    "import scipy.signal\n",
    "import plotly.express as px\n",
    "import plotly.graph_objects as go\n",
    "import pandas as pd \n",
    "\n",
    "from scipy.spatial.distance import jensenshannon\n",
    "from scipy.special import kl_div\n",
    "\n",
    "\n",
    "import matplotlib.pyplot as plt\n",
    "\n",
    "import numpy as np"
   ]
  },
  {
   "cell_type": "markdown",
   "metadata": {
    "id": "74N4x0ZqhwQL"
   },
   "source": [
    "### Helper Methods"
   ]
  },
  {
   "cell_type": "code",
   "execution_count": null,
   "metadata": {
    "id": "CWPG0XwMFz3o"
   },
   "outputs": [],
   "source": [
    "def get_P(X, mean=0, std=1, decimals=10):\n",
    "    X_lower_bound, X_upper_bound = X - 0.5, X + 0.5\n",
    "    P = norm(mean, std).cdf(X_upper_bound) - norm(mean, std).cdf(X_lower_bound)\n",
    "    P = P / P.sum()\n",
    "    P = np.round(P, decimals=decimals)\n",
    "  \n",
    "    return P\n",
    "\n",
    "def plot_Px(P, X):\n",
    "    plt.hist(np.random.choice(X, size=100000, p=P), bins=len(X))"
   ]
  },
  {
   "cell_type": "code",
   "execution_count": null,
   "metadata": {
    "id": "-JxFhnivW4Sx"
   },
   "outputs": [],
   "source": [
    "def plot_Pxs(p_1, x_1, p_2, x_2, lines=False):\n",
    "    fig = go.Figure()\n",
    "    data_1 = {\n",
    "        'x': x_1,\n",
    "        'y': p_1,\n",
    "        'name': 'Probability 1',\n",
    "        #'marker_color': 'rgb(146, 9, 173)'\n",
    "    }\n",
    "    \n",
    "    data_2 = {\n",
    "        'x': x_2,\n",
    "        'y': p_2,\n",
    "        'name': 'Probability 2',\n",
    "        #'marker_color': 'rgb(97, 18, 189)'\n",
    "    }\n",
    "\n",
    "    trace_1 = go.Scatter(data_1) if lines else go.Bar(data_1)\n",
    "    trace_2 = go.Scatter(data_2) if lines else go.Bar(data_2)\n",
    "\n",
    "    fig.add_trace(trace_1)\n",
    "    fig.add_trace(trace_2)\n",
    "\n",
    "    extra_config = {} if lines else {'barmode': 'group', 'bargap': 0.15, 'bargroupgap': 0.1}\n",
    "  \n",
    "    fig.update_layout(\n",
    "        title='Probability Functions',\n",
    "        xaxis_tickfont_size=14,\n",
    "        yaxis=dict(\n",
    "            title='Probability',\n",
    "            titlefont_size=16,\n",
    "            tickfont_size=14,\n",
    "        ),\n",
    "        legend=dict(\n",
    "            x=0,\n",
    "            y=1.0,\n",
    "            bgcolor='rgba(255, 255, 255, 0)',\n",
    "            bordercolor='rgba(255, 255, 255, 0)'\n",
    "        ),\n",
    "        **extra_config\n",
    "    )\n",
    "    \n",
    "    fig.show()"
   ]
  },
  {
   "cell_type": "code",
   "execution_count": null,
   "metadata": {
    "id": "7pTFqtvYviEU"
   },
   "outputs": [],
   "source": [
    "def plot_distances(X, D, line=False):\n",
    "    fig = go.Figure()\n",
    "\n",
    "    for x, d in zip(X, D):\n",
    "      data = {\n",
    "        'x': x,\n",
    "        'y': d,\n",
    "      }\n",
    "\n",
    "      trace = go.Scatter(data) if line else go.Bar(data)\n",
    "      fig.add_trace(trace)\n",
    "\n",
    "    extra_config = {} if line else {'barmode': 'group', 'bargap': 0.15, 'bargroupgap': 0.1}\n",
    "  \n",
    "    fig.update_layout(\n",
    "        title='Distances',\n",
    "        xaxis_tickfont_size=14,\n",
    "        yaxis=dict(\n",
    "            title='Distance',\n",
    "            titlefont_size=16,\n",
    "            tickfont_size=14,\n",
    "        ),\n",
    "        legend=dict(\n",
    "            x=0,\n",
    "            y=1.0,\n",
    "            bgcolor='rgba(255, 255, 255, 0)',\n",
    "            bordercolor='rgba(255, 255, 255, 0)'\n",
    "        ),\n",
    "        **extra_config\n",
    "    )\n",
    "    \n",
    "    fig.show()"
   ]
  },
  {
   "cell_type": "code",
   "execution_count": null,
   "metadata": {
    "id": "-nPpQa5AfMVq"
   },
   "outputs": [],
   "source": [
    "def plot_separate_ps(x_1, x_2, p_1, p_2):\n",
    "    df = pd.DataFrame({'probability': 1, 'x': x_1, 'y': p_1}).append(pd.DataFrame({'probability': 2, 'x': x_2, 'y': p_2}))\n",
    "    fig = px.bar(df, x=\"x\", y=\"y\", barmode=\"group\", facet_col=\"probability\")\n",
    "    fig.show()"
   ]
  },
  {
   "cell_type": "code",
   "execution_count": null,
   "metadata": {
    "id": "sdnPKybEfpcr"
   },
   "outputs": [],
   "source": [
    "def mat_plot_grouped(x_1, x_2, p_1, p_2):\n",
    "    X = np.arange(len(range(min(x_1 + x_2), max(x_1 + x_2) + 1)))\n",
    "\n",
    "    for x in X:\n",
    "        if x not in x_1:\n",
    "            i = 0\n",
    "            while i < len(x_1) - 1 and x_1[i] < x:\n",
    "                i += 1\n",
    "\n",
    "            x_1 = x_1[:i] + [x] + x_1[i:]\n",
    "            p_1 = p_1[:i] + [0.0] + p_1[i:]\n",
    "\n",
    "        if x not in x_2:\n",
    "            i = 0\n",
    "            \n",
    "            while i < len(x_2) - 1 and x_2[i] < x:\n",
    "                i += 1\n",
    "\n",
    "        x_2 = x_2[:i] + [x] + x_2[i:]\n",
    "        p_2 = p_2[:i] + [0.0] + p_2[i:]\n",
    "\n",
    "    width = 0.35  # the width of the bars\n",
    "\n",
    "    fig, ax = plt.subplots()\n",
    "    rects1 = ax.bar(X - width / 2 - 0.01, p_1, width, label='P1')\n",
    "    rects2 = ax.bar(X + width / 2 + 0.01, p_2, width, label='P2')\n",
    "\n",
    "    # Add some text for labels, title and custom x-axis tick labels, etc.\n",
    "    ax.set_ylabel('Probabilities')\n",
    "    ax.set_title('Probabilities')\n",
    "    ax.set_xticks(X)\n",
    "    ax.set_xticklabels(X)\n",
    "    ax.legend()\n",
    "\n",
    "    #ax.bar_label(rects1, padding=3)\n",
    "    #ax.bar_label(rects2, padding=3)\n",
    "\n",
    "    fig.tight_layout()\n",
    "\n",
    "    plt.show()"
   ]
  },
  {
   "cell_type": "code",
   "execution_count": null,
   "metadata": {
    "id": "f5DAFZAKhwQP"
   },
   "outputs": [],
   "source": [
    "def mat_plot_separate(x_1, x_2, p_1, p_2):\n",
    "    fig, (ax1, ax2) = plt.subplots(1, 2)\n",
    "    fig.suptitle('Horizontally stacked subplots')\n",
    "    ax1.bar(x_1, p_1)\n",
    "    ax2.bar(x_2, p_2)"
   ]
  },
  {
   "cell_type": "markdown",
   "metadata": {
    "id": "t7psi_CfhwQR"
   },
   "source": [
    "### Kullback-Leibler Divergence"
   ]
  },
  {
   "cell_type": "markdown",
   "metadata": {
    "id": "EbCmvLbet9GV"
   },
   "source": [
    "#### $P_r$ and $P_g$ are joint"
   ]
  },
  {
   "cell_type": "code",
   "execution_count": null,
   "metadata": {
    "colab": {
     "base_uri": "https://localhost:8080/",
     "height": 542
    },
    "id": "uGLkJR_qpVWC",
    "outputId": "c573142d-397a-457e-d990-5fcf0a753331"
   },
   "outputs": [
    {
     "data": {
      "text/html": [
       "<html>\n",
       "<head><meta charset=\"utf-8\" /></head>\n",
       "<body>\n",
       "    <div>\n",
       "            <script src=\"https://cdnjs.cloudflare.com/ajax/libs/mathjax/2.7.5/MathJax.js?config=TeX-AMS-MML_SVG\"></script><script type=\"text/javascript\">if (window.MathJax) {MathJax.Hub.Config({SVG: {font: \"STIX-Web\"}});}</script>\n",
       "                <script type=\"text/javascript\">window.PlotlyConfig = {MathJaxConfig: 'local'};</script>\n",
       "        <script src=\"https://cdn.plot.ly/plotly-latest.min.js\"></script>    \n",
       "            <div id=\"c5453e3e-e4e0-4baa-82ac-35ef96940f1b\" class=\"plotly-graph-div\" style=\"height:525px; width:100%;\"></div>\n",
       "            <script type=\"text/javascript\">\n",
       "                \n",
       "                    window.PLOTLYENV=window.PLOTLYENV || {};\n",
       "                    \n",
       "                if (document.getElementById(\"c5453e3e-e4e0-4baa-82ac-35ef96940f1b\")) {\n",
       "                    Plotly.newPlot(\n",
       "                        'c5453e3e-e4e0-4baa-82ac-35ef96940f1b',\n",
       "                        [{\"name\": \"Probability 1\", \"type\": \"bar\", \"x\": [-10, -9, -8, -7, -6, -5, -4, -3, -2, -1, 0, 1, 2, 3, 4, 5], \"y\": [0.0092723395, 0.027917875, 0.0657866504, 0.1213391499, 0.1751883551, 0.1980026675, 0.1751883551, 0.1213391499, 0.0657866504, 0.027917875, 0.0092723395, 0.0, 0.0, 0.0, 0.0, 0.0]}, {\"name\": \"Probability 2\", \"type\": \"bar\", \"x\": [-10, -9, -8, -7, -6, -5, -4, -3, -2, -1, 0, 1, 2, 3, 4, 5], \"y\": [0.0, 0.0, 0.0, 0.0, 0.0, 0.0092723395, 0.027917875, 0.0657866504, 0.1213391499, 0.1751883551, 0.1980026675, 0.1751883551, 0.1213391499, 0.0657866504, 0.027917875, 0.0092723395]}],\n",
       "                        {\"bargap\": 0.15, \"bargroupgap\": 0.1, \"barmode\": \"group\", \"legend\": {\"bgcolor\": \"rgba(255, 255, 255, 0)\", \"bordercolor\": \"rgba(255, 255, 255, 0)\", \"x\": 0, \"y\": 1.0}, \"template\": {\"data\": {\"bar\": [{\"error_x\": {\"color\": \"#2a3f5f\"}, \"error_y\": {\"color\": \"#2a3f5f\"}, \"marker\": {\"line\": {\"color\": \"#E5ECF6\", \"width\": 0.5}}, \"type\": \"bar\"}], \"barpolar\": [{\"marker\": {\"line\": {\"color\": \"#E5ECF6\", \"width\": 0.5}}, \"type\": \"barpolar\"}], \"carpet\": [{\"aaxis\": {\"endlinecolor\": \"#2a3f5f\", \"gridcolor\": \"white\", \"linecolor\": \"white\", \"minorgridcolor\": \"white\", \"startlinecolor\": \"#2a3f5f\"}, \"baxis\": {\"endlinecolor\": \"#2a3f5f\", \"gridcolor\": \"white\", \"linecolor\": \"white\", \"minorgridcolor\": \"white\", \"startlinecolor\": \"#2a3f5f\"}, \"type\": \"carpet\"}], \"choropleth\": [{\"colorbar\": {\"outlinewidth\": 0, \"ticks\": \"\"}, \"type\": \"choropleth\"}], \"contour\": [{\"colorbar\": {\"outlinewidth\": 0, \"ticks\": \"\"}, \"colorscale\": [[0.0, \"#0d0887\"], [0.1111111111111111, \"#46039f\"], [0.2222222222222222, \"#7201a8\"], [0.3333333333333333, \"#9c179e\"], [0.4444444444444444, \"#bd3786\"], [0.5555555555555556, \"#d8576b\"], [0.6666666666666666, \"#ed7953\"], [0.7777777777777778, \"#fb9f3a\"], [0.8888888888888888, \"#fdca26\"], [1.0, \"#f0f921\"]], \"type\": \"contour\"}], \"contourcarpet\": [{\"colorbar\": {\"outlinewidth\": 0, \"ticks\": \"\"}, \"type\": \"contourcarpet\"}], \"heatmap\": [{\"colorbar\": {\"outlinewidth\": 0, \"ticks\": \"\"}, \"colorscale\": [[0.0, \"#0d0887\"], [0.1111111111111111, \"#46039f\"], [0.2222222222222222, \"#7201a8\"], [0.3333333333333333, \"#9c179e\"], [0.4444444444444444, \"#bd3786\"], [0.5555555555555556, \"#d8576b\"], [0.6666666666666666, \"#ed7953\"], [0.7777777777777778, \"#fb9f3a\"], [0.8888888888888888, \"#fdca26\"], [1.0, \"#f0f921\"]], \"type\": \"heatmap\"}], \"heatmapgl\": [{\"colorbar\": {\"outlinewidth\": 0, \"ticks\": \"\"}, \"colorscale\": [[0.0, \"#0d0887\"], [0.1111111111111111, \"#46039f\"], [0.2222222222222222, \"#7201a8\"], [0.3333333333333333, \"#9c179e\"], [0.4444444444444444, \"#bd3786\"], [0.5555555555555556, \"#d8576b\"], [0.6666666666666666, \"#ed7953\"], [0.7777777777777778, \"#fb9f3a\"], [0.8888888888888888, \"#fdca26\"], [1.0, \"#f0f921\"]], \"type\": \"heatmapgl\"}], \"histogram\": [{\"marker\": {\"colorbar\": {\"outlinewidth\": 0, \"ticks\": \"\"}}, \"type\": \"histogram\"}], \"histogram2d\": [{\"colorbar\": {\"outlinewidth\": 0, \"ticks\": \"\"}, \"colorscale\": [[0.0, \"#0d0887\"], [0.1111111111111111, \"#46039f\"], [0.2222222222222222, \"#7201a8\"], [0.3333333333333333, \"#9c179e\"], [0.4444444444444444, \"#bd3786\"], [0.5555555555555556, \"#d8576b\"], [0.6666666666666666, \"#ed7953\"], [0.7777777777777778, \"#fb9f3a\"], [0.8888888888888888, \"#fdca26\"], [1.0, \"#f0f921\"]], \"type\": \"histogram2d\"}], \"histogram2dcontour\": [{\"colorbar\": {\"outlinewidth\": 0, \"ticks\": \"\"}, \"colorscale\": [[0.0, \"#0d0887\"], [0.1111111111111111, \"#46039f\"], [0.2222222222222222, \"#7201a8\"], [0.3333333333333333, \"#9c179e\"], [0.4444444444444444, \"#bd3786\"], [0.5555555555555556, \"#d8576b\"], [0.6666666666666666, \"#ed7953\"], [0.7777777777777778, \"#fb9f3a\"], [0.8888888888888888, \"#fdca26\"], [1.0, \"#f0f921\"]], \"type\": \"histogram2dcontour\"}], \"mesh3d\": [{\"colorbar\": {\"outlinewidth\": 0, \"ticks\": \"\"}, \"type\": \"mesh3d\"}], \"parcoords\": [{\"line\": {\"colorbar\": {\"outlinewidth\": 0, \"ticks\": \"\"}}, \"type\": \"parcoords\"}], \"pie\": [{\"automargin\": true, \"type\": \"pie\"}], \"scatter\": [{\"marker\": {\"colorbar\": {\"outlinewidth\": 0, \"ticks\": \"\"}}, \"type\": \"scatter\"}], \"scatter3d\": [{\"line\": {\"colorbar\": {\"outlinewidth\": 0, \"ticks\": \"\"}}, \"marker\": {\"colorbar\": {\"outlinewidth\": 0, \"ticks\": \"\"}}, \"type\": \"scatter3d\"}], \"scattercarpet\": [{\"marker\": {\"colorbar\": {\"outlinewidth\": 0, \"ticks\": \"\"}}, \"type\": \"scattercarpet\"}], \"scattergeo\": [{\"marker\": {\"colorbar\": {\"outlinewidth\": 0, \"ticks\": \"\"}}, \"type\": \"scattergeo\"}], \"scattergl\": [{\"marker\": {\"colorbar\": {\"outlinewidth\": 0, \"ticks\": \"\"}}, \"type\": \"scattergl\"}], \"scattermapbox\": [{\"marker\": {\"colorbar\": {\"outlinewidth\": 0, \"ticks\": \"\"}}, \"type\": \"scattermapbox\"}], \"scatterpolar\": [{\"marker\": {\"colorbar\": {\"outlinewidth\": 0, \"ticks\": \"\"}}, \"type\": \"scatterpolar\"}], \"scatterpolargl\": [{\"marker\": {\"colorbar\": {\"outlinewidth\": 0, \"ticks\": \"\"}}, \"type\": \"scatterpolargl\"}], \"scatterternary\": [{\"marker\": {\"colorbar\": {\"outlinewidth\": 0, \"ticks\": \"\"}}, \"type\": \"scatterternary\"}], \"surface\": [{\"colorbar\": {\"outlinewidth\": 0, \"ticks\": \"\"}, \"colorscale\": [[0.0, \"#0d0887\"], [0.1111111111111111, \"#46039f\"], [0.2222222222222222, \"#7201a8\"], [0.3333333333333333, \"#9c179e\"], [0.4444444444444444, \"#bd3786\"], [0.5555555555555556, \"#d8576b\"], [0.6666666666666666, \"#ed7953\"], [0.7777777777777778, \"#fb9f3a\"], [0.8888888888888888, \"#fdca26\"], [1.0, \"#f0f921\"]], \"type\": \"surface\"}], \"table\": [{\"cells\": {\"fill\": {\"color\": \"#EBF0F8\"}, \"line\": {\"color\": \"white\"}}, \"header\": {\"fill\": {\"color\": \"#C8D4E3\"}, \"line\": {\"color\": \"white\"}}, \"type\": \"table\"}]}, \"layout\": {\"annotationdefaults\": {\"arrowcolor\": \"#2a3f5f\", \"arrowhead\": 0, \"arrowwidth\": 1}, \"coloraxis\": {\"colorbar\": {\"outlinewidth\": 0, \"ticks\": \"\"}}, \"colorscale\": {\"diverging\": [[0, \"#8e0152\"], [0.1, \"#c51b7d\"], [0.2, \"#de77ae\"], [0.3, \"#f1b6da\"], [0.4, \"#fde0ef\"], [0.5, \"#f7f7f7\"], [0.6, \"#e6f5d0\"], [0.7, \"#b8e186\"], [0.8, \"#7fbc41\"], [0.9, \"#4d9221\"], [1, \"#276419\"]], \"sequential\": [[0.0, \"#0d0887\"], [0.1111111111111111, \"#46039f\"], [0.2222222222222222, \"#7201a8\"], [0.3333333333333333, \"#9c179e\"], [0.4444444444444444, \"#bd3786\"], [0.5555555555555556, \"#d8576b\"], [0.6666666666666666, \"#ed7953\"], [0.7777777777777778, \"#fb9f3a\"], [0.8888888888888888, \"#fdca26\"], [1.0, \"#f0f921\"]], \"sequentialminus\": [[0.0, \"#0d0887\"], [0.1111111111111111, \"#46039f\"], [0.2222222222222222, \"#7201a8\"], [0.3333333333333333, \"#9c179e\"], [0.4444444444444444, \"#bd3786\"], [0.5555555555555556, \"#d8576b\"], [0.6666666666666666, \"#ed7953\"], [0.7777777777777778, \"#fb9f3a\"], [0.8888888888888888, \"#fdca26\"], [1.0, \"#f0f921\"]]}, \"colorway\": [\"#636efa\", \"#EF553B\", \"#00cc96\", \"#ab63fa\", \"#FFA15A\", \"#19d3f3\", \"#FF6692\", \"#B6E880\", \"#FF97FF\", \"#FECB52\"], \"font\": {\"color\": \"#2a3f5f\"}, \"geo\": {\"bgcolor\": \"white\", \"lakecolor\": \"white\", \"landcolor\": \"#E5ECF6\", \"showlakes\": true, \"showland\": true, \"subunitcolor\": \"white\"}, \"hoverlabel\": {\"align\": \"left\"}, \"hovermode\": \"closest\", \"mapbox\": {\"style\": \"light\"}, \"paper_bgcolor\": \"white\", \"plot_bgcolor\": \"#E5ECF6\", \"polar\": {\"angularaxis\": {\"gridcolor\": \"white\", \"linecolor\": \"white\", \"ticks\": \"\"}, \"bgcolor\": \"#E5ECF6\", \"radialaxis\": {\"gridcolor\": \"white\", \"linecolor\": \"white\", \"ticks\": \"\"}}, \"scene\": {\"xaxis\": {\"backgroundcolor\": \"#E5ECF6\", \"gridcolor\": \"white\", \"gridwidth\": 2, \"linecolor\": \"white\", \"showbackground\": true, \"ticks\": \"\", \"zerolinecolor\": \"white\"}, \"yaxis\": {\"backgroundcolor\": \"#E5ECF6\", \"gridcolor\": \"white\", \"gridwidth\": 2, \"linecolor\": \"white\", \"showbackground\": true, \"ticks\": \"\", \"zerolinecolor\": \"white\"}, \"zaxis\": {\"backgroundcolor\": \"#E5ECF6\", \"gridcolor\": \"white\", \"gridwidth\": 2, \"linecolor\": \"white\", \"showbackground\": true, \"ticks\": \"\", \"zerolinecolor\": \"white\"}}, \"shapedefaults\": {\"line\": {\"color\": \"#2a3f5f\"}}, \"ternary\": {\"aaxis\": {\"gridcolor\": \"white\", \"linecolor\": \"white\", \"ticks\": \"\"}, \"baxis\": {\"gridcolor\": \"white\", \"linecolor\": \"white\", \"ticks\": \"\"}, \"bgcolor\": \"#E5ECF6\", \"caxis\": {\"gridcolor\": \"white\", \"linecolor\": \"white\", \"ticks\": \"\"}}, \"title\": {\"x\": 0.05}, \"xaxis\": {\"automargin\": true, \"gridcolor\": \"white\", \"linecolor\": \"white\", \"ticks\": \"\", \"title\": {\"standoff\": 15}, \"zerolinecolor\": \"white\", \"zerolinewidth\": 2}, \"yaxis\": {\"automargin\": true, \"gridcolor\": \"white\", \"linecolor\": \"white\", \"ticks\": \"\", \"title\": {\"standoff\": 15}, \"zerolinecolor\": \"white\", \"zerolinewidth\": 2}}}, \"title\": {\"text\": \"Probability Functions\"}, \"xaxis\": {\"tickfont\": {\"size\": 14}}, \"yaxis\": {\"tickfont\": {\"size\": 14}, \"title\": {\"font\": {\"size\": 16}, \"text\": \"Probability\"}}},\n",
       "                        {\"responsive\": true}\n",
       "                    ).then(function(){\n",
       "                            \n",
       "var gd = document.getElementById('c5453e3e-e4e0-4baa-82ac-35ef96940f1b');\n",
       "var x = new MutationObserver(function (mutations, observer) {{\n",
       "        var display = window.getComputedStyle(gd).display;\n",
       "        if (!display || display === 'none') {{\n",
       "            console.log([gd, 'removed!']);\n",
       "            Plotly.purge(gd);\n",
       "            observer.disconnect();\n",
       "        }}\n",
       "}});\n",
       "\n",
       "// Listen for the removal of the full notebook cells\n",
       "var notebookContainer = gd.closest('#notebook-container');\n",
       "if (notebookContainer) {{\n",
       "    x.observe(notebookContainer, {childList: true});\n",
       "}}\n",
       "\n",
       "// Listen for the clearing of the current output cell\n",
       "var outputEl = gd.closest('.output');\n",
       "if (outputEl) {{\n",
       "    x.observe(outputEl, {childList: true});\n",
       "}}\n",
       "\n",
       "                        })\n",
       "                };\n",
       "                \n",
       "            </script>\n",
       "        </div>\n",
       "</body>\n",
       "</html>"
      ]
     },
     "metadata": {},
     "output_type": "display_data"
    }
   ],
   "source": [
    "Pr_x = np.arange(-10, 6)\n",
    "Pr = get_P(Pr_x, -5, 2)\n",
    "Pr[11:] = 0\n",
    "\n",
    "Pg_x = np.arange(-10, 6)\n",
    "Pg = get_P(Pg_x, 0, 2)\n",
    "Pg[:5] = 0\n",
    "Pg[16:] = 0\n",
    "\n",
    "plot_Pxs(Pr, Pr_x, Pg, Pg_x)"
   ]
  },
  {
   "cell_type": "code",
   "execution_count": null,
   "metadata": {
    "colab": {
     "base_uri": "https://localhost:8080/"
    },
    "id": "JAQNC7jGp406",
    "outputId": "2d7c6599-7393-4a1a-fcf3-c8a9fb152457"
   },
   "outputs": [
    {
     "data": {
      "text/plain": [
       "array([       inf,        inf,        inf,        inf,        inf,\n",
       "       0.4174043 , 0.1744795 , 0.018728  , 0.01527972, 0.09599666,\n",
       "       0.16034543, 0.17518836, 0.12133915, 0.06578665, 0.02791788,\n",
       "       0.00927234])"
      ]
     },
     "execution_count": 38,
     "metadata": {},
     "output_type": "execute_result"
    }
   ],
   "source": [
    "kl_div(Pr, Pg)"
   ]
  },
  {
   "cell_type": "code",
   "execution_count": null,
   "metadata": {
    "colab": {
     "base_uri": "https://localhost:8080/"
    },
    "id": "WQau6gD6qoiZ",
    "outputId": "a9a4632b-b986-4392-e877-274e019795b1"
   },
   "outputs": [
    {
     "data": {
      "text/plain": [
       "array([0.00927234, 0.02791788, 0.06578665, 0.12133915, 0.17518836,\n",
       "       0.16034543, 0.09599666, 0.01527972, 0.018728  , 0.1744795 ,\n",
       "       0.4174043 ,        inf,        inf,        inf,        inf,\n",
       "              inf])"
      ]
     },
     "execution_count": 39,
     "metadata": {},
     "output_type": "execute_result"
    }
   ],
   "source": [
    "kl_div(Pg, Pr)"
   ]
  },
  {
   "cell_type": "code",
   "execution_count": null,
   "metadata": {
    "colab": {
     "base_uri": "https://localhost:8080/",
     "height": 542
    },
    "id": "7u4Wzo6dwImW",
    "outputId": "4c568336-d977-4c0e-811e-a54c9d47f0ff"
   },
   "outputs": [
    {
     "data": {
      "text/html": [
       "<html>\n",
       "<head><meta charset=\"utf-8\" /></head>\n",
       "<body>\n",
       "    <div>\n",
       "            <script src=\"https://cdnjs.cloudflare.com/ajax/libs/mathjax/2.7.5/MathJax.js?config=TeX-AMS-MML_SVG\"></script><script type=\"text/javascript\">if (window.MathJax) {MathJax.Hub.Config({SVG: {font: \"STIX-Web\"}});}</script>\n",
       "                <script type=\"text/javascript\">window.PlotlyConfig = {MathJaxConfig: 'local'};</script>\n",
       "        <script src=\"https://cdn.plot.ly/plotly-latest.min.js\"></script>    \n",
       "            <div id=\"d02b55b9-3064-4130-ab69-43b5d72afba5\" class=\"plotly-graph-div\" style=\"height:525px; width:100%;\"></div>\n",
       "            <script type=\"text/javascript\">\n",
       "                \n",
       "                    window.PLOTLYENV=window.PLOTLYENV || {};\n",
       "                    \n",
       "                if (document.getElementById(\"d02b55b9-3064-4130-ab69-43b5d72afba5\")) {\n",
       "                    Plotly.newPlot(\n",
       "                        'd02b55b9-3064-4130-ab69-43b5d72afba5',\n",
       "                        [{\"type\": \"scatter\", \"x\": [-10, -9, -8, -7, -6, -5, -4, -3, -2, -1, 0, 1, 2, 3, 4, 5], \"y\": [0.0092723395, 0.027917875, 0.0657866504, 0.1213391499, 0.1751883551, 0.16034542709015773, 0.09599666315900524, 0.01527971597752259, 0.01872800098166212, 0.17447949727440198, 0.41740430467516787, null, null, null, null, null]}, {\"type\": \"scatter\", \"x\": [-10, -9, -8, -7, -6, -5, -4, -3, -2, -1, 0, 1, 2, 3, 4, 5], \"y\": [null, null, null, null, null, 0.41740430467516787, 0.17447949727440198, 0.01872800098166212, 0.01527971597752259, 0.09599666315900524, 0.16034542709015773, 0.1751883551, 0.1213391499, 0.0657866504, 0.027917875, 0.0092723395]}],\n",
       "                        {\"legend\": {\"bgcolor\": \"rgba(255, 255, 255, 0)\", \"bordercolor\": \"rgba(255, 255, 255, 0)\", \"x\": 0, \"y\": 1.0}, \"template\": {\"data\": {\"bar\": [{\"error_x\": {\"color\": \"#2a3f5f\"}, \"error_y\": {\"color\": \"#2a3f5f\"}, \"marker\": {\"line\": {\"color\": \"#E5ECF6\", \"width\": 0.5}}, \"type\": \"bar\"}], \"barpolar\": [{\"marker\": {\"line\": {\"color\": \"#E5ECF6\", \"width\": 0.5}}, \"type\": \"barpolar\"}], \"carpet\": [{\"aaxis\": {\"endlinecolor\": \"#2a3f5f\", \"gridcolor\": \"white\", \"linecolor\": \"white\", \"minorgridcolor\": \"white\", \"startlinecolor\": \"#2a3f5f\"}, \"baxis\": {\"endlinecolor\": \"#2a3f5f\", \"gridcolor\": \"white\", \"linecolor\": \"white\", \"minorgridcolor\": \"white\", \"startlinecolor\": \"#2a3f5f\"}, \"type\": \"carpet\"}], \"choropleth\": [{\"colorbar\": {\"outlinewidth\": 0, \"ticks\": \"\"}, \"type\": \"choropleth\"}], \"contour\": [{\"colorbar\": {\"outlinewidth\": 0, \"ticks\": \"\"}, \"colorscale\": [[0.0, \"#0d0887\"], [0.1111111111111111, \"#46039f\"], [0.2222222222222222, \"#7201a8\"], [0.3333333333333333, \"#9c179e\"], [0.4444444444444444, \"#bd3786\"], [0.5555555555555556, \"#d8576b\"], [0.6666666666666666, \"#ed7953\"], [0.7777777777777778, \"#fb9f3a\"], [0.8888888888888888, \"#fdca26\"], [1.0, \"#f0f921\"]], \"type\": \"contour\"}], \"contourcarpet\": [{\"colorbar\": {\"outlinewidth\": 0, \"ticks\": \"\"}, \"type\": \"contourcarpet\"}], \"heatmap\": [{\"colorbar\": {\"outlinewidth\": 0, \"ticks\": \"\"}, \"colorscale\": [[0.0, \"#0d0887\"], [0.1111111111111111, \"#46039f\"], [0.2222222222222222, \"#7201a8\"], [0.3333333333333333, \"#9c179e\"], [0.4444444444444444, \"#bd3786\"], [0.5555555555555556, \"#d8576b\"], [0.6666666666666666, \"#ed7953\"], [0.7777777777777778, \"#fb9f3a\"], [0.8888888888888888, \"#fdca26\"], [1.0, \"#f0f921\"]], \"type\": \"heatmap\"}], \"heatmapgl\": [{\"colorbar\": {\"outlinewidth\": 0, \"ticks\": \"\"}, \"colorscale\": [[0.0, \"#0d0887\"], [0.1111111111111111, \"#46039f\"], [0.2222222222222222, \"#7201a8\"], [0.3333333333333333, \"#9c179e\"], [0.4444444444444444, \"#bd3786\"], [0.5555555555555556, \"#d8576b\"], [0.6666666666666666, \"#ed7953\"], [0.7777777777777778, \"#fb9f3a\"], [0.8888888888888888, \"#fdca26\"], [1.0, \"#f0f921\"]], \"type\": \"heatmapgl\"}], \"histogram\": [{\"marker\": {\"colorbar\": {\"outlinewidth\": 0, \"ticks\": \"\"}}, \"type\": \"histogram\"}], \"histogram2d\": [{\"colorbar\": {\"outlinewidth\": 0, \"ticks\": \"\"}, \"colorscale\": [[0.0, \"#0d0887\"], [0.1111111111111111, \"#46039f\"], [0.2222222222222222, \"#7201a8\"], [0.3333333333333333, \"#9c179e\"], [0.4444444444444444, \"#bd3786\"], [0.5555555555555556, \"#d8576b\"], [0.6666666666666666, \"#ed7953\"], [0.7777777777777778, \"#fb9f3a\"], [0.8888888888888888, \"#fdca26\"], [1.0, \"#f0f921\"]], \"type\": \"histogram2d\"}], \"histogram2dcontour\": [{\"colorbar\": {\"outlinewidth\": 0, \"ticks\": \"\"}, \"colorscale\": [[0.0, \"#0d0887\"], [0.1111111111111111, \"#46039f\"], [0.2222222222222222, \"#7201a8\"], [0.3333333333333333, \"#9c179e\"], [0.4444444444444444, \"#bd3786\"], [0.5555555555555556, \"#d8576b\"], [0.6666666666666666, \"#ed7953\"], [0.7777777777777778, \"#fb9f3a\"], [0.8888888888888888, \"#fdca26\"], [1.0, \"#f0f921\"]], \"type\": \"histogram2dcontour\"}], \"mesh3d\": [{\"colorbar\": {\"outlinewidth\": 0, \"ticks\": \"\"}, \"type\": \"mesh3d\"}], \"parcoords\": [{\"line\": {\"colorbar\": {\"outlinewidth\": 0, \"ticks\": \"\"}}, \"type\": \"parcoords\"}], \"pie\": [{\"automargin\": true, \"type\": \"pie\"}], \"scatter\": [{\"marker\": {\"colorbar\": {\"outlinewidth\": 0, \"ticks\": \"\"}}, \"type\": \"scatter\"}], \"scatter3d\": [{\"line\": {\"colorbar\": {\"outlinewidth\": 0, \"ticks\": \"\"}}, \"marker\": {\"colorbar\": {\"outlinewidth\": 0, \"ticks\": \"\"}}, \"type\": \"scatter3d\"}], \"scattercarpet\": [{\"marker\": {\"colorbar\": {\"outlinewidth\": 0, \"ticks\": \"\"}}, \"type\": \"scattercarpet\"}], \"scattergeo\": [{\"marker\": {\"colorbar\": {\"outlinewidth\": 0, \"ticks\": \"\"}}, \"type\": \"scattergeo\"}], \"scattergl\": [{\"marker\": {\"colorbar\": {\"outlinewidth\": 0, \"ticks\": \"\"}}, \"type\": \"scattergl\"}], \"scattermapbox\": [{\"marker\": {\"colorbar\": {\"outlinewidth\": 0, \"ticks\": \"\"}}, \"type\": \"scattermapbox\"}], \"scatterpolar\": [{\"marker\": {\"colorbar\": {\"outlinewidth\": 0, \"ticks\": \"\"}}, \"type\": \"scatterpolar\"}], \"scatterpolargl\": [{\"marker\": {\"colorbar\": {\"outlinewidth\": 0, \"ticks\": \"\"}}, \"type\": \"scatterpolargl\"}], \"scatterternary\": [{\"marker\": {\"colorbar\": {\"outlinewidth\": 0, \"ticks\": \"\"}}, \"type\": \"scatterternary\"}], \"surface\": [{\"colorbar\": {\"outlinewidth\": 0, \"ticks\": \"\"}, \"colorscale\": [[0.0, \"#0d0887\"], [0.1111111111111111, \"#46039f\"], [0.2222222222222222, \"#7201a8\"], [0.3333333333333333, \"#9c179e\"], [0.4444444444444444, \"#bd3786\"], [0.5555555555555556, \"#d8576b\"], [0.6666666666666666, \"#ed7953\"], [0.7777777777777778, \"#fb9f3a\"], [0.8888888888888888, \"#fdca26\"], [1.0, \"#f0f921\"]], \"type\": \"surface\"}], \"table\": [{\"cells\": {\"fill\": {\"color\": \"#EBF0F8\"}, \"line\": {\"color\": \"white\"}}, \"header\": {\"fill\": {\"color\": \"#C8D4E3\"}, \"line\": {\"color\": \"white\"}}, \"type\": \"table\"}]}, \"layout\": {\"annotationdefaults\": {\"arrowcolor\": \"#2a3f5f\", \"arrowhead\": 0, \"arrowwidth\": 1}, \"coloraxis\": {\"colorbar\": {\"outlinewidth\": 0, \"ticks\": \"\"}}, \"colorscale\": {\"diverging\": [[0, \"#8e0152\"], [0.1, \"#c51b7d\"], [0.2, \"#de77ae\"], [0.3, \"#f1b6da\"], [0.4, \"#fde0ef\"], [0.5, \"#f7f7f7\"], [0.6, \"#e6f5d0\"], [0.7, \"#b8e186\"], [0.8, \"#7fbc41\"], [0.9, \"#4d9221\"], [1, \"#276419\"]], \"sequential\": [[0.0, \"#0d0887\"], [0.1111111111111111, \"#46039f\"], [0.2222222222222222, \"#7201a8\"], [0.3333333333333333, \"#9c179e\"], [0.4444444444444444, \"#bd3786\"], [0.5555555555555556, \"#d8576b\"], [0.6666666666666666, \"#ed7953\"], [0.7777777777777778, \"#fb9f3a\"], [0.8888888888888888, \"#fdca26\"], [1.0, \"#f0f921\"]], \"sequentialminus\": [[0.0, \"#0d0887\"], [0.1111111111111111, \"#46039f\"], [0.2222222222222222, \"#7201a8\"], [0.3333333333333333, \"#9c179e\"], [0.4444444444444444, \"#bd3786\"], [0.5555555555555556, \"#d8576b\"], [0.6666666666666666, \"#ed7953\"], [0.7777777777777778, \"#fb9f3a\"], [0.8888888888888888, \"#fdca26\"], [1.0, \"#f0f921\"]]}, \"colorway\": [\"#636efa\", \"#EF553B\", \"#00cc96\", \"#ab63fa\", \"#FFA15A\", \"#19d3f3\", \"#FF6692\", \"#B6E880\", \"#FF97FF\", \"#FECB52\"], \"font\": {\"color\": \"#2a3f5f\"}, \"geo\": {\"bgcolor\": \"white\", \"lakecolor\": \"white\", \"landcolor\": \"#E5ECF6\", \"showlakes\": true, \"showland\": true, \"subunitcolor\": \"white\"}, \"hoverlabel\": {\"align\": \"left\"}, \"hovermode\": \"closest\", \"mapbox\": {\"style\": \"light\"}, \"paper_bgcolor\": \"white\", \"plot_bgcolor\": \"#E5ECF6\", \"polar\": {\"angularaxis\": {\"gridcolor\": \"white\", \"linecolor\": \"white\", \"ticks\": \"\"}, \"bgcolor\": \"#E5ECF6\", \"radialaxis\": {\"gridcolor\": \"white\", \"linecolor\": \"white\", \"ticks\": \"\"}}, \"scene\": {\"xaxis\": {\"backgroundcolor\": \"#E5ECF6\", \"gridcolor\": \"white\", \"gridwidth\": 2, \"linecolor\": \"white\", \"showbackground\": true, \"ticks\": \"\", \"zerolinecolor\": \"white\"}, \"yaxis\": {\"backgroundcolor\": \"#E5ECF6\", \"gridcolor\": \"white\", \"gridwidth\": 2, \"linecolor\": \"white\", \"showbackground\": true, \"ticks\": \"\", \"zerolinecolor\": \"white\"}, \"zaxis\": {\"backgroundcolor\": \"#E5ECF6\", \"gridcolor\": \"white\", \"gridwidth\": 2, \"linecolor\": \"white\", \"showbackground\": true, \"ticks\": \"\", \"zerolinecolor\": \"white\"}}, \"shapedefaults\": {\"line\": {\"color\": \"#2a3f5f\"}}, \"ternary\": {\"aaxis\": {\"gridcolor\": \"white\", \"linecolor\": \"white\", \"ticks\": \"\"}, \"baxis\": {\"gridcolor\": \"white\", \"linecolor\": \"white\", \"ticks\": \"\"}, \"bgcolor\": \"#E5ECF6\", \"caxis\": {\"gridcolor\": \"white\", \"linecolor\": \"white\", \"ticks\": \"\"}}, \"title\": {\"x\": 0.05}, \"xaxis\": {\"automargin\": true, \"gridcolor\": \"white\", \"linecolor\": \"white\", \"ticks\": \"\", \"title\": {\"standoff\": 15}, \"zerolinecolor\": \"white\", \"zerolinewidth\": 2}, \"yaxis\": {\"automargin\": true, \"gridcolor\": \"white\", \"linecolor\": \"white\", \"ticks\": \"\", \"title\": {\"standoff\": 15}, \"zerolinecolor\": \"white\", \"zerolinewidth\": 2}}}, \"title\": {\"text\": \"Distances\"}, \"xaxis\": {\"tickfont\": {\"size\": 14}}, \"yaxis\": {\"tickfont\": {\"size\": 14}, \"title\": {\"font\": {\"size\": 16}, \"text\": \"Distance\"}}},\n",
       "                        {\"responsive\": true}\n",
       "                    ).then(function(){\n",
       "                            \n",
       "var gd = document.getElementById('d02b55b9-3064-4130-ab69-43b5d72afba5');\n",
       "var x = new MutationObserver(function (mutations, observer) {{\n",
       "        var display = window.getComputedStyle(gd).display;\n",
       "        if (!display || display === 'none') {{\n",
       "            console.log([gd, 'removed!']);\n",
       "            Plotly.purge(gd);\n",
       "            observer.disconnect();\n",
       "        }}\n",
       "}});\n",
       "\n",
       "// Listen for the removal of the full notebook cells\n",
       "var notebookContainer = gd.closest('#notebook-container');\n",
       "if (notebookContainer) {{\n",
       "    x.observe(notebookContainer, {childList: true});\n",
       "}}\n",
       "\n",
       "// Listen for the clearing of the current output cell\n",
       "var outputEl = gd.closest('.output');\n",
       "if (outputEl) {{\n",
       "    x.observe(outputEl, {childList: true});\n",
       "}}\n",
       "\n",
       "                        })\n",
       "                };\n",
       "                \n",
       "            </script>\n",
       "        </div>\n",
       "</body>\n",
       "</html>"
      ]
     },
     "metadata": {},
     "output_type": "display_data"
    }
   ],
   "source": [
    "plot_distances([Pr_x, Pg_x], [kl_div(Pg, Pr), kl_div(Pr, Pg)], line=True)"
   ]
  },
  {
   "cell_type": "markdown",
   "metadata": {
    "id": "DLTD82AKhwQP"
   },
   "source": [
    "### Jensen-Shannon Divergence"
   ]
  },
  {
   "cell_type": "markdown",
   "metadata": {
    "id": "SslJAfnAxqan"
   },
   "source": [
    "#### $P_r$ and $P_g$ are joint"
   ]
  },
  {
   "cell_type": "code",
   "execution_count": null,
   "metadata": {
    "colab": {
     "base_uri": "https://localhost:8080/",
     "height": 542
    },
    "id": "jC2G-vyZxqap",
    "outputId": "a8a246b1-763e-42e0-a7aa-4d37cce8dcd7"
   },
   "outputs": [
    {
     "data": {
      "text/html": [
       "<html>\n",
       "<head><meta charset=\"utf-8\" /></head>\n",
       "<body>\n",
       "    <div>\n",
       "            <script src=\"https://cdnjs.cloudflare.com/ajax/libs/mathjax/2.7.5/MathJax.js?config=TeX-AMS-MML_SVG\"></script><script type=\"text/javascript\">if (window.MathJax) {MathJax.Hub.Config({SVG: {font: \"STIX-Web\"}});}</script>\n",
       "                <script type=\"text/javascript\">window.PlotlyConfig = {MathJaxConfig: 'local'};</script>\n",
       "        <script src=\"https://cdn.plot.ly/plotly-latest.min.js\"></script>    \n",
       "            <div id=\"e69382ac-92b1-48e1-b583-770e01cda471\" class=\"plotly-graph-div\" style=\"height:525px; width:100%;\"></div>\n",
       "            <script type=\"text/javascript\">\n",
       "                \n",
       "                    window.PLOTLYENV=window.PLOTLYENV || {};\n",
       "                    \n",
       "                if (document.getElementById(\"e69382ac-92b1-48e1-b583-770e01cda471\")) {\n",
       "                    Plotly.newPlot(\n",
       "                        'e69382ac-92b1-48e1-b583-770e01cda471',\n",
       "                        [{\"name\": \"Probability 1\", \"type\": \"bar\", \"x\": [-10, -9, -8, -7, -6, -5, -4, -3, -2, -1, 0, 1, 2, 3, 4, 5], \"y\": [0.0092723395, 0.027917875, 0.0657866504, 0.1213391499, 0.1751883551, 0.1980026675, 0.1751883551, 0.1213391499, 0.0657866504, 0.027917875, 0.0092723395, 0.0, 0.0, 0.0, 0.0, 0.0]}, {\"name\": \"Probability 2\", \"type\": \"bar\", \"x\": [-10, -9, -8, -7, -6, -5, -4, -3, -2, -1, 0, 1, 2, 3, 4, 5], \"y\": [0.0, 0.0, 0.0, 0.0, 0.0, 0.0092723395, 0.027917875, 0.0657866504, 0.1213391499, 0.1751883551, 0.1980026675, 0.1751883551, 0.1213391499, 0.0657866504, 0.027917875, 0.0092723395]}],\n",
       "                        {\"bargap\": 0.15, \"bargroupgap\": 0.1, \"barmode\": \"group\", \"legend\": {\"bgcolor\": \"rgba(255, 255, 255, 0)\", \"bordercolor\": \"rgba(255, 255, 255, 0)\", \"x\": 0, \"y\": 1.0}, \"template\": {\"data\": {\"bar\": [{\"error_x\": {\"color\": \"#2a3f5f\"}, \"error_y\": {\"color\": \"#2a3f5f\"}, \"marker\": {\"line\": {\"color\": \"#E5ECF6\", \"width\": 0.5}}, \"type\": \"bar\"}], \"barpolar\": [{\"marker\": {\"line\": {\"color\": \"#E5ECF6\", \"width\": 0.5}}, \"type\": \"barpolar\"}], \"carpet\": [{\"aaxis\": {\"endlinecolor\": \"#2a3f5f\", \"gridcolor\": \"white\", \"linecolor\": \"white\", \"minorgridcolor\": \"white\", \"startlinecolor\": \"#2a3f5f\"}, \"baxis\": {\"endlinecolor\": \"#2a3f5f\", \"gridcolor\": \"white\", \"linecolor\": \"white\", \"minorgridcolor\": \"white\", \"startlinecolor\": \"#2a3f5f\"}, \"type\": \"carpet\"}], \"choropleth\": [{\"colorbar\": {\"outlinewidth\": 0, \"ticks\": \"\"}, \"type\": \"choropleth\"}], \"contour\": [{\"colorbar\": {\"outlinewidth\": 0, \"ticks\": \"\"}, \"colorscale\": [[0.0, \"#0d0887\"], [0.1111111111111111, \"#46039f\"], [0.2222222222222222, \"#7201a8\"], [0.3333333333333333, \"#9c179e\"], [0.4444444444444444, \"#bd3786\"], [0.5555555555555556, \"#d8576b\"], [0.6666666666666666, \"#ed7953\"], [0.7777777777777778, \"#fb9f3a\"], [0.8888888888888888, \"#fdca26\"], [1.0, \"#f0f921\"]], \"type\": \"contour\"}], \"contourcarpet\": [{\"colorbar\": {\"outlinewidth\": 0, \"ticks\": \"\"}, \"type\": \"contourcarpet\"}], \"heatmap\": [{\"colorbar\": {\"outlinewidth\": 0, \"ticks\": \"\"}, \"colorscale\": [[0.0, \"#0d0887\"], [0.1111111111111111, \"#46039f\"], [0.2222222222222222, \"#7201a8\"], [0.3333333333333333, \"#9c179e\"], [0.4444444444444444, \"#bd3786\"], [0.5555555555555556, \"#d8576b\"], [0.6666666666666666, \"#ed7953\"], [0.7777777777777778, \"#fb9f3a\"], [0.8888888888888888, \"#fdca26\"], [1.0, \"#f0f921\"]], \"type\": \"heatmap\"}], \"heatmapgl\": [{\"colorbar\": {\"outlinewidth\": 0, \"ticks\": \"\"}, \"colorscale\": [[0.0, \"#0d0887\"], [0.1111111111111111, \"#46039f\"], [0.2222222222222222, \"#7201a8\"], [0.3333333333333333, \"#9c179e\"], [0.4444444444444444, \"#bd3786\"], [0.5555555555555556, \"#d8576b\"], [0.6666666666666666, \"#ed7953\"], [0.7777777777777778, \"#fb9f3a\"], [0.8888888888888888, \"#fdca26\"], [1.0, \"#f0f921\"]], \"type\": \"heatmapgl\"}], \"histogram\": [{\"marker\": {\"colorbar\": {\"outlinewidth\": 0, \"ticks\": \"\"}}, \"type\": \"histogram\"}], \"histogram2d\": [{\"colorbar\": {\"outlinewidth\": 0, \"ticks\": \"\"}, \"colorscale\": [[0.0, \"#0d0887\"], [0.1111111111111111, \"#46039f\"], [0.2222222222222222, \"#7201a8\"], [0.3333333333333333, \"#9c179e\"], [0.4444444444444444, \"#bd3786\"], [0.5555555555555556, \"#d8576b\"], [0.6666666666666666, \"#ed7953\"], [0.7777777777777778, \"#fb9f3a\"], [0.8888888888888888, \"#fdca26\"], [1.0, \"#f0f921\"]], \"type\": \"histogram2d\"}], \"histogram2dcontour\": [{\"colorbar\": {\"outlinewidth\": 0, \"ticks\": \"\"}, \"colorscale\": [[0.0, \"#0d0887\"], [0.1111111111111111, \"#46039f\"], [0.2222222222222222, \"#7201a8\"], [0.3333333333333333, \"#9c179e\"], [0.4444444444444444, \"#bd3786\"], [0.5555555555555556, \"#d8576b\"], [0.6666666666666666, \"#ed7953\"], [0.7777777777777778, \"#fb9f3a\"], [0.8888888888888888, \"#fdca26\"], [1.0, \"#f0f921\"]], \"type\": \"histogram2dcontour\"}], \"mesh3d\": [{\"colorbar\": {\"outlinewidth\": 0, \"ticks\": \"\"}, \"type\": \"mesh3d\"}], \"parcoords\": [{\"line\": {\"colorbar\": {\"outlinewidth\": 0, \"ticks\": \"\"}}, \"type\": \"parcoords\"}], \"pie\": [{\"automargin\": true, \"type\": \"pie\"}], \"scatter\": [{\"marker\": {\"colorbar\": {\"outlinewidth\": 0, \"ticks\": \"\"}}, \"type\": \"scatter\"}], \"scatter3d\": [{\"line\": {\"colorbar\": {\"outlinewidth\": 0, \"ticks\": \"\"}}, \"marker\": {\"colorbar\": {\"outlinewidth\": 0, \"ticks\": \"\"}}, \"type\": \"scatter3d\"}], \"scattercarpet\": [{\"marker\": {\"colorbar\": {\"outlinewidth\": 0, \"ticks\": \"\"}}, \"type\": \"scattercarpet\"}], \"scattergeo\": [{\"marker\": {\"colorbar\": {\"outlinewidth\": 0, \"ticks\": \"\"}}, \"type\": \"scattergeo\"}], \"scattergl\": [{\"marker\": {\"colorbar\": {\"outlinewidth\": 0, \"ticks\": \"\"}}, \"type\": \"scattergl\"}], \"scattermapbox\": [{\"marker\": {\"colorbar\": {\"outlinewidth\": 0, \"ticks\": \"\"}}, \"type\": \"scattermapbox\"}], \"scatterpolar\": [{\"marker\": {\"colorbar\": {\"outlinewidth\": 0, \"ticks\": \"\"}}, \"type\": \"scatterpolar\"}], \"scatterpolargl\": [{\"marker\": {\"colorbar\": {\"outlinewidth\": 0, \"ticks\": \"\"}}, \"type\": \"scatterpolargl\"}], \"scatterternary\": [{\"marker\": {\"colorbar\": {\"outlinewidth\": 0, \"ticks\": \"\"}}, \"type\": \"scatterternary\"}], \"surface\": [{\"colorbar\": {\"outlinewidth\": 0, \"ticks\": \"\"}, \"colorscale\": [[0.0, \"#0d0887\"], [0.1111111111111111, \"#46039f\"], [0.2222222222222222, \"#7201a8\"], [0.3333333333333333, \"#9c179e\"], [0.4444444444444444, \"#bd3786\"], [0.5555555555555556, \"#d8576b\"], [0.6666666666666666, \"#ed7953\"], [0.7777777777777778, \"#fb9f3a\"], [0.8888888888888888, \"#fdca26\"], [1.0, \"#f0f921\"]], \"type\": \"surface\"}], \"table\": [{\"cells\": {\"fill\": {\"color\": \"#EBF0F8\"}, \"line\": {\"color\": \"white\"}}, \"header\": {\"fill\": {\"color\": \"#C8D4E3\"}, \"line\": {\"color\": \"white\"}}, \"type\": \"table\"}]}, \"layout\": {\"annotationdefaults\": {\"arrowcolor\": \"#2a3f5f\", \"arrowhead\": 0, \"arrowwidth\": 1}, \"coloraxis\": {\"colorbar\": {\"outlinewidth\": 0, \"ticks\": \"\"}}, \"colorscale\": {\"diverging\": [[0, \"#8e0152\"], [0.1, \"#c51b7d\"], [0.2, \"#de77ae\"], [0.3, \"#f1b6da\"], [0.4, \"#fde0ef\"], [0.5, \"#f7f7f7\"], [0.6, \"#e6f5d0\"], [0.7, \"#b8e186\"], [0.8, \"#7fbc41\"], [0.9, \"#4d9221\"], [1, \"#276419\"]], \"sequential\": [[0.0, \"#0d0887\"], [0.1111111111111111, \"#46039f\"], [0.2222222222222222, \"#7201a8\"], [0.3333333333333333, \"#9c179e\"], [0.4444444444444444, \"#bd3786\"], [0.5555555555555556, \"#d8576b\"], [0.6666666666666666, \"#ed7953\"], [0.7777777777777778, \"#fb9f3a\"], [0.8888888888888888, \"#fdca26\"], [1.0, \"#f0f921\"]], \"sequentialminus\": [[0.0, \"#0d0887\"], [0.1111111111111111, \"#46039f\"], [0.2222222222222222, \"#7201a8\"], [0.3333333333333333, \"#9c179e\"], [0.4444444444444444, \"#bd3786\"], [0.5555555555555556, \"#d8576b\"], [0.6666666666666666, \"#ed7953\"], [0.7777777777777778, \"#fb9f3a\"], [0.8888888888888888, \"#fdca26\"], [1.0, \"#f0f921\"]]}, \"colorway\": [\"#636efa\", \"#EF553B\", \"#00cc96\", \"#ab63fa\", \"#FFA15A\", \"#19d3f3\", \"#FF6692\", \"#B6E880\", \"#FF97FF\", \"#FECB52\"], \"font\": {\"color\": \"#2a3f5f\"}, \"geo\": {\"bgcolor\": \"white\", \"lakecolor\": \"white\", \"landcolor\": \"#E5ECF6\", \"showlakes\": true, \"showland\": true, \"subunitcolor\": \"white\"}, \"hoverlabel\": {\"align\": \"left\"}, \"hovermode\": \"closest\", \"mapbox\": {\"style\": \"light\"}, \"paper_bgcolor\": \"white\", \"plot_bgcolor\": \"#E5ECF6\", \"polar\": {\"angularaxis\": {\"gridcolor\": \"white\", \"linecolor\": \"white\", \"ticks\": \"\"}, \"bgcolor\": \"#E5ECF6\", \"radialaxis\": {\"gridcolor\": \"white\", \"linecolor\": \"white\", \"ticks\": \"\"}}, \"scene\": {\"xaxis\": {\"backgroundcolor\": \"#E5ECF6\", \"gridcolor\": \"white\", \"gridwidth\": 2, \"linecolor\": \"white\", \"showbackground\": true, \"ticks\": \"\", \"zerolinecolor\": \"white\"}, \"yaxis\": {\"backgroundcolor\": \"#E5ECF6\", \"gridcolor\": \"white\", \"gridwidth\": 2, \"linecolor\": \"white\", \"showbackground\": true, \"ticks\": \"\", \"zerolinecolor\": \"white\"}, \"zaxis\": {\"backgroundcolor\": \"#E5ECF6\", \"gridcolor\": \"white\", \"gridwidth\": 2, \"linecolor\": \"white\", \"showbackground\": true, \"ticks\": \"\", \"zerolinecolor\": \"white\"}}, \"shapedefaults\": {\"line\": {\"color\": \"#2a3f5f\"}}, \"ternary\": {\"aaxis\": {\"gridcolor\": \"white\", \"linecolor\": \"white\", \"ticks\": \"\"}, \"baxis\": {\"gridcolor\": \"white\", \"linecolor\": \"white\", \"ticks\": \"\"}, \"bgcolor\": \"#E5ECF6\", \"caxis\": {\"gridcolor\": \"white\", \"linecolor\": \"white\", \"ticks\": \"\"}}, \"title\": {\"x\": 0.05}, \"xaxis\": {\"automargin\": true, \"gridcolor\": \"white\", \"linecolor\": \"white\", \"ticks\": \"\", \"title\": {\"standoff\": 15}, \"zerolinecolor\": \"white\", \"zerolinewidth\": 2}, \"yaxis\": {\"automargin\": true, \"gridcolor\": \"white\", \"linecolor\": \"white\", \"ticks\": \"\", \"title\": {\"standoff\": 15}, \"zerolinecolor\": \"white\", \"zerolinewidth\": 2}}}, \"title\": {\"text\": \"Probability Functions\"}, \"xaxis\": {\"tickfont\": {\"size\": 14}}, \"yaxis\": {\"tickfont\": {\"size\": 14}, \"title\": {\"font\": {\"size\": 16}, \"text\": \"Probability\"}}},\n",
       "                        {\"responsive\": true}\n",
       "                    ).then(function(){\n",
       "                            \n",
       "var gd = document.getElementById('e69382ac-92b1-48e1-b583-770e01cda471');\n",
       "var x = new MutationObserver(function (mutations, observer) {{\n",
       "        var display = window.getComputedStyle(gd).display;\n",
       "        if (!display || display === 'none') {{\n",
       "            console.log([gd, 'removed!']);\n",
       "            Plotly.purge(gd);\n",
       "            observer.disconnect();\n",
       "        }}\n",
       "}});\n",
       "\n",
       "// Listen for the removal of the full notebook cells\n",
       "var notebookContainer = gd.closest('#notebook-container');\n",
       "if (notebookContainer) {{\n",
       "    x.observe(notebookContainer, {childList: true});\n",
       "}}\n",
       "\n",
       "// Listen for the clearing of the current output cell\n",
       "var outputEl = gd.closest('.output');\n",
       "if (outputEl) {{\n",
       "    x.observe(outputEl, {childList: true});\n",
       "}}\n",
       "\n",
       "                        })\n",
       "                };\n",
       "                \n",
       "            </script>\n",
       "        </div>\n",
       "</body>\n",
       "</html>"
      ]
     },
     "metadata": {},
     "output_type": "display_data"
    }
   ],
   "source": [
    "Pr_x = np.arange(-10, 6)\n",
    "Pr = get_P(Pr_x, -5, 2)\n",
    "Pr[11:] = 0\n",
    "\n",
    "Pg_x = np.arange(-10, 6)\n",
    "Pg = get_P(Pg_x, 0, 2)\n",
    "Pg[:5] = 0\n",
    "Pg[16:] = 0\n",
    "\n",
    "plot_Pxs(Pr, Pr_x, Pg, Pg_x)"
   ]
  },
  {
   "cell_type": "code",
   "execution_count": null,
   "metadata": {
    "colab": {
     "base_uri": "https://localhost:8080/"
    },
    "id": "jMO-C7Zixqar",
    "outputId": "7dd72cf3-02cc-46c6-ea1b-8da2c81a54e1"
   },
   "outputs": [
    {
     "data": {
      "text/plain": [
       "0.8325546111576977"
      ]
     },
     "execution_count": 45,
     "metadata": {},
     "output_type": "execute_result"
    }
   ],
   "source": [
    "jensenshannon(Pr, Pg)"
   ]
  },
  {
   "cell_type": "code",
   "execution_count": null,
   "metadata": {
    "colab": {
     "base_uri": "https://localhost:8080/"
    },
    "id": "yDUeh_Dyxqas",
    "outputId": "3d542adf-b12b-4eca-c09f-2054aab4f23d"
   },
   "outputs": [
    {
     "data": {
      "text/plain": [
       "0.8325546111576977"
      ]
     },
     "execution_count": 46,
     "metadata": {},
     "output_type": "execute_result"
    }
   ],
   "source": [
    "jensenshannon(Pg, Pr)"
   ]
  },
  {
   "cell_type": "markdown",
   "metadata": {
    "id": "og7uFQrZyJtv"
   },
   "source": [
    "#### $P_r$ and $P_g$ are disjunct."
   ]
  },
  {
   "cell_type": "code",
   "execution_count": null,
   "metadata": {
    "colab": {
     "base_uri": "https://localhost:8080/",
     "height": 542
    },
    "id": "eFpIZS2pyJtx",
    "outputId": "e6330b98-4161-4a88-e1bc-6af811dabed2"
   },
   "outputs": [
    {
     "data": {
      "text/html": [
       "<html>\n",
       "<head><meta charset=\"utf-8\" /></head>\n",
       "<body>\n",
       "    <div>\n",
       "            <script src=\"https://cdnjs.cloudflare.com/ajax/libs/mathjax/2.7.5/MathJax.js?config=TeX-AMS-MML_SVG\"></script><script type=\"text/javascript\">if (window.MathJax) {MathJax.Hub.Config({SVG: {font: \"STIX-Web\"}});}</script>\n",
       "                <script type=\"text/javascript\">window.PlotlyConfig = {MathJaxConfig: 'local'};</script>\n",
       "        <script src=\"https://cdn.plot.ly/plotly-latest.min.js\"></script>    \n",
       "            <div id=\"be87c79e-d027-499c-bcb2-276dfca5bba7\" class=\"plotly-graph-div\" style=\"height:525px; width:100%;\"></div>\n",
       "            <script type=\"text/javascript\">\n",
       "                \n",
       "                    window.PLOTLYENV=window.PLOTLYENV || {};\n",
       "                    \n",
       "                if (document.getElementById(\"be87c79e-d027-499c-bcb2-276dfca5bba7\")) {\n",
       "                    Plotly.newPlot(\n",
       "                        'be87c79e-d027-499c-bcb2-276dfca5bba7',\n",
       "                        [{\"name\": \"Probability 1\", \"type\": \"bar\", \"x\": [-10, -9, -8, -7, -6, -5, -4, -3, -2, -1, 0, 1, 2, 3, 4, 5, 6, 7, 8, 9, 10], \"y\": [3.3787e-06, 0.0002292314, 0.0059770364, 0.0605975371, 0.241730342, 0.3829249298, 0.241730342, 0.0605975371, 0.0059770364, 0.0002292314, 0.0, 0.0, 0.0, 0.0, 0.0, 0.0, 0.0, 0.0, 0.0, 0.0, 0.0]}, {\"name\": \"Probability 2\", \"type\": \"bar\", \"x\": [-10, -9, -8, -7, -6, -5, -4, -3, -2, -1, 0, 1, 2, 3, 4, 5, 6, 7, 8, 9, 10], \"y\": [0.0, 0.0, 0.0, 0.0, 0.0, 0.0, 0.0, 0.0, 0.0, 0.0, 0.0, 0.0002292314, 0.0059770364, 0.0605975371, 0.241730342, 0.3829249298, 0.241730342, 0.0605975371, 0.0059770364, 0.0002292314, 3.3787e-06]}],\n",
       "                        {\"bargap\": 0.15, \"bargroupgap\": 0.1, \"barmode\": \"group\", \"legend\": {\"bgcolor\": \"rgba(255, 255, 255, 0)\", \"bordercolor\": \"rgba(255, 255, 255, 0)\", \"x\": 0, \"y\": 1.0}, \"template\": {\"data\": {\"bar\": [{\"error_x\": {\"color\": \"#2a3f5f\"}, \"error_y\": {\"color\": \"#2a3f5f\"}, \"marker\": {\"line\": {\"color\": \"#E5ECF6\", \"width\": 0.5}}, \"type\": \"bar\"}], \"barpolar\": [{\"marker\": {\"line\": {\"color\": \"#E5ECF6\", \"width\": 0.5}}, \"type\": \"barpolar\"}], \"carpet\": [{\"aaxis\": {\"endlinecolor\": \"#2a3f5f\", \"gridcolor\": \"white\", \"linecolor\": \"white\", \"minorgridcolor\": \"white\", \"startlinecolor\": \"#2a3f5f\"}, \"baxis\": {\"endlinecolor\": \"#2a3f5f\", \"gridcolor\": \"white\", \"linecolor\": \"white\", \"minorgridcolor\": \"white\", \"startlinecolor\": \"#2a3f5f\"}, \"type\": \"carpet\"}], \"choropleth\": [{\"colorbar\": {\"outlinewidth\": 0, \"ticks\": \"\"}, \"type\": \"choropleth\"}], \"contour\": [{\"colorbar\": {\"outlinewidth\": 0, \"ticks\": \"\"}, \"colorscale\": [[0.0, \"#0d0887\"], [0.1111111111111111, \"#46039f\"], [0.2222222222222222, \"#7201a8\"], [0.3333333333333333, \"#9c179e\"], [0.4444444444444444, \"#bd3786\"], [0.5555555555555556, \"#d8576b\"], [0.6666666666666666, \"#ed7953\"], [0.7777777777777778, \"#fb9f3a\"], [0.8888888888888888, \"#fdca26\"], [1.0, \"#f0f921\"]], \"type\": \"contour\"}], \"contourcarpet\": [{\"colorbar\": {\"outlinewidth\": 0, \"ticks\": \"\"}, \"type\": \"contourcarpet\"}], \"heatmap\": [{\"colorbar\": {\"outlinewidth\": 0, \"ticks\": \"\"}, \"colorscale\": [[0.0, \"#0d0887\"], [0.1111111111111111, \"#46039f\"], [0.2222222222222222, \"#7201a8\"], [0.3333333333333333, \"#9c179e\"], [0.4444444444444444, \"#bd3786\"], [0.5555555555555556, \"#d8576b\"], [0.6666666666666666, \"#ed7953\"], [0.7777777777777778, \"#fb9f3a\"], [0.8888888888888888, \"#fdca26\"], [1.0, \"#f0f921\"]], \"type\": \"heatmap\"}], \"heatmapgl\": [{\"colorbar\": {\"outlinewidth\": 0, \"ticks\": \"\"}, \"colorscale\": [[0.0, \"#0d0887\"], [0.1111111111111111, \"#46039f\"], [0.2222222222222222, \"#7201a8\"], [0.3333333333333333, \"#9c179e\"], [0.4444444444444444, \"#bd3786\"], [0.5555555555555556, \"#d8576b\"], [0.6666666666666666, \"#ed7953\"], [0.7777777777777778, \"#fb9f3a\"], [0.8888888888888888, \"#fdca26\"], [1.0, \"#f0f921\"]], \"type\": \"heatmapgl\"}], \"histogram\": [{\"marker\": {\"colorbar\": {\"outlinewidth\": 0, \"ticks\": \"\"}}, \"type\": \"histogram\"}], \"histogram2d\": [{\"colorbar\": {\"outlinewidth\": 0, \"ticks\": \"\"}, \"colorscale\": [[0.0, \"#0d0887\"], [0.1111111111111111, \"#46039f\"], [0.2222222222222222, \"#7201a8\"], [0.3333333333333333, \"#9c179e\"], [0.4444444444444444, \"#bd3786\"], [0.5555555555555556, \"#d8576b\"], [0.6666666666666666, \"#ed7953\"], [0.7777777777777778, \"#fb9f3a\"], [0.8888888888888888, \"#fdca26\"], [1.0, \"#f0f921\"]], \"type\": \"histogram2d\"}], \"histogram2dcontour\": [{\"colorbar\": {\"outlinewidth\": 0, \"ticks\": \"\"}, \"colorscale\": [[0.0, \"#0d0887\"], [0.1111111111111111, \"#46039f\"], [0.2222222222222222, \"#7201a8\"], [0.3333333333333333, \"#9c179e\"], [0.4444444444444444, \"#bd3786\"], [0.5555555555555556, \"#d8576b\"], [0.6666666666666666, \"#ed7953\"], [0.7777777777777778, \"#fb9f3a\"], [0.8888888888888888, \"#fdca26\"], [1.0, \"#f0f921\"]], \"type\": \"histogram2dcontour\"}], \"mesh3d\": [{\"colorbar\": {\"outlinewidth\": 0, \"ticks\": \"\"}, \"type\": \"mesh3d\"}], \"parcoords\": [{\"line\": {\"colorbar\": {\"outlinewidth\": 0, \"ticks\": \"\"}}, \"type\": \"parcoords\"}], \"pie\": [{\"automargin\": true, \"type\": \"pie\"}], \"scatter\": [{\"marker\": {\"colorbar\": {\"outlinewidth\": 0, \"ticks\": \"\"}}, \"type\": \"scatter\"}], \"scatter3d\": [{\"line\": {\"colorbar\": {\"outlinewidth\": 0, \"ticks\": \"\"}}, \"marker\": {\"colorbar\": {\"outlinewidth\": 0, \"ticks\": \"\"}}, \"type\": \"scatter3d\"}], \"scattercarpet\": [{\"marker\": {\"colorbar\": {\"outlinewidth\": 0, \"ticks\": \"\"}}, \"type\": \"scattercarpet\"}], \"scattergeo\": [{\"marker\": {\"colorbar\": {\"outlinewidth\": 0, \"ticks\": \"\"}}, \"type\": \"scattergeo\"}], \"scattergl\": [{\"marker\": {\"colorbar\": {\"outlinewidth\": 0, \"ticks\": \"\"}}, \"type\": \"scattergl\"}], \"scattermapbox\": [{\"marker\": {\"colorbar\": {\"outlinewidth\": 0, \"ticks\": \"\"}}, \"type\": \"scattermapbox\"}], \"scatterpolar\": [{\"marker\": {\"colorbar\": {\"outlinewidth\": 0, \"ticks\": \"\"}}, \"type\": \"scatterpolar\"}], \"scatterpolargl\": [{\"marker\": {\"colorbar\": {\"outlinewidth\": 0, \"ticks\": \"\"}}, \"type\": \"scatterpolargl\"}], \"scatterternary\": [{\"marker\": {\"colorbar\": {\"outlinewidth\": 0, \"ticks\": \"\"}}, \"type\": \"scatterternary\"}], \"surface\": [{\"colorbar\": {\"outlinewidth\": 0, \"ticks\": \"\"}, \"colorscale\": [[0.0, \"#0d0887\"], [0.1111111111111111, \"#46039f\"], [0.2222222222222222, \"#7201a8\"], [0.3333333333333333, \"#9c179e\"], [0.4444444444444444, \"#bd3786\"], [0.5555555555555556, \"#d8576b\"], [0.6666666666666666, \"#ed7953\"], [0.7777777777777778, \"#fb9f3a\"], [0.8888888888888888, \"#fdca26\"], [1.0, \"#f0f921\"]], \"type\": \"surface\"}], \"table\": [{\"cells\": {\"fill\": {\"color\": \"#EBF0F8\"}, \"line\": {\"color\": \"white\"}}, \"header\": {\"fill\": {\"color\": \"#C8D4E3\"}, \"line\": {\"color\": \"white\"}}, \"type\": \"table\"}]}, \"layout\": {\"annotationdefaults\": {\"arrowcolor\": \"#2a3f5f\", \"arrowhead\": 0, \"arrowwidth\": 1}, \"coloraxis\": {\"colorbar\": {\"outlinewidth\": 0, \"ticks\": \"\"}}, \"colorscale\": {\"diverging\": [[0, \"#8e0152\"], [0.1, \"#c51b7d\"], [0.2, \"#de77ae\"], [0.3, \"#f1b6da\"], [0.4, \"#fde0ef\"], [0.5, \"#f7f7f7\"], [0.6, \"#e6f5d0\"], [0.7, \"#b8e186\"], [0.8, \"#7fbc41\"], [0.9, \"#4d9221\"], [1, \"#276419\"]], \"sequential\": [[0.0, \"#0d0887\"], [0.1111111111111111, \"#46039f\"], [0.2222222222222222, \"#7201a8\"], [0.3333333333333333, \"#9c179e\"], [0.4444444444444444, \"#bd3786\"], [0.5555555555555556, \"#d8576b\"], [0.6666666666666666, \"#ed7953\"], [0.7777777777777778, \"#fb9f3a\"], [0.8888888888888888, \"#fdca26\"], [1.0, \"#f0f921\"]], \"sequentialminus\": [[0.0, \"#0d0887\"], [0.1111111111111111, \"#46039f\"], [0.2222222222222222, \"#7201a8\"], [0.3333333333333333, \"#9c179e\"], [0.4444444444444444, \"#bd3786\"], [0.5555555555555556, \"#d8576b\"], [0.6666666666666666, \"#ed7953\"], [0.7777777777777778, \"#fb9f3a\"], [0.8888888888888888, \"#fdca26\"], [1.0, \"#f0f921\"]]}, \"colorway\": [\"#636efa\", \"#EF553B\", \"#00cc96\", \"#ab63fa\", \"#FFA15A\", \"#19d3f3\", \"#FF6692\", \"#B6E880\", \"#FF97FF\", \"#FECB52\"], \"font\": {\"color\": \"#2a3f5f\"}, \"geo\": {\"bgcolor\": \"white\", \"lakecolor\": \"white\", \"landcolor\": \"#E5ECF6\", \"showlakes\": true, \"showland\": true, \"subunitcolor\": \"white\"}, \"hoverlabel\": {\"align\": \"left\"}, \"hovermode\": \"closest\", \"mapbox\": {\"style\": \"light\"}, \"paper_bgcolor\": \"white\", \"plot_bgcolor\": \"#E5ECF6\", \"polar\": {\"angularaxis\": {\"gridcolor\": \"white\", \"linecolor\": \"white\", \"ticks\": \"\"}, \"bgcolor\": \"#E5ECF6\", \"radialaxis\": {\"gridcolor\": \"white\", \"linecolor\": \"white\", \"ticks\": \"\"}}, \"scene\": {\"xaxis\": {\"backgroundcolor\": \"#E5ECF6\", \"gridcolor\": \"white\", \"gridwidth\": 2, \"linecolor\": \"white\", \"showbackground\": true, \"ticks\": \"\", \"zerolinecolor\": \"white\"}, \"yaxis\": {\"backgroundcolor\": \"#E5ECF6\", \"gridcolor\": \"white\", \"gridwidth\": 2, \"linecolor\": \"white\", \"showbackground\": true, \"ticks\": \"\", \"zerolinecolor\": \"white\"}, \"zaxis\": {\"backgroundcolor\": \"#E5ECF6\", \"gridcolor\": \"white\", \"gridwidth\": 2, \"linecolor\": \"white\", \"showbackground\": true, \"ticks\": \"\", \"zerolinecolor\": \"white\"}}, \"shapedefaults\": {\"line\": {\"color\": \"#2a3f5f\"}}, \"ternary\": {\"aaxis\": {\"gridcolor\": \"white\", \"linecolor\": \"white\", \"ticks\": \"\"}, \"baxis\": {\"gridcolor\": \"white\", \"linecolor\": \"white\", \"ticks\": \"\"}, \"bgcolor\": \"#E5ECF6\", \"caxis\": {\"gridcolor\": \"white\", \"linecolor\": \"white\", \"ticks\": \"\"}}, \"title\": {\"x\": 0.05}, \"xaxis\": {\"automargin\": true, \"gridcolor\": \"white\", \"linecolor\": \"white\", \"ticks\": \"\", \"title\": {\"standoff\": 15}, \"zerolinecolor\": \"white\", \"zerolinewidth\": 2}, \"yaxis\": {\"automargin\": true, \"gridcolor\": \"white\", \"linecolor\": \"white\", \"ticks\": \"\", \"title\": {\"standoff\": 15}, \"zerolinecolor\": \"white\", \"zerolinewidth\": 2}}}, \"title\": {\"text\": \"Probability Functions\"}, \"xaxis\": {\"tickfont\": {\"size\": 14}}, \"yaxis\": {\"tickfont\": {\"size\": 14}, \"title\": {\"font\": {\"size\": 16}, \"text\": \"Probability\"}}},\n",
       "                        {\"responsive\": true}\n",
       "                    ).then(function(){\n",
       "                            \n",
       "var gd = document.getElementById('be87c79e-d027-499c-bcb2-276dfca5bba7');\n",
       "var x = new MutationObserver(function (mutations, observer) {{\n",
       "        var display = window.getComputedStyle(gd).display;\n",
       "        if (!display || display === 'none') {{\n",
       "            console.log([gd, 'removed!']);\n",
       "            Plotly.purge(gd);\n",
       "            observer.disconnect();\n",
       "        }}\n",
       "}});\n",
       "\n",
       "// Listen for the removal of the full notebook cells\n",
       "var notebookContainer = gd.closest('#notebook-container');\n",
       "if (notebookContainer) {{\n",
       "    x.observe(notebookContainer, {childList: true});\n",
       "}}\n",
       "\n",
       "// Listen for the clearing of the current output cell\n",
       "var outputEl = gd.closest('.output');\n",
       "if (outputEl) {{\n",
       "    x.observe(outputEl, {childList: true});\n",
       "}}\n",
       "\n",
       "                        })\n",
       "                };\n",
       "                \n",
       "            </script>\n",
       "        </div>\n",
       "</body>\n",
       "</html>"
      ]
     },
     "metadata": {},
     "output_type": "display_data"
    }
   ],
   "source": [
    "Pr_x = np.arange(-10, 11)\n",
    "Pr = get_P(Pr_x, -5, 1)\n",
    "Pr[10:] = 0\n",
    "\n",
    "Pg_x = np.arange(-10, 11)\n",
    "Pg = get_P(Pg_x, 5, 1)\n",
    "Pg[:-10] = 0\n",
    "\n",
    "plot_Pxs(Pr, Pr_x, Pg, Pg_x)"
   ]
  },
  {
   "cell_type": "code",
   "execution_count": null,
   "metadata": {
    "colab": {
     "base_uri": "https://localhost:8080/"
    },
    "id": "os0FyCOiyJty",
    "outputId": "7e539881-a679-4c68-8b64-8889a81593f0"
   },
   "outputs": [
    {
     "data": {
      "text/plain": [
       "0.8325546111576977"
      ]
     },
     "execution_count": 145,
     "metadata": {},
     "output_type": "execute_result"
    }
   ],
   "source": [
    "jensenshannon(Pr, Pg)"
   ]
  },
  {
   "cell_type": "markdown",
   "metadata": {
    "id": "fmOehW4XyjzW"
   },
   "source": [
    "### Wassserstein-1 Distance / Earth-Mover Distance"
   ]
  },
  {
   "cell_type": "markdown",
   "metadata": {
    "id": "k-_GNyRIyjzY"
   },
   "source": [
    "#### $P_r$ and $P_g$ are joint"
   ]
  },
  {
   "cell_type": "code",
   "execution_count": null,
   "metadata": {
    "colab": {
     "base_uri": "https://localhost:8080/",
     "height": 542
    },
    "id": "Rk0mXLn5yjza",
    "outputId": "ad699a3b-5db5-4c9b-b1b2-fab8c0d6c481"
   },
   "outputs": [
    {
     "data": {
      "text/html": [
       "<html>\n",
       "<head><meta charset=\"utf-8\" /></head>\n",
       "<body>\n",
       "    <div>\n",
       "            <script src=\"https://cdnjs.cloudflare.com/ajax/libs/mathjax/2.7.5/MathJax.js?config=TeX-AMS-MML_SVG\"></script><script type=\"text/javascript\">if (window.MathJax) {MathJax.Hub.Config({SVG: {font: \"STIX-Web\"}});}</script>\n",
       "                <script type=\"text/javascript\">window.PlotlyConfig = {MathJaxConfig: 'local'};</script>\n",
       "        <script src=\"https://cdn.plot.ly/plotly-latest.min.js\"></script>    \n",
       "            <div id=\"a74f0672-9478-4921-b91b-8bd2949c2ed3\" class=\"plotly-graph-div\" style=\"height:525px; width:100%;\"></div>\n",
       "            <script type=\"text/javascript\">\n",
       "                \n",
       "                    window.PLOTLYENV=window.PLOTLYENV || {};\n",
       "                    \n",
       "                if (document.getElementById(\"a74f0672-9478-4921-b91b-8bd2949c2ed3\")) {\n",
       "                    Plotly.newPlot(\n",
       "                        'a74f0672-9478-4921-b91b-8bd2949c2ed3',\n",
       "                        [{\"name\": \"Probability 1\", \"type\": \"bar\", \"x\": [-10, -9, -8, -7, -6, -5, -4, -3, -2, -1, 0, 1, 2, 3, 4, 5], \"y\": [0.0092723395, 0.027917875, 0.0657866504, 0.1213391499, 0.1751883551, 0.1980026675, 0.1751883551, 0.1213391499, 0.0657866504, 0.027917875, 0.0092723395, 0.0, 0.0, 0.0, 0.0, 0.0]}, {\"name\": \"Probability 2\", \"type\": \"bar\", \"x\": [-10, -9, -8, -7, -6, -5, -4, -3, -2, -1, 0, 1, 2, 3, 4, 5], \"y\": [0.0, 0.0, 0.0, 0.0, 0.0, 0.0092723395, 0.027917875, 0.0657866504, 0.1213391499, 0.1751883551, 0.1980026675, 0.1751883551, 0.1213391499, 0.0657866504, 0.027917875, 0.0092723395]}],\n",
       "                        {\"bargap\": 0.15, \"bargroupgap\": 0.1, \"barmode\": \"group\", \"legend\": {\"bgcolor\": \"rgba(255, 255, 255, 0)\", \"bordercolor\": \"rgba(255, 255, 255, 0)\", \"x\": 0, \"y\": 1.0}, \"template\": {\"data\": {\"bar\": [{\"error_x\": {\"color\": \"#2a3f5f\"}, \"error_y\": {\"color\": \"#2a3f5f\"}, \"marker\": {\"line\": {\"color\": \"#E5ECF6\", \"width\": 0.5}}, \"type\": \"bar\"}], \"barpolar\": [{\"marker\": {\"line\": {\"color\": \"#E5ECF6\", \"width\": 0.5}}, \"type\": \"barpolar\"}], \"carpet\": [{\"aaxis\": {\"endlinecolor\": \"#2a3f5f\", \"gridcolor\": \"white\", \"linecolor\": \"white\", \"minorgridcolor\": \"white\", \"startlinecolor\": \"#2a3f5f\"}, \"baxis\": {\"endlinecolor\": \"#2a3f5f\", \"gridcolor\": \"white\", \"linecolor\": \"white\", \"minorgridcolor\": \"white\", \"startlinecolor\": \"#2a3f5f\"}, \"type\": \"carpet\"}], \"choropleth\": [{\"colorbar\": {\"outlinewidth\": 0, \"ticks\": \"\"}, \"type\": \"choropleth\"}], \"contour\": [{\"colorbar\": {\"outlinewidth\": 0, \"ticks\": \"\"}, \"colorscale\": [[0.0, \"#0d0887\"], [0.1111111111111111, \"#46039f\"], [0.2222222222222222, \"#7201a8\"], [0.3333333333333333, \"#9c179e\"], [0.4444444444444444, \"#bd3786\"], [0.5555555555555556, \"#d8576b\"], [0.6666666666666666, \"#ed7953\"], [0.7777777777777778, \"#fb9f3a\"], [0.8888888888888888, \"#fdca26\"], [1.0, \"#f0f921\"]], \"type\": \"contour\"}], \"contourcarpet\": [{\"colorbar\": {\"outlinewidth\": 0, \"ticks\": \"\"}, \"type\": \"contourcarpet\"}], \"heatmap\": [{\"colorbar\": {\"outlinewidth\": 0, \"ticks\": \"\"}, \"colorscale\": [[0.0, \"#0d0887\"], [0.1111111111111111, \"#46039f\"], [0.2222222222222222, \"#7201a8\"], [0.3333333333333333, \"#9c179e\"], [0.4444444444444444, \"#bd3786\"], [0.5555555555555556, \"#d8576b\"], [0.6666666666666666, \"#ed7953\"], [0.7777777777777778, \"#fb9f3a\"], [0.8888888888888888, \"#fdca26\"], [1.0, \"#f0f921\"]], \"type\": \"heatmap\"}], \"heatmapgl\": [{\"colorbar\": {\"outlinewidth\": 0, \"ticks\": \"\"}, \"colorscale\": [[0.0, \"#0d0887\"], [0.1111111111111111, \"#46039f\"], [0.2222222222222222, \"#7201a8\"], [0.3333333333333333, \"#9c179e\"], [0.4444444444444444, \"#bd3786\"], [0.5555555555555556, \"#d8576b\"], [0.6666666666666666, \"#ed7953\"], [0.7777777777777778, \"#fb9f3a\"], [0.8888888888888888, \"#fdca26\"], [1.0, \"#f0f921\"]], \"type\": \"heatmapgl\"}], \"histogram\": [{\"marker\": {\"colorbar\": {\"outlinewidth\": 0, \"ticks\": \"\"}}, \"type\": \"histogram\"}], \"histogram2d\": [{\"colorbar\": {\"outlinewidth\": 0, \"ticks\": \"\"}, \"colorscale\": [[0.0, \"#0d0887\"], [0.1111111111111111, \"#46039f\"], [0.2222222222222222, \"#7201a8\"], [0.3333333333333333, \"#9c179e\"], [0.4444444444444444, \"#bd3786\"], [0.5555555555555556, \"#d8576b\"], [0.6666666666666666, \"#ed7953\"], [0.7777777777777778, \"#fb9f3a\"], [0.8888888888888888, \"#fdca26\"], [1.0, \"#f0f921\"]], \"type\": \"histogram2d\"}], \"histogram2dcontour\": [{\"colorbar\": {\"outlinewidth\": 0, \"ticks\": \"\"}, \"colorscale\": [[0.0, \"#0d0887\"], [0.1111111111111111, \"#46039f\"], [0.2222222222222222, \"#7201a8\"], [0.3333333333333333, \"#9c179e\"], [0.4444444444444444, \"#bd3786\"], [0.5555555555555556, \"#d8576b\"], [0.6666666666666666, \"#ed7953\"], [0.7777777777777778, \"#fb9f3a\"], [0.8888888888888888, \"#fdca26\"], [1.0, \"#f0f921\"]], \"type\": \"histogram2dcontour\"}], \"mesh3d\": [{\"colorbar\": {\"outlinewidth\": 0, \"ticks\": \"\"}, \"type\": \"mesh3d\"}], \"parcoords\": [{\"line\": {\"colorbar\": {\"outlinewidth\": 0, \"ticks\": \"\"}}, \"type\": \"parcoords\"}], \"pie\": [{\"automargin\": true, \"type\": \"pie\"}], \"scatter\": [{\"marker\": {\"colorbar\": {\"outlinewidth\": 0, \"ticks\": \"\"}}, \"type\": \"scatter\"}], \"scatter3d\": [{\"line\": {\"colorbar\": {\"outlinewidth\": 0, \"ticks\": \"\"}}, \"marker\": {\"colorbar\": {\"outlinewidth\": 0, \"ticks\": \"\"}}, \"type\": \"scatter3d\"}], \"scattercarpet\": [{\"marker\": {\"colorbar\": {\"outlinewidth\": 0, \"ticks\": \"\"}}, \"type\": \"scattercarpet\"}], \"scattergeo\": [{\"marker\": {\"colorbar\": {\"outlinewidth\": 0, \"ticks\": \"\"}}, \"type\": \"scattergeo\"}], \"scattergl\": [{\"marker\": {\"colorbar\": {\"outlinewidth\": 0, \"ticks\": \"\"}}, \"type\": \"scattergl\"}], \"scattermapbox\": [{\"marker\": {\"colorbar\": {\"outlinewidth\": 0, \"ticks\": \"\"}}, \"type\": \"scattermapbox\"}], \"scatterpolar\": [{\"marker\": {\"colorbar\": {\"outlinewidth\": 0, \"ticks\": \"\"}}, \"type\": \"scatterpolar\"}], \"scatterpolargl\": [{\"marker\": {\"colorbar\": {\"outlinewidth\": 0, \"ticks\": \"\"}}, \"type\": \"scatterpolargl\"}], \"scatterternary\": [{\"marker\": {\"colorbar\": {\"outlinewidth\": 0, \"ticks\": \"\"}}, \"type\": \"scatterternary\"}], \"surface\": [{\"colorbar\": {\"outlinewidth\": 0, \"ticks\": \"\"}, \"colorscale\": [[0.0, \"#0d0887\"], [0.1111111111111111, \"#46039f\"], [0.2222222222222222, \"#7201a8\"], [0.3333333333333333, \"#9c179e\"], [0.4444444444444444, \"#bd3786\"], [0.5555555555555556, \"#d8576b\"], [0.6666666666666666, \"#ed7953\"], [0.7777777777777778, \"#fb9f3a\"], [0.8888888888888888, \"#fdca26\"], [1.0, \"#f0f921\"]], \"type\": \"surface\"}], \"table\": [{\"cells\": {\"fill\": {\"color\": \"#EBF0F8\"}, \"line\": {\"color\": \"white\"}}, \"header\": {\"fill\": {\"color\": \"#C8D4E3\"}, \"line\": {\"color\": \"white\"}}, \"type\": \"table\"}]}, \"layout\": {\"annotationdefaults\": {\"arrowcolor\": \"#2a3f5f\", \"arrowhead\": 0, \"arrowwidth\": 1}, \"coloraxis\": {\"colorbar\": {\"outlinewidth\": 0, \"ticks\": \"\"}}, \"colorscale\": {\"diverging\": [[0, \"#8e0152\"], [0.1, \"#c51b7d\"], [0.2, \"#de77ae\"], [0.3, \"#f1b6da\"], [0.4, \"#fde0ef\"], [0.5, \"#f7f7f7\"], [0.6, \"#e6f5d0\"], [0.7, \"#b8e186\"], [0.8, \"#7fbc41\"], [0.9, \"#4d9221\"], [1, \"#276419\"]], \"sequential\": [[0.0, \"#0d0887\"], [0.1111111111111111, \"#46039f\"], [0.2222222222222222, \"#7201a8\"], [0.3333333333333333, \"#9c179e\"], [0.4444444444444444, \"#bd3786\"], [0.5555555555555556, \"#d8576b\"], [0.6666666666666666, \"#ed7953\"], [0.7777777777777778, \"#fb9f3a\"], [0.8888888888888888, \"#fdca26\"], [1.0, \"#f0f921\"]], \"sequentialminus\": [[0.0, \"#0d0887\"], [0.1111111111111111, \"#46039f\"], [0.2222222222222222, \"#7201a8\"], [0.3333333333333333, \"#9c179e\"], [0.4444444444444444, \"#bd3786\"], [0.5555555555555556, \"#d8576b\"], [0.6666666666666666, \"#ed7953\"], [0.7777777777777778, \"#fb9f3a\"], [0.8888888888888888, \"#fdca26\"], [1.0, \"#f0f921\"]]}, \"colorway\": [\"#636efa\", \"#EF553B\", \"#00cc96\", \"#ab63fa\", \"#FFA15A\", \"#19d3f3\", \"#FF6692\", \"#B6E880\", \"#FF97FF\", \"#FECB52\"], \"font\": {\"color\": \"#2a3f5f\"}, \"geo\": {\"bgcolor\": \"white\", \"lakecolor\": \"white\", \"landcolor\": \"#E5ECF6\", \"showlakes\": true, \"showland\": true, \"subunitcolor\": \"white\"}, \"hoverlabel\": {\"align\": \"left\"}, \"hovermode\": \"closest\", \"mapbox\": {\"style\": \"light\"}, \"paper_bgcolor\": \"white\", \"plot_bgcolor\": \"#E5ECF6\", \"polar\": {\"angularaxis\": {\"gridcolor\": \"white\", \"linecolor\": \"white\", \"ticks\": \"\"}, \"bgcolor\": \"#E5ECF6\", \"radialaxis\": {\"gridcolor\": \"white\", \"linecolor\": \"white\", \"ticks\": \"\"}}, \"scene\": {\"xaxis\": {\"backgroundcolor\": \"#E5ECF6\", \"gridcolor\": \"white\", \"gridwidth\": 2, \"linecolor\": \"white\", \"showbackground\": true, \"ticks\": \"\", \"zerolinecolor\": \"white\"}, \"yaxis\": {\"backgroundcolor\": \"#E5ECF6\", \"gridcolor\": \"white\", \"gridwidth\": 2, \"linecolor\": \"white\", \"showbackground\": true, \"ticks\": \"\", \"zerolinecolor\": \"white\"}, \"zaxis\": {\"backgroundcolor\": \"#E5ECF6\", \"gridcolor\": \"white\", \"gridwidth\": 2, \"linecolor\": \"white\", \"showbackground\": true, \"ticks\": \"\", \"zerolinecolor\": \"white\"}}, \"shapedefaults\": {\"line\": {\"color\": \"#2a3f5f\"}}, \"ternary\": {\"aaxis\": {\"gridcolor\": \"white\", \"linecolor\": \"white\", \"ticks\": \"\"}, \"baxis\": {\"gridcolor\": \"white\", \"linecolor\": \"white\", \"ticks\": \"\"}, \"bgcolor\": \"#E5ECF6\", \"caxis\": {\"gridcolor\": \"white\", \"linecolor\": \"white\", \"ticks\": \"\"}}, \"title\": {\"x\": 0.05}, \"xaxis\": {\"automargin\": true, \"gridcolor\": \"white\", \"linecolor\": \"white\", \"ticks\": \"\", \"title\": {\"standoff\": 15}, \"zerolinecolor\": \"white\", \"zerolinewidth\": 2}, \"yaxis\": {\"automargin\": true, \"gridcolor\": \"white\", \"linecolor\": \"white\", \"ticks\": \"\", \"title\": {\"standoff\": 15}, \"zerolinecolor\": \"white\", \"zerolinewidth\": 2}}}, \"title\": {\"text\": \"Probability Functions\"}, \"xaxis\": {\"tickfont\": {\"size\": 14}}, \"yaxis\": {\"tickfont\": {\"size\": 14}, \"title\": {\"font\": {\"size\": 16}, \"text\": \"Probability\"}}},\n",
       "                        {\"responsive\": true}\n",
       "                    ).then(function(){\n",
       "                            \n",
       "var gd = document.getElementById('a74f0672-9478-4921-b91b-8bd2949c2ed3');\n",
       "var x = new MutationObserver(function (mutations, observer) {{\n",
       "        var display = window.getComputedStyle(gd).display;\n",
       "        if (!display || display === 'none') {{\n",
       "            console.log([gd, 'removed!']);\n",
       "            Plotly.purge(gd);\n",
       "            observer.disconnect();\n",
       "        }}\n",
       "}});\n",
       "\n",
       "// Listen for the removal of the full notebook cells\n",
       "var notebookContainer = gd.closest('#notebook-container');\n",
       "if (notebookContainer) {{\n",
       "    x.observe(notebookContainer, {childList: true});\n",
       "}}\n",
       "\n",
       "// Listen for the clearing of the current output cell\n",
       "var outputEl = gd.closest('.output');\n",
       "if (outputEl) {{\n",
       "    x.observe(outputEl, {childList: true});\n",
       "}}\n",
       "\n",
       "                        })\n",
       "                };\n",
       "                \n",
       "            </script>\n",
       "        </div>\n",
       "</body>\n",
       "</html>"
      ]
     },
     "metadata": {},
     "output_type": "display_data"
    }
   ],
   "source": [
    "Pr_x = np.arange(-10, 6)\n",
    "Pr = get_P(Pr_x, -5, 2)\n",
    "Pr[11:] = 0\n",
    "\n",
    "Pg_x = np.arange(-10, 6)\n",
    "Pg = get_P(Pg_x, 0, 2)\n",
    "Pg[:5] = 0\n",
    "Pg[16:] = 0\n",
    "\n",
    "plot_Pxs(Pr, Pr_x, Pg, Pg_x)"
   ]
  },
  {
   "cell_type": "code",
   "execution_count": null,
   "metadata": {
    "colab": {
     "base_uri": "https://localhost:8080/"
    },
    "id": "IS3diwtOyjzb",
    "outputId": "a36f61fd-dae5-42ee-e7f4-097d78a9fdb5"
   },
   "outputs": [
    {
     "data": {
      "text/plain": [
       "5.0"
      ]
     },
     "execution_count": 50,
     "metadata": {},
     "output_type": "execute_result"
    }
   ],
   "source": [
    "wasserstein_distance(Pr_x, Pg_x, Pr, Pg)"
   ]
  },
  {
   "cell_type": "code",
   "execution_count": null,
   "metadata": {
    "colab": {
     "base_uri": "https://localhost:8080/"
    },
    "id": "u6VUCmYhyjzc",
    "outputId": "7450b8cb-aa62-4748-a108-e232f3801ff6"
   },
   "outputs": [
    {
     "data": {
      "text/plain": [
       "5.0"
      ]
     },
     "execution_count": 51,
     "metadata": {},
     "output_type": "execute_result"
    }
   ],
   "source": [
    "wasserstein_distance(Pg_x, Pr_x, Pg, Pr)"
   ]
  },
  {
   "cell_type": "markdown",
   "metadata": {
    "id": "tBU1awQqz2SD"
   },
   "source": [
    "## 2. Why Wasserstein Distance?"
   ]
  },
  {
   "cell_type": "markdown",
   "metadata": {
    "id": "aARv-FXu6N6E"
   },
   "source": [
    "### When $\\theta$ = 1"
   ]
  },
  {
   "cell_type": "code",
   "execution_count": null,
   "metadata": {
    "colab": {
     "base_uri": "https://localhost:8080/",
     "height": 542
    },
    "id": "wA9vkyRo4McO",
    "outputId": "9b2af9e2-e930-47e9-918d-2f2ca44d7b10"
   },
   "outputs": [
    {
     "data": {
      "text/html": [
       "<html>\n",
       "<head><meta charset=\"utf-8\" /></head>\n",
       "<body>\n",
       "    <div>\n",
       "            <script src=\"https://cdnjs.cloudflare.com/ajax/libs/mathjax/2.7.5/MathJax.js?config=TeX-AMS-MML_SVG\"></script><script type=\"text/javascript\">if (window.MathJax) {MathJax.Hub.Config({SVG: {font: \"STIX-Web\"}});}</script>\n",
       "                <script type=\"text/javascript\">window.PlotlyConfig = {MathJaxConfig: 'local'};</script>\n",
       "        <script src=\"https://cdn.plot.ly/plotly-latest.min.js\"></script>    \n",
       "            <div id=\"b0b3a28b-37da-42d8-810f-34a669f5f6ed\" class=\"plotly-graph-div\" style=\"height:525px; width:100%;\"></div>\n",
       "            <script type=\"text/javascript\">\n",
       "                \n",
       "                    window.PLOTLYENV=window.PLOTLYENV || {};\n",
       "                    \n",
       "                if (document.getElementById(\"b0b3a28b-37da-42d8-810f-34a669f5f6ed\")) {\n",
       "                    Plotly.newPlot(\n",
       "                        'b0b3a28b-37da-42d8-810f-34a669f5f6ed',\n",
       "                        [{\"name\": \"Probability 1\", \"type\": \"bar\", \"x\": [0.0, 0.1, 0.2, 0.30000000000000004, 0.4, 0.5, 0.6000000000000001, 0.7000000000000001, 0.8, 0.9, 1.0], \"y\": [1.0, 0.0, 0.0, 0.0, 0.0, 0.0, 0.0, 0.0, 0.0, 0.0, 0.0]}, {\"name\": \"Probability 2\", \"type\": \"bar\", \"x\": [0.0, 0.1, 0.2, 0.30000000000000004, 0.4, 0.5, 0.6000000000000001, 0.7000000000000001, 0.8, 0.9, 1.0], \"y\": [0.0, 0.0, 0.0, 0.0, 0.0, 0.0, 0.0, 0.0, 0.0, 0.0, 1.0]}],\n",
       "                        {\"bargap\": 0.15, \"bargroupgap\": 0.1, \"barmode\": \"group\", \"legend\": {\"bgcolor\": \"rgba(255, 255, 255, 0)\", \"bordercolor\": \"rgba(255, 255, 255, 0)\", \"x\": 0, \"y\": 1.0}, \"template\": {\"data\": {\"bar\": [{\"error_x\": {\"color\": \"#2a3f5f\"}, \"error_y\": {\"color\": \"#2a3f5f\"}, \"marker\": {\"line\": {\"color\": \"#E5ECF6\", \"width\": 0.5}}, \"type\": \"bar\"}], \"barpolar\": [{\"marker\": {\"line\": {\"color\": \"#E5ECF6\", \"width\": 0.5}}, \"type\": \"barpolar\"}], \"carpet\": [{\"aaxis\": {\"endlinecolor\": \"#2a3f5f\", \"gridcolor\": \"white\", \"linecolor\": \"white\", \"minorgridcolor\": \"white\", \"startlinecolor\": \"#2a3f5f\"}, \"baxis\": {\"endlinecolor\": \"#2a3f5f\", \"gridcolor\": \"white\", \"linecolor\": \"white\", \"minorgridcolor\": \"white\", \"startlinecolor\": \"#2a3f5f\"}, \"type\": \"carpet\"}], \"choropleth\": [{\"colorbar\": {\"outlinewidth\": 0, \"ticks\": \"\"}, \"type\": \"choropleth\"}], \"contour\": [{\"colorbar\": {\"outlinewidth\": 0, \"ticks\": \"\"}, \"colorscale\": [[0.0, \"#0d0887\"], [0.1111111111111111, \"#46039f\"], [0.2222222222222222, \"#7201a8\"], [0.3333333333333333, \"#9c179e\"], [0.4444444444444444, \"#bd3786\"], [0.5555555555555556, \"#d8576b\"], [0.6666666666666666, \"#ed7953\"], [0.7777777777777778, \"#fb9f3a\"], [0.8888888888888888, \"#fdca26\"], [1.0, \"#f0f921\"]], \"type\": \"contour\"}], \"contourcarpet\": [{\"colorbar\": {\"outlinewidth\": 0, \"ticks\": \"\"}, \"type\": \"contourcarpet\"}], \"heatmap\": [{\"colorbar\": {\"outlinewidth\": 0, \"ticks\": \"\"}, \"colorscale\": [[0.0, \"#0d0887\"], [0.1111111111111111, \"#46039f\"], [0.2222222222222222, \"#7201a8\"], [0.3333333333333333, \"#9c179e\"], [0.4444444444444444, \"#bd3786\"], [0.5555555555555556, \"#d8576b\"], [0.6666666666666666, \"#ed7953\"], [0.7777777777777778, \"#fb9f3a\"], [0.8888888888888888, \"#fdca26\"], [1.0, \"#f0f921\"]], \"type\": \"heatmap\"}], \"heatmapgl\": [{\"colorbar\": {\"outlinewidth\": 0, \"ticks\": \"\"}, \"colorscale\": [[0.0, \"#0d0887\"], [0.1111111111111111, \"#46039f\"], [0.2222222222222222, \"#7201a8\"], [0.3333333333333333, \"#9c179e\"], [0.4444444444444444, \"#bd3786\"], [0.5555555555555556, \"#d8576b\"], [0.6666666666666666, \"#ed7953\"], [0.7777777777777778, \"#fb9f3a\"], [0.8888888888888888, \"#fdca26\"], [1.0, \"#f0f921\"]], \"type\": \"heatmapgl\"}], \"histogram\": [{\"marker\": {\"colorbar\": {\"outlinewidth\": 0, \"ticks\": \"\"}}, \"type\": \"histogram\"}], \"histogram2d\": [{\"colorbar\": {\"outlinewidth\": 0, \"ticks\": \"\"}, \"colorscale\": [[0.0, \"#0d0887\"], [0.1111111111111111, \"#46039f\"], [0.2222222222222222, \"#7201a8\"], [0.3333333333333333, \"#9c179e\"], [0.4444444444444444, \"#bd3786\"], [0.5555555555555556, \"#d8576b\"], [0.6666666666666666, \"#ed7953\"], [0.7777777777777778, \"#fb9f3a\"], [0.8888888888888888, \"#fdca26\"], [1.0, \"#f0f921\"]], \"type\": \"histogram2d\"}], \"histogram2dcontour\": [{\"colorbar\": {\"outlinewidth\": 0, \"ticks\": \"\"}, \"colorscale\": [[0.0, \"#0d0887\"], [0.1111111111111111, \"#46039f\"], [0.2222222222222222, \"#7201a8\"], [0.3333333333333333, \"#9c179e\"], [0.4444444444444444, \"#bd3786\"], [0.5555555555555556, \"#d8576b\"], [0.6666666666666666, \"#ed7953\"], [0.7777777777777778, \"#fb9f3a\"], [0.8888888888888888, \"#fdca26\"], [1.0, \"#f0f921\"]], \"type\": \"histogram2dcontour\"}], \"mesh3d\": [{\"colorbar\": {\"outlinewidth\": 0, \"ticks\": \"\"}, \"type\": \"mesh3d\"}], \"parcoords\": [{\"line\": {\"colorbar\": {\"outlinewidth\": 0, \"ticks\": \"\"}}, \"type\": \"parcoords\"}], \"pie\": [{\"automargin\": true, \"type\": \"pie\"}], \"scatter\": [{\"marker\": {\"colorbar\": {\"outlinewidth\": 0, \"ticks\": \"\"}}, \"type\": \"scatter\"}], \"scatter3d\": [{\"line\": {\"colorbar\": {\"outlinewidth\": 0, \"ticks\": \"\"}}, \"marker\": {\"colorbar\": {\"outlinewidth\": 0, \"ticks\": \"\"}}, \"type\": \"scatter3d\"}], \"scattercarpet\": [{\"marker\": {\"colorbar\": {\"outlinewidth\": 0, \"ticks\": \"\"}}, \"type\": \"scattercarpet\"}], \"scattergeo\": [{\"marker\": {\"colorbar\": {\"outlinewidth\": 0, \"ticks\": \"\"}}, \"type\": \"scattergeo\"}], \"scattergl\": [{\"marker\": {\"colorbar\": {\"outlinewidth\": 0, \"ticks\": \"\"}}, \"type\": \"scattergl\"}], \"scattermapbox\": [{\"marker\": {\"colorbar\": {\"outlinewidth\": 0, \"ticks\": \"\"}}, \"type\": \"scattermapbox\"}], \"scatterpolar\": [{\"marker\": {\"colorbar\": {\"outlinewidth\": 0, \"ticks\": \"\"}}, \"type\": \"scatterpolar\"}], \"scatterpolargl\": [{\"marker\": {\"colorbar\": {\"outlinewidth\": 0, \"ticks\": \"\"}}, \"type\": \"scatterpolargl\"}], \"scatterternary\": [{\"marker\": {\"colorbar\": {\"outlinewidth\": 0, \"ticks\": \"\"}}, \"type\": \"scatterternary\"}], \"surface\": [{\"colorbar\": {\"outlinewidth\": 0, \"ticks\": \"\"}, \"colorscale\": [[0.0, \"#0d0887\"], [0.1111111111111111, \"#46039f\"], [0.2222222222222222, \"#7201a8\"], [0.3333333333333333, \"#9c179e\"], [0.4444444444444444, \"#bd3786\"], [0.5555555555555556, \"#d8576b\"], [0.6666666666666666, \"#ed7953\"], [0.7777777777777778, \"#fb9f3a\"], [0.8888888888888888, \"#fdca26\"], [1.0, \"#f0f921\"]], \"type\": \"surface\"}], \"table\": [{\"cells\": {\"fill\": {\"color\": \"#EBF0F8\"}, \"line\": {\"color\": \"white\"}}, \"header\": {\"fill\": {\"color\": \"#C8D4E3\"}, \"line\": {\"color\": \"white\"}}, \"type\": \"table\"}]}, \"layout\": {\"annotationdefaults\": {\"arrowcolor\": \"#2a3f5f\", \"arrowhead\": 0, \"arrowwidth\": 1}, \"coloraxis\": {\"colorbar\": {\"outlinewidth\": 0, \"ticks\": \"\"}}, \"colorscale\": {\"diverging\": [[0, \"#8e0152\"], [0.1, \"#c51b7d\"], [0.2, \"#de77ae\"], [0.3, \"#f1b6da\"], [0.4, \"#fde0ef\"], [0.5, \"#f7f7f7\"], [0.6, \"#e6f5d0\"], [0.7, \"#b8e186\"], [0.8, \"#7fbc41\"], [0.9, \"#4d9221\"], [1, \"#276419\"]], \"sequential\": [[0.0, \"#0d0887\"], [0.1111111111111111, \"#46039f\"], [0.2222222222222222, \"#7201a8\"], [0.3333333333333333, \"#9c179e\"], [0.4444444444444444, \"#bd3786\"], [0.5555555555555556, \"#d8576b\"], [0.6666666666666666, \"#ed7953\"], [0.7777777777777778, \"#fb9f3a\"], [0.8888888888888888, \"#fdca26\"], [1.0, \"#f0f921\"]], \"sequentialminus\": [[0.0, \"#0d0887\"], [0.1111111111111111, \"#46039f\"], [0.2222222222222222, \"#7201a8\"], [0.3333333333333333, \"#9c179e\"], [0.4444444444444444, \"#bd3786\"], [0.5555555555555556, \"#d8576b\"], [0.6666666666666666, \"#ed7953\"], [0.7777777777777778, \"#fb9f3a\"], [0.8888888888888888, \"#fdca26\"], [1.0, \"#f0f921\"]]}, \"colorway\": [\"#636efa\", \"#EF553B\", \"#00cc96\", \"#ab63fa\", \"#FFA15A\", \"#19d3f3\", \"#FF6692\", \"#B6E880\", \"#FF97FF\", \"#FECB52\"], \"font\": {\"color\": \"#2a3f5f\"}, \"geo\": {\"bgcolor\": \"white\", \"lakecolor\": \"white\", \"landcolor\": \"#E5ECF6\", \"showlakes\": true, \"showland\": true, \"subunitcolor\": \"white\"}, \"hoverlabel\": {\"align\": \"left\"}, \"hovermode\": \"closest\", \"mapbox\": {\"style\": \"light\"}, \"paper_bgcolor\": \"white\", \"plot_bgcolor\": \"#E5ECF6\", \"polar\": {\"angularaxis\": {\"gridcolor\": \"white\", \"linecolor\": \"white\", \"ticks\": \"\"}, \"bgcolor\": \"#E5ECF6\", \"radialaxis\": {\"gridcolor\": \"white\", \"linecolor\": \"white\", \"ticks\": \"\"}}, \"scene\": {\"xaxis\": {\"backgroundcolor\": \"#E5ECF6\", \"gridcolor\": \"white\", \"gridwidth\": 2, \"linecolor\": \"white\", \"showbackground\": true, \"ticks\": \"\", \"zerolinecolor\": \"white\"}, \"yaxis\": {\"backgroundcolor\": \"#E5ECF6\", \"gridcolor\": \"white\", \"gridwidth\": 2, \"linecolor\": \"white\", \"showbackground\": true, \"ticks\": \"\", \"zerolinecolor\": \"white\"}, \"zaxis\": {\"backgroundcolor\": \"#E5ECF6\", \"gridcolor\": \"white\", \"gridwidth\": 2, \"linecolor\": \"white\", \"showbackground\": true, \"ticks\": \"\", \"zerolinecolor\": \"white\"}}, \"shapedefaults\": {\"line\": {\"color\": \"#2a3f5f\"}}, \"ternary\": {\"aaxis\": {\"gridcolor\": \"white\", \"linecolor\": \"white\", \"ticks\": \"\"}, \"baxis\": {\"gridcolor\": \"white\", \"linecolor\": \"white\", \"ticks\": \"\"}, \"bgcolor\": \"#E5ECF6\", \"caxis\": {\"gridcolor\": \"white\", \"linecolor\": \"white\", \"ticks\": \"\"}}, \"title\": {\"x\": 0.05}, \"xaxis\": {\"automargin\": true, \"gridcolor\": \"white\", \"linecolor\": \"white\", \"ticks\": \"\", \"title\": {\"standoff\": 15}, \"zerolinecolor\": \"white\", \"zerolinewidth\": 2}, \"yaxis\": {\"automargin\": true, \"gridcolor\": \"white\", \"linecolor\": \"white\", \"ticks\": \"\", \"title\": {\"standoff\": 15}, \"zerolinecolor\": \"white\", \"zerolinewidth\": 2}}}, \"title\": {\"text\": \"Probability Functions\"}, \"xaxis\": {\"tickfont\": {\"size\": 14}}, \"yaxis\": {\"tickfont\": {\"size\": 14}, \"title\": {\"font\": {\"size\": 16}, \"text\": \"Probability\"}}},\n",
       "                        {\"responsive\": true}\n",
       "                    ).then(function(){\n",
       "                            \n",
       "var gd = document.getElementById('b0b3a28b-37da-42d8-810f-34a669f5f6ed');\n",
       "var x = new MutationObserver(function (mutations, observer) {{\n",
       "        var display = window.getComputedStyle(gd).display;\n",
       "        if (!display || display === 'none') {{\n",
       "            console.log([gd, 'removed!']);\n",
       "            Plotly.purge(gd);\n",
       "            observer.disconnect();\n",
       "        }}\n",
       "}});\n",
       "\n",
       "// Listen for the removal of the full notebook cells\n",
       "var notebookContainer = gd.closest('#notebook-container');\n",
       "if (notebookContainer) {{\n",
       "    x.observe(notebookContainer, {childList: true});\n",
       "}}\n",
       "\n",
       "// Listen for the clearing of the current output cell\n",
       "var outputEl = gd.closest('.output');\n",
       "if (outputEl) {{\n",
       "    x.observe(outputEl, {childList: true});\n",
       "}}\n",
       "\n",
       "                        })\n",
       "                };\n",
       "                \n",
       "            </script>\n",
       "        </div>\n",
       "</body>\n",
       "</html>"
      ]
     },
     "metadata": {},
     "output_type": "display_data"
    }
   ],
   "source": [
    "Px = np.arange(0, 1.1, 0.1)\n",
    "P = np.zeros(11) \n",
    "P[0] = 1\n",
    "\n",
    "Qx = np.arange(0, 1.1, 0.1)\n",
    "Q = np.zeros(11) \n",
    "Q[-1] = 1\n",
    "\n",
    "plot_Pxs(P, Px, Q, Qx)"
   ]
  },
  {
   "cell_type": "code",
   "execution_count": null,
   "metadata": {
    "colab": {
     "base_uri": "https://localhost:8080/"
    },
    "id": "6H2d4Pd74x1S",
    "outputId": "cb0a2682-bee4-4fe2-91d6-9e17a618abc1"
   },
   "outputs": [
    {
     "data": {
      "text/plain": [
       "array([inf,  0.,  0.,  0.,  0.,  0.,  0.,  0.,  0.,  0.,  1.])"
      ]
     },
     "execution_count": 55,
     "metadata": {},
     "output_type": "execute_result"
    }
   ],
   "source": [
    "kl_div(P, Q)"
   ]
  },
  {
   "cell_type": "code",
   "execution_count": null,
   "metadata": {
    "colab": {
     "base_uri": "https://localhost:8080/"
    },
    "id": "GszzwsrO41-W",
    "outputId": "a7e20fd7-42c6-49d2-e242-6604796d26a6"
   },
   "outputs": [
    {
     "data": {
      "text/plain": [
       "0.8325546111576977"
      ]
     },
     "execution_count": 59,
     "metadata": {},
     "output_type": "execute_result"
    }
   ],
   "source": [
    "jensenshannon(P, Q)"
   ]
  },
  {
   "cell_type": "code",
   "execution_count": null,
   "metadata": {
    "colab": {
     "base_uri": "https://localhost:8080/"
    },
    "id": "q1h9U8Xy45z1",
    "outputId": "9d85a104-9674-4796-c91a-c8cb726da0fd"
   },
   "outputs": [
    {
     "data": {
      "text/plain": [
       "1.0"
      ]
     },
     "execution_count": 60,
     "metadata": {},
     "output_type": "execute_result"
    }
   ],
   "source": [
    "wasserstein_distance(Px, Qx, P, Q)"
   ]
  },
  {
   "cell_type": "markdown",
   "metadata": {
    "id": "vgnkuusm60Hk"
   },
   "source": [
    "### When $\\theta$ = 0.5"
   ]
  },
  {
   "cell_type": "code",
   "execution_count": null,
   "metadata": {
    "colab": {
     "base_uri": "https://localhost:8080/",
     "height": 542
    },
    "id": "CLY6fhea60Hm",
    "outputId": "0f808e7e-3bfb-4cc2-e485-35c95866a13a"
   },
   "outputs": [
    {
     "data": {
      "text/html": [
       "<html>\n",
       "<head><meta charset=\"utf-8\" /></head>\n",
       "<body>\n",
       "    <div>\n",
       "            <script src=\"https://cdnjs.cloudflare.com/ajax/libs/mathjax/2.7.5/MathJax.js?config=TeX-AMS-MML_SVG\"></script><script type=\"text/javascript\">if (window.MathJax) {MathJax.Hub.Config({SVG: {font: \"STIX-Web\"}});}</script>\n",
       "                <script type=\"text/javascript\">window.PlotlyConfig = {MathJaxConfig: 'local'};</script>\n",
       "        <script src=\"https://cdn.plot.ly/plotly-latest.min.js\"></script>    \n",
       "            <div id=\"f6953f32-8296-4561-807f-7b8a4daf6bc8\" class=\"plotly-graph-div\" style=\"height:525px; width:100%;\"></div>\n",
       "            <script type=\"text/javascript\">\n",
       "                \n",
       "                    window.PLOTLYENV=window.PLOTLYENV || {};\n",
       "                    \n",
       "                if (document.getElementById(\"f6953f32-8296-4561-807f-7b8a4daf6bc8\")) {\n",
       "                    Plotly.newPlot(\n",
       "                        'f6953f32-8296-4561-807f-7b8a4daf6bc8',\n",
       "                        [{\"name\": \"Probability 1\", \"type\": \"bar\", \"x\": [0.0, 0.1, 0.2, 0.30000000000000004, 0.4, 0.5, 0.6000000000000001, 0.7000000000000001, 0.8, 0.9, 1.0], \"y\": [1.0, 0.0, 0.0, 0.0, 0.0, 0.0, 0.0, 0.0, 0.0, 0.0, 0.0]}, {\"name\": \"Probability 2\", \"type\": \"bar\", \"x\": [0.0, 0.1, 0.2, 0.30000000000000004, 0.4, 0.5, 0.6000000000000001, 0.7000000000000001, 0.8, 0.9, 1.0], \"y\": [0.0, 0.0, 0.0, 0.0, 0.0, 1.0, 0.0, 0.0, 0.0, 0.0, 0.0]}],\n",
       "                        {\"bargap\": 0.15, \"bargroupgap\": 0.1, \"barmode\": \"group\", \"legend\": {\"bgcolor\": \"rgba(255, 255, 255, 0)\", \"bordercolor\": \"rgba(255, 255, 255, 0)\", \"x\": 0, \"y\": 1.0}, \"template\": {\"data\": {\"bar\": [{\"error_x\": {\"color\": \"#2a3f5f\"}, \"error_y\": {\"color\": \"#2a3f5f\"}, \"marker\": {\"line\": {\"color\": \"#E5ECF6\", \"width\": 0.5}}, \"type\": \"bar\"}], \"barpolar\": [{\"marker\": {\"line\": {\"color\": \"#E5ECF6\", \"width\": 0.5}}, \"type\": \"barpolar\"}], \"carpet\": [{\"aaxis\": {\"endlinecolor\": \"#2a3f5f\", \"gridcolor\": \"white\", \"linecolor\": \"white\", \"minorgridcolor\": \"white\", \"startlinecolor\": \"#2a3f5f\"}, \"baxis\": {\"endlinecolor\": \"#2a3f5f\", \"gridcolor\": \"white\", \"linecolor\": \"white\", \"minorgridcolor\": \"white\", \"startlinecolor\": \"#2a3f5f\"}, \"type\": \"carpet\"}], \"choropleth\": [{\"colorbar\": {\"outlinewidth\": 0, \"ticks\": \"\"}, \"type\": \"choropleth\"}], \"contour\": [{\"colorbar\": {\"outlinewidth\": 0, \"ticks\": \"\"}, \"colorscale\": [[0.0, \"#0d0887\"], [0.1111111111111111, \"#46039f\"], [0.2222222222222222, \"#7201a8\"], [0.3333333333333333, \"#9c179e\"], [0.4444444444444444, \"#bd3786\"], [0.5555555555555556, \"#d8576b\"], [0.6666666666666666, \"#ed7953\"], [0.7777777777777778, \"#fb9f3a\"], [0.8888888888888888, \"#fdca26\"], [1.0, \"#f0f921\"]], \"type\": \"contour\"}], \"contourcarpet\": [{\"colorbar\": {\"outlinewidth\": 0, \"ticks\": \"\"}, \"type\": \"contourcarpet\"}], \"heatmap\": [{\"colorbar\": {\"outlinewidth\": 0, \"ticks\": \"\"}, \"colorscale\": [[0.0, \"#0d0887\"], [0.1111111111111111, \"#46039f\"], [0.2222222222222222, \"#7201a8\"], [0.3333333333333333, \"#9c179e\"], [0.4444444444444444, \"#bd3786\"], [0.5555555555555556, \"#d8576b\"], [0.6666666666666666, \"#ed7953\"], [0.7777777777777778, \"#fb9f3a\"], [0.8888888888888888, \"#fdca26\"], [1.0, \"#f0f921\"]], \"type\": \"heatmap\"}], \"heatmapgl\": [{\"colorbar\": {\"outlinewidth\": 0, \"ticks\": \"\"}, \"colorscale\": [[0.0, \"#0d0887\"], [0.1111111111111111, \"#46039f\"], [0.2222222222222222, \"#7201a8\"], [0.3333333333333333, \"#9c179e\"], [0.4444444444444444, \"#bd3786\"], [0.5555555555555556, \"#d8576b\"], [0.6666666666666666, \"#ed7953\"], [0.7777777777777778, \"#fb9f3a\"], [0.8888888888888888, \"#fdca26\"], [1.0, \"#f0f921\"]], \"type\": \"heatmapgl\"}], \"histogram\": [{\"marker\": {\"colorbar\": {\"outlinewidth\": 0, \"ticks\": \"\"}}, \"type\": \"histogram\"}], \"histogram2d\": [{\"colorbar\": {\"outlinewidth\": 0, \"ticks\": \"\"}, \"colorscale\": [[0.0, \"#0d0887\"], [0.1111111111111111, \"#46039f\"], [0.2222222222222222, \"#7201a8\"], [0.3333333333333333, \"#9c179e\"], [0.4444444444444444, \"#bd3786\"], [0.5555555555555556, \"#d8576b\"], [0.6666666666666666, \"#ed7953\"], [0.7777777777777778, \"#fb9f3a\"], [0.8888888888888888, \"#fdca26\"], [1.0, \"#f0f921\"]], \"type\": \"histogram2d\"}], \"histogram2dcontour\": [{\"colorbar\": {\"outlinewidth\": 0, \"ticks\": \"\"}, \"colorscale\": [[0.0, \"#0d0887\"], [0.1111111111111111, \"#46039f\"], [0.2222222222222222, \"#7201a8\"], [0.3333333333333333, \"#9c179e\"], [0.4444444444444444, \"#bd3786\"], [0.5555555555555556, \"#d8576b\"], [0.6666666666666666, \"#ed7953\"], [0.7777777777777778, \"#fb9f3a\"], [0.8888888888888888, \"#fdca26\"], [1.0, \"#f0f921\"]], \"type\": \"histogram2dcontour\"}], \"mesh3d\": [{\"colorbar\": {\"outlinewidth\": 0, \"ticks\": \"\"}, \"type\": \"mesh3d\"}], \"parcoords\": [{\"line\": {\"colorbar\": {\"outlinewidth\": 0, \"ticks\": \"\"}}, \"type\": \"parcoords\"}], \"pie\": [{\"automargin\": true, \"type\": \"pie\"}], \"scatter\": [{\"marker\": {\"colorbar\": {\"outlinewidth\": 0, \"ticks\": \"\"}}, \"type\": \"scatter\"}], \"scatter3d\": [{\"line\": {\"colorbar\": {\"outlinewidth\": 0, \"ticks\": \"\"}}, \"marker\": {\"colorbar\": {\"outlinewidth\": 0, \"ticks\": \"\"}}, \"type\": \"scatter3d\"}], \"scattercarpet\": [{\"marker\": {\"colorbar\": {\"outlinewidth\": 0, \"ticks\": \"\"}}, \"type\": \"scattercarpet\"}], \"scattergeo\": [{\"marker\": {\"colorbar\": {\"outlinewidth\": 0, \"ticks\": \"\"}}, \"type\": \"scattergeo\"}], \"scattergl\": [{\"marker\": {\"colorbar\": {\"outlinewidth\": 0, \"ticks\": \"\"}}, \"type\": \"scattergl\"}], \"scattermapbox\": [{\"marker\": {\"colorbar\": {\"outlinewidth\": 0, \"ticks\": \"\"}}, \"type\": \"scattermapbox\"}], \"scatterpolar\": [{\"marker\": {\"colorbar\": {\"outlinewidth\": 0, \"ticks\": \"\"}}, \"type\": \"scatterpolar\"}], \"scatterpolargl\": [{\"marker\": {\"colorbar\": {\"outlinewidth\": 0, \"ticks\": \"\"}}, \"type\": \"scatterpolargl\"}], \"scatterternary\": [{\"marker\": {\"colorbar\": {\"outlinewidth\": 0, \"ticks\": \"\"}}, \"type\": \"scatterternary\"}], \"surface\": [{\"colorbar\": {\"outlinewidth\": 0, \"ticks\": \"\"}, \"colorscale\": [[0.0, \"#0d0887\"], [0.1111111111111111, \"#46039f\"], [0.2222222222222222, \"#7201a8\"], [0.3333333333333333, \"#9c179e\"], [0.4444444444444444, \"#bd3786\"], [0.5555555555555556, \"#d8576b\"], [0.6666666666666666, \"#ed7953\"], [0.7777777777777778, \"#fb9f3a\"], [0.8888888888888888, \"#fdca26\"], [1.0, \"#f0f921\"]], \"type\": \"surface\"}], \"table\": [{\"cells\": {\"fill\": {\"color\": \"#EBF0F8\"}, \"line\": {\"color\": \"white\"}}, \"header\": {\"fill\": {\"color\": \"#C8D4E3\"}, \"line\": {\"color\": \"white\"}}, \"type\": \"table\"}]}, \"layout\": {\"annotationdefaults\": {\"arrowcolor\": \"#2a3f5f\", \"arrowhead\": 0, \"arrowwidth\": 1}, \"coloraxis\": {\"colorbar\": {\"outlinewidth\": 0, \"ticks\": \"\"}}, \"colorscale\": {\"diverging\": [[0, \"#8e0152\"], [0.1, \"#c51b7d\"], [0.2, \"#de77ae\"], [0.3, \"#f1b6da\"], [0.4, \"#fde0ef\"], [0.5, \"#f7f7f7\"], [0.6, \"#e6f5d0\"], [0.7, \"#b8e186\"], [0.8, \"#7fbc41\"], [0.9, \"#4d9221\"], [1, \"#276419\"]], \"sequential\": [[0.0, \"#0d0887\"], [0.1111111111111111, \"#46039f\"], [0.2222222222222222, \"#7201a8\"], [0.3333333333333333, \"#9c179e\"], [0.4444444444444444, \"#bd3786\"], [0.5555555555555556, \"#d8576b\"], [0.6666666666666666, \"#ed7953\"], [0.7777777777777778, \"#fb9f3a\"], [0.8888888888888888, \"#fdca26\"], [1.0, \"#f0f921\"]], \"sequentialminus\": [[0.0, \"#0d0887\"], [0.1111111111111111, \"#46039f\"], [0.2222222222222222, \"#7201a8\"], [0.3333333333333333, \"#9c179e\"], [0.4444444444444444, \"#bd3786\"], [0.5555555555555556, \"#d8576b\"], [0.6666666666666666, \"#ed7953\"], [0.7777777777777778, \"#fb9f3a\"], [0.8888888888888888, \"#fdca26\"], [1.0, \"#f0f921\"]]}, \"colorway\": [\"#636efa\", \"#EF553B\", \"#00cc96\", \"#ab63fa\", \"#FFA15A\", \"#19d3f3\", \"#FF6692\", \"#B6E880\", \"#FF97FF\", \"#FECB52\"], \"font\": {\"color\": \"#2a3f5f\"}, \"geo\": {\"bgcolor\": \"white\", \"lakecolor\": \"white\", \"landcolor\": \"#E5ECF6\", \"showlakes\": true, \"showland\": true, \"subunitcolor\": \"white\"}, \"hoverlabel\": {\"align\": \"left\"}, \"hovermode\": \"closest\", \"mapbox\": {\"style\": \"light\"}, \"paper_bgcolor\": \"white\", \"plot_bgcolor\": \"#E5ECF6\", \"polar\": {\"angularaxis\": {\"gridcolor\": \"white\", \"linecolor\": \"white\", \"ticks\": \"\"}, \"bgcolor\": \"#E5ECF6\", \"radialaxis\": {\"gridcolor\": \"white\", \"linecolor\": \"white\", \"ticks\": \"\"}}, \"scene\": {\"xaxis\": {\"backgroundcolor\": \"#E5ECF6\", \"gridcolor\": \"white\", \"gridwidth\": 2, \"linecolor\": \"white\", \"showbackground\": true, \"ticks\": \"\", \"zerolinecolor\": \"white\"}, \"yaxis\": {\"backgroundcolor\": \"#E5ECF6\", \"gridcolor\": \"white\", \"gridwidth\": 2, \"linecolor\": \"white\", \"showbackground\": true, \"ticks\": \"\", \"zerolinecolor\": \"white\"}, \"zaxis\": {\"backgroundcolor\": \"#E5ECF6\", \"gridcolor\": \"white\", \"gridwidth\": 2, \"linecolor\": \"white\", \"showbackground\": true, \"ticks\": \"\", \"zerolinecolor\": \"white\"}}, \"shapedefaults\": {\"line\": {\"color\": \"#2a3f5f\"}}, \"ternary\": {\"aaxis\": {\"gridcolor\": \"white\", \"linecolor\": \"white\", \"ticks\": \"\"}, \"baxis\": {\"gridcolor\": \"white\", \"linecolor\": \"white\", \"ticks\": \"\"}, \"bgcolor\": \"#E5ECF6\", \"caxis\": {\"gridcolor\": \"white\", \"linecolor\": \"white\", \"ticks\": \"\"}}, \"title\": {\"x\": 0.05}, \"xaxis\": {\"automargin\": true, \"gridcolor\": \"white\", \"linecolor\": \"white\", \"ticks\": \"\", \"title\": {\"standoff\": 15}, \"zerolinecolor\": \"white\", \"zerolinewidth\": 2}, \"yaxis\": {\"automargin\": true, \"gridcolor\": \"white\", \"linecolor\": \"white\", \"ticks\": \"\", \"title\": {\"standoff\": 15}, \"zerolinecolor\": \"white\", \"zerolinewidth\": 2}}}, \"title\": {\"text\": \"Probability Functions\"}, \"xaxis\": {\"tickfont\": {\"size\": 14}}, \"yaxis\": {\"tickfont\": {\"size\": 14}, \"title\": {\"font\": {\"size\": 16}, \"text\": \"Probability\"}}},\n",
       "                        {\"responsive\": true}\n",
       "                    ).then(function(){\n",
       "                            \n",
       "var gd = document.getElementById('f6953f32-8296-4561-807f-7b8a4daf6bc8');\n",
       "var x = new MutationObserver(function (mutations, observer) {{\n",
       "        var display = window.getComputedStyle(gd).display;\n",
       "        if (!display || display === 'none') {{\n",
       "            console.log([gd, 'removed!']);\n",
       "            Plotly.purge(gd);\n",
       "            observer.disconnect();\n",
       "        }}\n",
       "}});\n",
       "\n",
       "// Listen for the removal of the full notebook cells\n",
       "var notebookContainer = gd.closest('#notebook-container');\n",
       "if (notebookContainer) {{\n",
       "    x.observe(notebookContainer, {childList: true});\n",
       "}}\n",
       "\n",
       "// Listen for the clearing of the current output cell\n",
       "var outputEl = gd.closest('.output');\n",
       "if (outputEl) {{\n",
       "    x.observe(outputEl, {childList: true});\n",
       "}}\n",
       "\n",
       "                        })\n",
       "                };\n",
       "                \n",
       "            </script>\n",
       "        </div>\n",
       "</body>\n",
       "</html>"
      ]
     },
     "metadata": {},
     "output_type": "display_data"
    }
   ],
   "source": [
    "Px = np.arange(0, 1.1, 0.1)\n",
    "P = np.zeros(11) \n",
    "P[0] = 1\n",
    "\n",
    "Qx = np.arange(0, 1.1, 0.1)\n",
    "Q = np.zeros(11) \n",
    "Q[5] = 1\n",
    "\n",
    "plot_Pxs(P, Px, Q, Qx)"
   ]
  },
  {
   "cell_type": "code",
   "execution_count": null,
   "metadata": {
    "colab": {
     "base_uri": "https://localhost:8080/"
    },
    "id": "IUQQcdj-60Hp",
    "outputId": "f3ea7d70-b881-4c77-e06f-4e0ea1cfb5f9"
   },
   "outputs": [
    {
     "data": {
      "text/plain": [
       "array([inf,  0.,  0.,  0.,  0.,  1.,  0.,  0.,  0.,  0.,  0.])"
      ]
     },
     "execution_count": 62,
     "metadata": {},
     "output_type": "execute_result"
    }
   ],
   "source": [
    "kl_div(P, Q)"
   ]
  },
  {
   "cell_type": "code",
   "execution_count": null,
   "metadata": {
    "colab": {
     "base_uri": "https://localhost:8080/"
    },
    "id": "d1nDglGG60Hr",
    "outputId": "6ebf8339-f093-42cf-9fa6-b92c6807ef9e"
   },
   "outputs": [
    {
     "data": {
      "text/plain": [
       "0.8325546111576977"
      ]
     },
     "execution_count": 63,
     "metadata": {},
     "output_type": "execute_result"
    }
   ],
   "source": [
    "jensenshannon(P, Q)"
   ]
  },
  {
   "cell_type": "code",
   "execution_count": null,
   "metadata": {
    "colab": {
     "base_uri": "https://localhost:8080/"
    },
    "id": "0k0v1n9260Hs",
    "outputId": "f00e12f7-404f-49a8-bee2-f8e50e9f1a09"
   },
   "outputs": [
    {
     "data": {
      "text/plain": [
       "0.5"
      ]
     },
     "execution_count": 64,
     "metadata": {},
     "output_type": "execute_result"
    }
   ],
   "source": [
    "wasserstein_distance(Px, Qx, P, Q)"
   ]
  },
  {
   "cell_type": "markdown",
   "metadata": {
    "id": "poLbUOoT68W0"
   },
   "source": [
    "### When $\\theta$ = 0.0"
   ]
  },
  {
   "cell_type": "code",
   "execution_count": null,
   "metadata": {
    "colab": {
     "base_uri": "https://localhost:8080/",
     "height": 542
    },
    "id": "x2ikJp-Y68W0",
    "outputId": "42922aec-0994-46e3-e9c9-acddaae0bda2"
   },
   "outputs": [
    {
     "data": {
      "text/html": [
       "<html>\n",
       "<head><meta charset=\"utf-8\" /></head>\n",
       "<body>\n",
       "    <div>\n",
       "            <script src=\"https://cdnjs.cloudflare.com/ajax/libs/mathjax/2.7.5/MathJax.js?config=TeX-AMS-MML_SVG\"></script><script type=\"text/javascript\">if (window.MathJax) {MathJax.Hub.Config({SVG: {font: \"STIX-Web\"}});}</script>\n",
       "                <script type=\"text/javascript\">window.PlotlyConfig = {MathJaxConfig: 'local'};</script>\n",
       "        <script src=\"https://cdn.plot.ly/plotly-latest.min.js\"></script>    \n",
       "            <div id=\"c1585406-5e5e-4bbb-bf36-b1b527672923\" class=\"plotly-graph-div\" style=\"height:525px; width:100%;\"></div>\n",
       "            <script type=\"text/javascript\">\n",
       "                \n",
       "                    window.PLOTLYENV=window.PLOTLYENV || {};\n",
       "                    \n",
       "                if (document.getElementById(\"c1585406-5e5e-4bbb-bf36-b1b527672923\")) {\n",
       "                    Plotly.newPlot(\n",
       "                        'c1585406-5e5e-4bbb-bf36-b1b527672923',\n",
       "                        [{\"name\": \"Probability 1\", \"type\": \"bar\", \"x\": [0.0, 0.1, 0.2, 0.30000000000000004, 0.4, 0.5, 0.6000000000000001, 0.7000000000000001, 0.8, 0.9, 1.0], \"y\": [1.0, 0.0, 0.0, 0.0, 0.0, 0.0, 0.0, 0.0, 0.0, 0.0, 0.0]}, {\"name\": \"Probability 2\", \"type\": \"bar\", \"x\": [0.0, 0.1, 0.2, 0.30000000000000004, 0.4, 0.5, 0.6000000000000001, 0.7000000000000001, 0.8, 0.9, 1.0], \"y\": [1.0, 0.0, 0.0, 0.0, 0.0, 0.0, 0.0, 0.0, 0.0, 0.0, 0.0]}],\n",
       "                        {\"bargap\": 0.15, \"bargroupgap\": 0.1, \"barmode\": \"group\", \"legend\": {\"bgcolor\": \"rgba(255, 255, 255, 0)\", \"bordercolor\": \"rgba(255, 255, 255, 0)\", \"x\": 0, \"y\": 1.0}, \"template\": {\"data\": {\"bar\": [{\"error_x\": {\"color\": \"#2a3f5f\"}, \"error_y\": {\"color\": \"#2a3f5f\"}, \"marker\": {\"line\": {\"color\": \"#E5ECF6\", \"width\": 0.5}}, \"type\": \"bar\"}], \"barpolar\": [{\"marker\": {\"line\": {\"color\": \"#E5ECF6\", \"width\": 0.5}}, \"type\": \"barpolar\"}], \"carpet\": [{\"aaxis\": {\"endlinecolor\": \"#2a3f5f\", \"gridcolor\": \"white\", \"linecolor\": \"white\", \"minorgridcolor\": \"white\", \"startlinecolor\": \"#2a3f5f\"}, \"baxis\": {\"endlinecolor\": \"#2a3f5f\", \"gridcolor\": \"white\", \"linecolor\": \"white\", \"minorgridcolor\": \"white\", \"startlinecolor\": \"#2a3f5f\"}, \"type\": \"carpet\"}], \"choropleth\": [{\"colorbar\": {\"outlinewidth\": 0, \"ticks\": \"\"}, \"type\": \"choropleth\"}], \"contour\": [{\"colorbar\": {\"outlinewidth\": 0, \"ticks\": \"\"}, \"colorscale\": [[0.0, \"#0d0887\"], [0.1111111111111111, \"#46039f\"], [0.2222222222222222, \"#7201a8\"], [0.3333333333333333, \"#9c179e\"], [0.4444444444444444, \"#bd3786\"], [0.5555555555555556, \"#d8576b\"], [0.6666666666666666, \"#ed7953\"], [0.7777777777777778, \"#fb9f3a\"], [0.8888888888888888, \"#fdca26\"], [1.0, \"#f0f921\"]], \"type\": \"contour\"}], \"contourcarpet\": [{\"colorbar\": {\"outlinewidth\": 0, \"ticks\": \"\"}, \"type\": \"contourcarpet\"}], \"heatmap\": [{\"colorbar\": {\"outlinewidth\": 0, \"ticks\": \"\"}, \"colorscale\": [[0.0, \"#0d0887\"], [0.1111111111111111, \"#46039f\"], [0.2222222222222222, \"#7201a8\"], [0.3333333333333333, \"#9c179e\"], [0.4444444444444444, \"#bd3786\"], [0.5555555555555556, \"#d8576b\"], [0.6666666666666666, \"#ed7953\"], [0.7777777777777778, \"#fb9f3a\"], [0.8888888888888888, \"#fdca26\"], [1.0, \"#f0f921\"]], \"type\": \"heatmap\"}], \"heatmapgl\": [{\"colorbar\": {\"outlinewidth\": 0, \"ticks\": \"\"}, \"colorscale\": [[0.0, \"#0d0887\"], [0.1111111111111111, \"#46039f\"], [0.2222222222222222, \"#7201a8\"], [0.3333333333333333, \"#9c179e\"], [0.4444444444444444, \"#bd3786\"], [0.5555555555555556, \"#d8576b\"], [0.6666666666666666, \"#ed7953\"], [0.7777777777777778, \"#fb9f3a\"], [0.8888888888888888, \"#fdca26\"], [1.0, \"#f0f921\"]], \"type\": \"heatmapgl\"}], \"histogram\": [{\"marker\": {\"colorbar\": {\"outlinewidth\": 0, \"ticks\": \"\"}}, \"type\": \"histogram\"}], \"histogram2d\": [{\"colorbar\": {\"outlinewidth\": 0, \"ticks\": \"\"}, \"colorscale\": [[0.0, \"#0d0887\"], [0.1111111111111111, \"#46039f\"], [0.2222222222222222, \"#7201a8\"], [0.3333333333333333, \"#9c179e\"], [0.4444444444444444, \"#bd3786\"], [0.5555555555555556, \"#d8576b\"], [0.6666666666666666, \"#ed7953\"], [0.7777777777777778, \"#fb9f3a\"], [0.8888888888888888, \"#fdca26\"], [1.0, \"#f0f921\"]], \"type\": \"histogram2d\"}], \"histogram2dcontour\": [{\"colorbar\": {\"outlinewidth\": 0, \"ticks\": \"\"}, \"colorscale\": [[0.0, \"#0d0887\"], [0.1111111111111111, \"#46039f\"], [0.2222222222222222, \"#7201a8\"], [0.3333333333333333, \"#9c179e\"], [0.4444444444444444, \"#bd3786\"], [0.5555555555555556, \"#d8576b\"], [0.6666666666666666, \"#ed7953\"], [0.7777777777777778, \"#fb9f3a\"], [0.8888888888888888, \"#fdca26\"], [1.0, \"#f0f921\"]], \"type\": \"histogram2dcontour\"}], \"mesh3d\": [{\"colorbar\": {\"outlinewidth\": 0, \"ticks\": \"\"}, \"type\": \"mesh3d\"}], \"parcoords\": [{\"line\": {\"colorbar\": {\"outlinewidth\": 0, \"ticks\": \"\"}}, \"type\": \"parcoords\"}], \"pie\": [{\"automargin\": true, \"type\": \"pie\"}], \"scatter\": [{\"marker\": {\"colorbar\": {\"outlinewidth\": 0, \"ticks\": \"\"}}, \"type\": \"scatter\"}], \"scatter3d\": [{\"line\": {\"colorbar\": {\"outlinewidth\": 0, \"ticks\": \"\"}}, \"marker\": {\"colorbar\": {\"outlinewidth\": 0, \"ticks\": \"\"}}, \"type\": \"scatter3d\"}], \"scattercarpet\": [{\"marker\": {\"colorbar\": {\"outlinewidth\": 0, \"ticks\": \"\"}}, \"type\": \"scattercarpet\"}], \"scattergeo\": [{\"marker\": {\"colorbar\": {\"outlinewidth\": 0, \"ticks\": \"\"}}, \"type\": \"scattergeo\"}], \"scattergl\": [{\"marker\": {\"colorbar\": {\"outlinewidth\": 0, \"ticks\": \"\"}}, \"type\": \"scattergl\"}], \"scattermapbox\": [{\"marker\": {\"colorbar\": {\"outlinewidth\": 0, \"ticks\": \"\"}}, \"type\": \"scattermapbox\"}], \"scatterpolar\": [{\"marker\": {\"colorbar\": {\"outlinewidth\": 0, \"ticks\": \"\"}}, \"type\": \"scatterpolar\"}], \"scatterpolargl\": [{\"marker\": {\"colorbar\": {\"outlinewidth\": 0, \"ticks\": \"\"}}, \"type\": \"scatterpolargl\"}], \"scatterternary\": [{\"marker\": {\"colorbar\": {\"outlinewidth\": 0, \"ticks\": \"\"}}, \"type\": \"scatterternary\"}], \"surface\": [{\"colorbar\": {\"outlinewidth\": 0, \"ticks\": \"\"}, \"colorscale\": [[0.0, \"#0d0887\"], [0.1111111111111111, \"#46039f\"], [0.2222222222222222, \"#7201a8\"], [0.3333333333333333, \"#9c179e\"], [0.4444444444444444, \"#bd3786\"], [0.5555555555555556, \"#d8576b\"], [0.6666666666666666, \"#ed7953\"], [0.7777777777777778, \"#fb9f3a\"], [0.8888888888888888, \"#fdca26\"], [1.0, \"#f0f921\"]], \"type\": \"surface\"}], \"table\": [{\"cells\": {\"fill\": {\"color\": \"#EBF0F8\"}, \"line\": {\"color\": \"white\"}}, \"header\": {\"fill\": {\"color\": \"#C8D4E3\"}, \"line\": {\"color\": \"white\"}}, \"type\": \"table\"}]}, \"layout\": {\"annotationdefaults\": {\"arrowcolor\": \"#2a3f5f\", \"arrowhead\": 0, \"arrowwidth\": 1}, \"coloraxis\": {\"colorbar\": {\"outlinewidth\": 0, \"ticks\": \"\"}}, \"colorscale\": {\"diverging\": [[0, \"#8e0152\"], [0.1, \"#c51b7d\"], [0.2, \"#de77ae\"], [0.3, \"#f1b6da\"], [0.4, \"#fde0ef\"], [0.5, \"#f7f7f7\"], [0.6, \"#e6f5d0\"], [0.7, \"#b8e186\"], [0.8, \"#7fbc41\"], [0.9, \"#4d9221\"], [1, \"#276419\"]], \"sequential\": [[0.0, \"#0d0887\"], [0.1111111111111111, \"#46039f\"], [0.2222222222222222, \"#7201a8\"], [0.3333333333333333, \"#9c179e\"], [0.4444444444444444, \"#bd3786\"], [0.5555555555555556, \"#d8576b\"], [0.6666666666666666, \"#ed7953\"], [0.7777777777777778, \"#fb9f3a\"], [0.8888888888888888, \"#fdca26\"], [1.0, \"#f0f921\"]], \"sequentialminus\": [[0.0, \"#0d0887\"], [0.1111111111111111, \"#46039f\"], [0.2222222222222222, \"#7201a8\"], [0.3333333333333333, \"#9c179e\"], [0.4444444444444444, \"#bd3786\"], [0.5555555555555556, \"#d8576b\"], [0.6666666666666666, \"#ed7953\"], [0.7777777777777778, \"#fb9f3a\"], [0.8888888888888888, \"#fdca26\"], [1.0, \"#f0f921\"]]}, \"colorway\": [\"#636efa\", \"#EF553B\", \"#00cc96\", \"#ab63fa\", \"#FFA15A\", \"#19d3f3\", \"#FF6692\", \"#B6E880\", \"#FF97FF\", \"#FECB52\"], \"font\": {\"color\": \"#2a3f5f\"}, \"geo\": {\"bgcolor\": \"white\", \"lakecolor\": \"white\", \"landcolor\": \"#E5ECF6\", \"showlakes\": true, \"showland\": true, \"subunitcolor\": \"white\"}, \"hoverlabel\": {\"align\": \"left\"}, \"hovermode\": \"closest\", \"mapbox\": {\"style\": \"light\"}, \"paper_bgcolor\": \"white\", \"plot_bgcolor\": \"#E5ECF6\", \"polar\": {\"angularaxis\": {\"gridcolor\": \"white\", \"linecolor\": \"white\", \"ticks\": \"\"}, \"bgcolor\": \"#E5ECF6\", \"radialaxis\": {\"gridcolor\": \"white\", \"linecolor\": \"white\", \"ticks\": \"\"}}, \"scene\": {\"xaxis\": {\"backgroundcolor\": \"#E5ECF6\", \"gridcolor\": \"white\", \"gridwidth\": 2, \"linecolor\": \"white\", \"showbackground\": true, \"ticks\": \"\", \"zerolinecolor\": \"white\"}, \"yaxis\": {\"backgroundcolor\": \"#E5ECF6\", \"gridcolor\": \"white\", \"gridwidth\": 2, \"linecolor\": \"white\", \"showbackground\": true, \"ticks\": \"\", \"zerolinecolor\": \"white\"}, \"zaxis\": {\"backgroundcolor\": \"#E5ECF6\", \"gridcolor\": \"white\", \"gridwidth\": 2, \"linecolor\": \"white\", \"showbackground\": true, \"ticks\": \"\", \"zerolinecolor\": \"white\"}}, \"shapedefaults\": {\"line\": {\"color\": \"#2a3f5f\"}}, \"ternary\": {\"aaxis\": {\"gridcolor\": \"white\", \"linecolor\": \"white\", \"ticks\": \"\"}, \"baxis\": {\"gridcolor\": \"white\", \"linecolor\": \"white\", \"ticks\": \"\"}, \"bgcolor\": \"#E5ECF6\", \"caxis\": {\"gridcolor\": \"white\", \"linecolor\": \"white\", \"ticks\": \"\"}}, \"title\": {\"x\": 0.05}, \"xaxis\": {\"automargin\": true, \"gridcolor\": \"white\", \"linecolor\": \"white\", \"ticks\": \"\", \"title\": {\"standoff\": 15}, \"zerolinecolor\": \"white\", \"zerolinewidth\": 2}, \"yaxis\": {\"automargin\": true, \"gridcolor\": \"white\", \"linecolor\": \"white\", \"ticks\": \"\", \"title\": {\"standoff\": 15}, \"zerolinecolor\": \"white\", \"zerolinewidth\": 2}}}, \"title\": {\"text\": \"Probability Functions\"}, \"xaxis\": {\"tickfont\": {\"size\": 14}}, \"yaxis\": {\"tickfont\": {\"size\": 14}, \"title\": {\"font\": {\"size\": 16}, \"text\": \"Probability\"}}},\n",
       "                        {\"responsive\": true}\n",
       "                    ).then(function(){\n",
       "                            \n",
       "var gd = document.getElementById('c1585406-5e5e-4bbb-bf36-b1b527672923');\n",
       "var x = new MutationObserver(function (mutations, observer) {{\n",
       "        var display = window.getComputedStyle(gd).display;\n",
       "        if (!display || display === 'none') {{\n",
       "            console.log([gd, 'removed!']);\n",
       "            Plotly.purge(gd);\n",
       "            observer.disconnect();\n",
       "        }}\n",
       "}});\n",
       "\n",
       "// Listen for the removal of the full notebook cells\n",
       "var notebookContainer = gd.closest('#notebook-container');\n",
       "if (notebookContainer) {{\n",
       "    x.observe(notebookContainer, {childList: true});\n",
       "}}\n",
       "\n",
       "// Listen for the clearing of the current output cell\n",
       "var outputEl = gd.closest('.output');\n",
       "if (outputEl) {{\n",
       "    x.observe(outputEl, {childList: true});\n",
       "}}\n",
       "\n",
       "                        })\n",
       "                };\n",
       "                \n",
       "            </script>\n",
       "        </div>\n",
       "</body>\n",
       "</html>"
      ]
     },
     "metadata": {},
     "output_type": "display_data"
    }
   ],
   "source": [
    "Px = np.arange(0, 1.1, 0.1)\n",
    "P = np.zeros(11) \n",
    "P[0] = 1\n",
    "\n",
    "Qx = np.arange(0, 1.1, 0.1)\n",
    "Q = np.zeros(11) \n",
    "Q[0] = 1\n",
    "\n",
    "plot_Pxs(P, Px, Q, Qx)"
   ]
  },
  {
   "cell_type": "code",
   "execution_count": null,
   "metadata": {
    "colab": {
     "base_uri": "https://localhost:8080/"
    },
    "id": "u-RdH3zf68W2",
    "outputId": "0939baef-2e11-417f-ae7d-2efb7aab07f0"
   },
   "outputs": [
    {
     "data": {
      "text/plain": [
       "array([0., 0., 0., 0., 0., 0., 0., 0., 0., 0., 0.])"
      ]
     },
     "execution_count": 66,
     "metadata": {},
     "output_type": "execute_result"
    }
   ],
   "source": [
    "kl_div(P, Q)"
   ]
  },
  {
   "cell_type": "code",
   "execution_count": null,
   "metadata": {
    "colab": {
     "base_uri": "https://localhost:8080/"
    },
    "id": "Mx0hNsBH68W3",
    "outputId": "ff8342a1-49a1-47b3-a387-7b1cbfd7c326"
   },
   "outputs": [
    {
     "data": {
      "text/plain": [
       "0.0"
      ]
     },
     "execution_count": 67,
     "metadata": {},
     "output_type": "execute_result"
    }
   ],
   "source": [
    "jensenshannon(P, Q)"
   ]
  },
  {
   "cell_type": "code",
   "execution_count": null,
   "metadata": {
    "colab": {
     "base_uri": "https://localhost:8080/"
    },
    "id": "DumhgNui68W3",
    "outputId": "b9ee14f7-a1f7-46c7-c32e-e968430d8637"
   },
   "outputs": [
    {
     "data": {
      "text/plain": [
       "0.0"
      ]
     },
     "execution_count": 68,
     "metadata": {},
     "output_type": "execute_result"
    }
   ],
   "source": [
    "wasserstein_distance(Px, Qx, P, Q)"
   ]
  },
  {
   "cell_type": "markdown",
   "metadata": {
    "id": "mhAQLJtk1xGF"
   },
   "source": [
    "## 3. Empirical Results"
   ]
  },
  {
   "cell_type": "code",
   "execution_count": 1,
   "metadata": {
    "id": "BEDYagTG2haW"
   },
   "outputs": [],
   "source": [
    "import random\n",
    "import os\n",
    "import numpy as np\n",
    "import math\n",
    "\n",
    "import torch\n",
    "import torch.nn as nn\n",
    "import torch.optim as optim\n",
    "import torch.utils.data\n",
    "\n",
    "import torchvision.datasets as datasets\n",
    "import torchvision.transforms as transforms\n",
    "from torchvision.utils import save_image\n",
    "\n",
    "import matplotlib.pyplot as plt\n",
    "\n",
    "import pickle"
   ]
  },
  {
   "cell_type": "markdown",
   "metadata": {
    "id": "Tcsm-Ht4nkDn"
   },
   "source": [
    "### Connect Drive"
   ]
  },
  {
   "cell_type": "code",
   "execution_count": 2,
   "metadata": {
    "colab": {
     "base_uri": "https://localhost:8080/"
    },
    "id": "c-ctB8TwnjYX",
    "outputId": "a578d8c2-0e65-4d77-9783-d531ec6a7569"
   },
   "outputs": [],
   "source": [
    "#from google.colab import drive\n",
    "#drive.mount('/content/drive')\n",
    "\n",
    "#DRIVE_PATH = \"/content/drive/My Drive/security\\ &\\ ai\"\n",
    "DRIVE_PATH = \"./\""
   ]
  },
  {
   "cell_type": "markdown",
   "metadata": {
    "id": "hqCXEYNVhwQU"
   },
   "source": [
    "### Device"
   ]
  },
  {
   "cell_type": "code",
   "execution_count": 3,
   "metadata": {
    "id": "Rh4fgIn7hwQV"
   },
   "outputs": [],
   "source": [
    "device = torch.device('cuda') if torch.cuda.is_available() else torch.device('cpu')"
   ]
  },
  {
   "cell_type": "markdown",
   "metadata": {
    "id": "5e-bzRzMhwQV"
   },
   "source": [
    "## Random Seed"
   ]
  },
  {
   "cell_type": "code",
   "execution_count": 4,
   "metadata": {
    "colab": {
     "base_uri": "https://localhost:8080/"
    },
    "id": "ccrLG8EUti4t",
    "outputId": "a6c89220-f214-4e24-880e-c37acd04fb8e"
   },
   "outputs": [
    {
     "data": {
      "text/plain": [
       "6989"
      ]
     },
     "execution_count": 4,
     "metadata": {},
     "output_type": "execute_result"
    }
   ],
   "source": [
    "manualSeed = random.randint(1, 10000)\n",
    "random.seed(manualSeed)\n",
    "torch.manual_seed(manualSeed)\n",
    "manualSeed"
   ]
  },
  {
   "cell_type": "markdown",
   "metadata": {
    "id": "huT-Jm1V3E88"
   },
   "source": [
    "## MNIST Dataset"
   ]
  },
  {
   "cell_type": "markdown",
   "metadata": {
    "id": "Qffw2DC-hwQV"
   },
   "source": [
    "Set general dataset parameters."
   ]
  },
  {
   "cell_type": "code",
   "execution_count": 5,
   "metadata": {
    "id": "bj_p3W5_hwQV"
   },
   "outputs": [],
   "source": [
    "BATCH_SIZE = 64\n",
    "IMAGE_SIZE = 32\n",
    "N_CHANNELS = 1\n",
    "N_FEATURES_D = 64\n",
    "N_FEATURES_G = 64\n",
    "N_Z = 100"
   ]
  },
  {
   "cell_type": "markdown",
   "metadata": {
    "id": "vFZdmYeghwQW"
   },
   "source": [
    "Load dataset and prepare dataloader for training."
   ]
  },
  {
   "cell_type": "code",
   "execution_count": 6,
   "metadata": {
    "id": "VaYv4fAvhwQW"
   },
   "outputs": [],
   "source": [
    "mnist = datasets.MNIST(\n",
    "    f\"{DRIVE_PATH}/data/mnist\", download=True, train=True, \n",
    "    transform=transforms.Compose(\n",
    "        [\n",
    "         transforms.Resize(IMAGE_SIZE), \n",
    "         transforms.ToTensor(),\n",
    "         transforms.Normalize([0.5], [0.5])\n",
    "        ]\n",
    "    )\n",
    ")\n",
    "\n",
    "mnist = torch.utils.data.DataLoader(\n",
    "    mnist, batch_size=BATCH_SIZE, shuffle=True, num_workers=2\n",
    ")"
   ]
  },
  {
   "cell_type": "markdown",
   "metadata": {
    "id": "NZTFGKDHhwQW"
   },
   "source": [
    "Plot dataset examples."
   ]
  },
  {
   "cell_type": "code",
   "execution_count": 7,
   "metadata": {
    "id": "ZLiSAbVehwQW"
   },
   "outputs": [],
   "source": [
    "def plot_examples(dataloader, n_examples=16):\n",
    "    _, (data, targets) = next(enumerate(dataloader))\n",
    "    fig = plt.figure(figsize=(10, 10))\n",
    "    \n",
    "    for i in range(n_examples):\n",
    "        plt.subplot(math.ceil(n_examples / 4), 4, i + 1)\n",
    "        plt.tight_layout()\n",
    "        plt.imshow(data[i][0], cmap='gray', interpolation='none')\n",
    "        plt.title(f\"Ground Truth: {targets[i]}\")\n",
    "        plt.xticks([])\n",
    "        plt.yticks([])"
   ]
  },
  {
   "cell_type": "code",
   "execution_count": 8,
   "metadata": {
    "colab": {
     "base_uri": "https://localhost:8080/",
     "height": 716
    },
    "id": "r34_cisShwQW",
    "outputId": "fc6f4c39-94f3-4596-b96a-d52681c778cd"
   },
   "outputs": [
    {
     "data": {
      "image/png": "[encoded data removed]",
      "text/plain": [
       "<Figure size 720x720 with 16 Axes>"
      ]
     },
     "metadata": {},
     "output_type": "display_data"
    }
   ],
   "source": [
    "plot_examples(mnist)"
   ]
  },
  {
   "cell_type": "markdown",
   "metadata": {
    "id": "jXqrr3xkWPRG"
   },
   "source": [
    "## Models: MLP and DC GAN"
   ]
  },
  {
   "cell_type": "markdown",
   "metadata": {
    "id": "t3Ej8EMVhwQW"
   },
   "source": [
    "Define general DC GAN architecture for discriminator. "
   ]
  },
  {
   "cell_type": "code",
   "execution_count": 60,
   "metadata": {},
   "outputs": [],
   "source": [
    "class MLP_GAN_Discriminator(nn.Module):\n",
    "    def __init__(self, image_size=IMAGE_SIZE, n_channels=N_CHANNELS, n_features=N_FEATURES_D, wasserstein=True):\n",
    "        super(MLP_GAN_Discriminator, self).__init__()\n",
    "\n",
    "        self.image_size = image_size\n",
    "        self.n_channels = n_channels\n",
    "        self.wasserstein = wasserstein\n",
    "\n",
    "        self.layers = nn.Sequential(\n",
    "            nn.Linear(n_channels * image_size * image_size, n_features),\n",
    "            nn.ReLU(True),\n",
    "            nn.Linear(n_features, n_features),\n",
    "            nn.ReLU(True),\n",
    "            nn.Linear(n_features, n_features),\n",
    "            nn.ReLU(True),\n",
    "            nn.Linear(n_features, 1),\n",
    "        )\n",
    "        \n",
    "        if not wasserstein:\n",
    "            self.layers.add_module('final:{0}:sigmod'.format(n_channels),\n",
    "                        nn.Sigmoid())\n",
    "\n",
    "    def forward(self, input):\n",
    "        input = input.view(-1, self.n_channels * self.image_size * self.image_size)\n",
    "        \n",
    "        output = self.layers(input)\n",
    "        \n",
    "        if self.wasserstein:\n",
    "            output = output.mean(0).view(-1)\n",
    "        else:\n",
    "            output = output.view(-1, 1)\n",
    "\n",
    "        return output\n",
    "    \n",
    "class MLP_GAN_Generator(nn.Module):\n",
    "    def __init__(self, image_size=IMAGE_SIZE, n_channels=N_CHANNELS, n_z=N_Z, n_features=N_FEATURES_G):\n",
    "        super(MLP_GAN_Generator, self).__init__()\n",
    "\n",
    "        self.image_size = image_size\n",
    "        self.n_channels = n_channels\n",
    "        self.n_z = n_z\n",
    "\n",
    "        self.layers = nn.Sequential(\n",
    "            nn.Linear(n_z, n_features),\n",
    "            nn.ReLU(True),\n",
    "            nn.Linear(n_features, n_features),\n",
    "            nn.ReLU(True),\n",
    "            nn.Linear(n_features, n_features),\n",
    "            nn.ReLU(True),\n",
    "            nn.Linear(n_features, n_channels * image_size * image_size),\n",
    "        )\n",
    "\n",
    "    def forward(self, input):\n",
    "        input = input.view(-1, self.n_z)\n",
    "        output = self.layers(input)\n",
    "        return output.view(-1, self.n_channels, self.image_size, self.image_size)"
   ]
  },
  {
   "cell_type": "code",
   "execution_count": 61,
   "metadata": {},
   "outputs": [],
   "source": [
    "class DC_GAN_Discriminator(nn.Module):\n",
    "    def __init__(self, image_size=IMAGE_SIZE, n_channels=N_CHANNELS, n_features=N_FEATURES_D, wasserstein=True):\n",
    "        super(DC_GAN_Discriminator, self).__init__()\n",
    "\n",
    "        self.wasserstein = wasserstein\n",
    "\n",
    "        layers = [\n",
    "            self.block(n_channels, n_features, batch_norm=False),\n",
    "            self.block(n_features, n_features * 2),\n",
    "            self.block(n_features * 2, n_features * 4),\n",
    "            nn.Conv2d(n_features * 4, 1, 4, 1, 0, bias=False)\n",
    "        ]\n",
    "\n",
    "        if not wasserstein:\n",
    "            layers.append(nn.Sigmoid())\n",
    "\n",
    "        self.layers = nn.Sequential(*layers)\n",
    "\n",
    "    @staticmethod\n",
    "    def block(in_features, out_features, batch_norm=True):\n",
    "        layers = [nn.Conv2d(in_features, out_features, 4, 2, 1, bias=False)]\n",
    "\n",
    "        if batch_norm:\n",
    "            layers.append(nn.BatchNorm2d(out_features))\n",
    "\n",
    "        layers.append(nn.LeakyReLU(0.2, inplace=True))\n",
    "\n",
    "        return nn.Sequential(*layers)\n",
    "\n",
    "    def forward(self, input):\n",
    "        output = self.layers(input)\n",
    "\n",
    "        if self.wasserstein:\n",
    "            output = output.mean(0).view(-1)\n",
    "        else:\n",
    "            output = output.view(-1, 1)\n",
    "\n",
    "        return output\n",
    "\n",
    "\n",
    "class DC_GAN_Generator(nn.Module):\n",
    "    def __init__(self, image_size=IMAGE_SIZE, n_channels=N_CHANNELS, n_z=N_Z, n_features=N_FEATURES_G):\n",
    "        super(DC_GAN_Generator, self).__init__()\n",
    "\n",
    "        self.image_size = image_size\n",
    "        self.n_z = n_z\n",
    "\n",
    "        n_features = n_features // 2 * 8  # 256\n",
    "\n",
    "        self.layers = nn.Sequential(\n",
    "            self.block(n_z, n_features, 1, 0),\n",
    "            self.block(n_features, n_features // 2),\n",
    "            self.block(n_features // 2, n_features // 4),\n",
    "            nn.ConvTranspose2d(n_features // 4, n_channels, 4, 2, 1, bias=False),\n",
    "            nn.Tanh()\n",
    "        )\n",
    "\n",
    "    @staticmethod\n",
    "    def block(in_features, out_features, stride=2, padding=1):\n",
    "        return nn.Sequential(\n",
    "            nn.ConvTranspose2d(in_features, out_features, 4, stride, padding, bias=False),\n",
    "            nn.BatchNorm2d(out_features),\n",
    "            nn.ReLU(True)\n",
    "        )\n",
    "\n",
    "    def forward(self, input):\n",
    "        return self.layers(input) "
   ]
  },
  {
   "cell_type": "markdown",
   "metadata": {
    "id": "KTanSVSThwQW"
   },
   "source": [
    "Define general DC_GAN architecture for generator. "
   ]
  },
  {
   "cell_type": "markdown",
   "metadata": {
    "id": "tFMHtGochwQX"
   },
   "source": [
    "## Models: Weight Initialization"
   ]
  },
  {
   "cell_type": "markdown",
   "metadata": {
    "id": "rP4VyNwBhwQX"
   },
   "source": [
    "Define general DC_GAN weight initialization. "
   ]
  },
  {
   "cell_type": "code",
   "execution_count": 62,
   "metadata": {
    "id": "z0xW4dyItD7L"
   },
   "outputs": [],
   "source": [
    "def weights_init(m):\n",
    "    classname = m.__class__.__name__\n",
    "    if classname.find('Conv') != -1:\n",
    "        m.weight.data.normal_(0.0, 0.02)\n",
    "    elif classname.find('BatchNorm') != -1:\n",
    "        m.weight.data.normal_(1.0, 0.02)\n",
    "        m.bias.data.fill_(0)"
   ]
  },
  {
   "cell_type": "markdown",
   "metadata": {
    "id": "_zCF0gozhwQX"
   },
   "source": [
    "## Training"
   ]
  },
  {
   "cell_type": "code",
   "execution_count": 72,
   "metadata": {},
   "outputs": [],
   "source": [
    "LEARNING_RATE = 0.00005\n",
    "\n",
    "CLAMP_LOWER = -0.01\n",
    "CLAMP_UPPER = 0.01\n",
    "\n",
    "MIN_ITERARTINS_D_WASSERSTEIN = 5\n",
    "MAX_ITERATIONS_D_WASSERSTEIN = 100\n",
    "\n",
    "MIN_ITERARTINS_D_VANILLA = 1\n",
    "MAX_ITERATIONS_D_VANILLA = 1\n",
    "\n",
    "EPOCHS = 50"
   ]
  },
  {
   "cell_type": "code",
   "execution_count": 64,
   "metadata": {},
   "outputs": [],
   "source": [
    "def noise(n, n_z, device):\n",
    "    return torch.randn((n, n_z, 1, 1), device=device)\n",
    "\n",
    "def sample(n, generator, device):\n",
    "    return generator(noise(n, generator.n_z, device))"
   ]
  },
  {
   "cell_type": "markdown",
   "metadata": {
    "id": "8P6Bz6QhhwQX"
   },
   "source": [
    "Define general training process. "
   ]
  },
  {
   "cell_type": "code",
   "execution_count": 65,
   "metadata": {},
   "outputs": [],
   "source": [
    "def train_d(discriminator, generator, real_images, fake_images, real_labels, fake_labels, batch_size, optimizer_d, criterion,\n",
    "            wasserstein, one, minus_one, clamp_lower, clamp_upper, device):\n",
    "    discriminator.zero_grad()\n",
    "\n",
    "    if wasserstein:\n",
    "        for parameter in discriminator.parameters():\n",
    "            parameter.data.clamp_(clamp_lower, clamp_upper)\n",
    "\n",
    "    output_d_real = discriminator(real_images)\n",
    "\n",
    "    if wasserstein:\n",
    "        loss_d_real = output_d_real\n",
    "        loss_d_real.backward(one)\n",
    "    else:\n",
    "        loss_d_real = criterion(output_d_real, real_labels)\n",
    "\n",
    "    output_d_fake = discriminator(fake_images.detach())\n",
    "\n",
    "    if wasserstein:\n",
    "        loss_d_fake = output_d_fake\n",
    "        loss_d_fake.backward(minus_one)\n",
    "        loss_d = loss_d_fake - loss_d_real\n",
    "    else:\n",
    "        loss_d_fake = criterion(output_d_fake, fake_labels)\n",
    "        loss_d = loss_d_real + loss_d_fake\n",
    "        loss_d.backward()\n",
    "\n",
    "    optimizer_d.step()\n",
    "\n",
    "    return loss_d.item()\n",
    "\n",
    "def train_g(discriminator, generator, fake_images, real_labels, batch_size, optimizer_g, criterion, wasserstein, one, minus_one,\n",
    "            device):\n",
    "    generator.zero_grad()\n",
    "\n",
    "    output_d_fake = discriminator(fake_images)\n",
    "\n",
    "    if wasserstein:\n",
    "        loss_g = output_d_fake\n",
    "        loss_g.backward(one)\n",
    "    else:\n",
    "        loss_g = criterion(output_d_fake, real_labels)\n",
    "        loss_g.backward()\n",
    "\n",
    "    optimizer_g.step()\n",
    "\n",
    "    return loss_g.item()"
   ]
  },
  {
   "cell_type": "code",
   "execution_count": 66,
   "metadata": {},
   "outputs": [],
   "source": [
    "def train(\n",
    "        dataloader, discriminator, generator, optimizer_d, optimizer_g, criterion=None, image_size=IMAGE_SIZE,\n",
    "        n_c=N_CHANNELS, n_z=N_Z,\n",
    "        batch_size=BATCH_SIZE, min_iterations_d=MIN_ITERARTINS_D_WASSERSTEIN,\n",
    "        max_iterations_d=MAX_ITERATIONS_D_WASSERSTEIN, epochs=EPOCHS, clamp_lower=CLAMP_LOWER, clamp_upper=CLAMP_UPPER,\n",
    "        wasserstein=True,\n",
    "        device=torch.device(\"cpu\"), save_path=\"./output\"\n",
    "):\n",
    "    train_stats = TrainingStatistics(epochs, len(dataloader), noise(batch_size, n_z, device), save_path)\n",
    "\n",
    "    discriminator.to(device)\n",
    "    generator.to(device)\n",
    "    \n",
    "    if wasserstein:\n",
    "        one = torch.FloatTensor([1]).to(device)\n",
    "        minus_one = torch.FloatTensor([-1]).to(device)\n",
    "    else:\n",
    "        one, minus_one = None, None\n",
    "        criterion.to(device)\n",
    "\n",
    "    iterations_g = 0\n",
    "    iterations_d = 0\n",
    "\n",
    "    for epoch in range(epochs):\n",
    "        for batch_index, (real_images, _) in enumerate(dataloader):\n",
    "            batch_size = len(real_images)\n",
    "\n",
    "            real_images = real_images.to(device)\n",
    "            fake_images = sample(batch_size, generator, device)\n",
    "\n",
    "            real_labels = torch.ones((batch_size, 1), device=device)\n",
    "            fake_labels = torch.zeros((batch_size, 1), device=device)\n",
    "\n",
    "            if iterations_d == 0:\n",
    "                iterations_d = max_iterations_d if iterations_g < 25 or iterations_g % 500 == 0 else min_iterations_d\n",
    "\n",
    "            loss_d = train_d(discriminator, generator, real_images, fake_images, real_labels, fake_labels, batch_size,\n",
    "                             optimizer_d, criterion, wasserstein, one, minus_one, clamp_lower, clamp_upper, device)\n",
    "            iterations_d -= 1\n",
    "\n",
    "            if iterations_d == 0:\n",
    "                loss_g = train_g(discriminator, generator, fake_images, real_labels, batch_size, optimizer_g, criterion,\n",
    "                                 wasserstein, one, minus_one, device)\n",
    "                iterations_g += 1\n",
    "        \n",
    "        train_stats.finish_epoch(discriminator, generator, loss_d, loss_g, iterations_g)   \n",
    "\n",
    "    return train_stats"
   ]
  },
  {
   "cell_type": "code",
   "execution_count": 67,
   "metadata": {},
   "outputs": [],
   "source": [
    "class TrainingStatistics:\n",
    "    def __init__(self, epochs, batches, fixed_z, save_path=\"./output\"):\n",
    "        self.epochs = epochs\n",
    "        self.batches = batches\n",
    "\n",
    "        self.losses_d = []\n",
    "        self.mean_losses_d = []\n",
    "        self.losses_g = []\n",
    "        self.mean_losses_g = []\n",
    "\n",
    "        self.iterations_g = []\n",
    "\n",
    "        os.makedirs(save_path, exist_ok=True)\n",
    "        self.save_path = save_path\n",
    "\n",
    "        self.fixed_z = fixed_z\n",
    "        self.fixed_z.requires_grad = False\n",
    "\n",
    "    def finish_epoch(self, discriminator, generator, loss_d, loss_g, iterations_g):\n",
    "        self.losses_d.append(loss_d)\n",
    "        self.mean_losses_d.append(torch.mean(torch.FloatTensor(self.losses_d)))\n",
    "\n",
    "        self.losses_g.append(loss_g)\n",
    "        self.mean_losses_g.append(torch.mean(torch.FloatTensor(self.losses_g)))\n",
    "\n",
    "        self.iterations_g.append(iterations_g)\n",
    "\n",
    "        self.print()\n",
    "        self.save_models(discriminator, generator)\n",
    "        self.save_images(generator)\n",
    "        self.save_hist()\n",
    "\n",
    "    def print(self):\n",
    "        print(\n",
    "            f\"[{len(self.losses_d)}/{self.epochs}][{self.iterations_g[-1]:d}] Loss D: {self.losses_d[-1]:f} Loss G: {self.losses_g[-1]:f}\")\n",
    "\n",
    "    def plot_hist(self):\n",
    "        x = train_stats.iterations_g\n",
    "        y1 = train_stats.mean_losses_d\n",
    "        y2 = train_stats.mean_losses_g\n",
    "\n",
    "        plt.plot(x, y1, label='D mean loss')\n",
    "        plt.plot(x, y2, label='G mean loss')\n",
    "\n",
    "        plt.xlabel('G Iterations')\n",
    "        plt.ylabel('Loss')\n",
    "\n",
    "        plt.legend(loc='best')\n",
    "        plt.grid(True)\n",
    "        plt.tight_layout()\n",
    "\n",
    "        plt.show()\n",
    "        \n",
    "    def plot_fake_images(self):\n",
    "        fake_images = plt.imread(f\"{self.save_path}/fake_images_{self.iterations_g[-1]}.png\")\n",
    "        fig = plt.figure(figsize=(10, 10))\n",
    "        fig, (axis) = plt.subplots(1, 1)\n",
    "        axis.imshow(fake_images, cmap='gray')\n",
    "\n",
    "    def hist(self):\n",
    "        return {\n",
    "            'D loss': self.losses_d,\n",
    "            'D mean loss': self.mean_losses_d,\n",
    "            'G loss': self.losses_g,\n",
    "            'G mean loss': self.mean_losses_g,\n",
    "            'G Iterations': self.iterations_g,\n",
    "        }\n",
    "\n",
    "    def save_models(self, discriminator, generator):\n",
    "        torch.save(discriminator.state_dict(), f'{self.save_path}/discriminator.pth')\n",
    "        torch.save(generator.state_dict(), f'{self.save_path}/generator.pth')\n",
    "\n",
    "    def save_images(self, generator):\n",
    "        fake_images = generator(self.fixed_z)\n",
    "        save_image(\n",
    "            self.denormalize_image(fake_images.data).view(-1, 1, generator.image_size, generator.image_size),\n",
    "            f'{self.save_path}/fake_images_{self.iterations_g[-1]}.png'\n",
    "        )\n",
    "\n",
    "    def save_hist(self):\n",
    "        with open(f'{self.save_path}/hist.pkl', 'wb') as file:\n",
    "            pickle.dump(self.hist(), file)\n",
    "\n",
    "    @staticmethod\n",
    "    def denormalize_image(image):\n",
    "        return image.mul(0.5).add(0.5)"
   ]
  },
  {
   "cell_type": "markdown",
   "metadata": {
    "id": "eCqk8onfhwQY"
   },
   "source": [
    "Define general plotting of training results. "
   ]
  },
  {
   "cell_type": "markdown",
   "metadata": {
    "id": "av3c5IWghwQZ"
   },
   "source": [
    "## Wasserstein MLP GAN"
   ]
  },
  {
   "cell_type": "code",
   "execution_count": 68,
   "metadata": {
    "id": "oEuGXCX6hwQZ"
   },
   "outputs": [],
   "source": [
    "SAVE_PATH_W_MLP_GAN = f\"{DRIVE_PATH}/output/w_mlp_gan\""
   ]
  },
  {
   "cell_type": "markdown",
   "metadata": {
    "id": "wZrb7BzshwQZ"
   },
   "source": [
    "Define Wasserstein MLP GAN discriminator. "
   ]
  },
  {
   "cell_type": "code",
   "execution_count": 69,
   "metadata": {
    "colab": {
     "base_uri": "https://localhost:8080/"
    },
    "id": "yxnln7ZEl6jX",
    "outputId": "77a2609b-a5fc-474a-f5df-d35f480a5187"
   },
   "outputs": [
    {
     "name": "stdout",
     "output_type": "stream",
     "text": [
      "MLP_GAN_Discriminator(\n",
      "  (layers): Sequential(\n",
      "    (0): Linear(in_features=1024, out_features=64, bias=True)\n",
      "    (1): ReLU(inplace=True)\n",
      "    (2): Linear(in_features=64, out_features=64, bias=True)\n",
      "    (3): ReLU(inplace=True)\n",
      "    (4): Linear(in_features=64, out_features=64, bias=True)\n",
      "    (5): ReLU(inplace=True)\n",
      "    (6): Linear(in_features=64, out_features=1, bias=True)\n",
      "  )\n",
      ")\n"
     ]
    }
   ],
   "source": [
    "# Initialize discriminator model\n",
    "discriminator = MLP_GAN_Discriminator()\n",
    "\n",
    "# Apply weights initialization\n",
    "discriminator.apply(weights_init)\n",
    "\n",
    "# Load saved discriminator checkpoint (optional)\n",
    "# discriminator.load_state_dict(torch.load(f'{SAVE_PATH_W_MLP_GAN}/discriminator.pth'))\n",
    "\n",
    "# Plot discriminator model architecture\n",
    "print(discriminator)"
   ]
  },
  {
   "cell_type": "markdown",
   "metadata": {
    "id": "V2TQZoWVhwQa"
   },
   "source": [
    "Define Wasserstein MLP GAN for generator. "
   ]
  },
  {
   "cell_type": "code",
   "execution_count": 70,
   "metadata": {
    "colab": {
     "base_uri": "https://localhost:8080/"
    },
    "id": "qPmwd2U5mojY",
    "outputId": "81291ee4-b91d-4594-e2e3-ca2e3de46d9c"
   },
   "outputs": [
    {
     "name": "stdout",
     "output_type": "stream",
     "text": [
      "MLP_GAN_Generator(\n",
      "  (layers): Sequential(\n",
      "    (0): Linear(in_features=100, out_features=64, bias=True)\n",
      "    (1): ReLU(inplace=True)\n",
      "    (2): Linear(in_features=64, out_features=64, bias=True)\n",
      "    (3): ReLU(inplace=True)\n",
      "    (4): Linear(in_features=64, out_features=64, bias=True)\n",
      "    (5): ReLU(inplace=True)\n",
      "    (6): Linear(in_features=64, out_features=1024, bias=True)\n",
      "  )\n",
      ")\n"
     ]
    }
   ],
   "source": [
    "# Initialize generator model\n",
    "generator = MLP_GAN_Generator()\n",
    "\n",
    "# Apply weights initialization\n",
    "generator.apply(weights_init)\n",
    "\n",
    "# Load saved generator checkpoint (optional)\n",
    "# generator.load_state_dict(torch.load(f'{SAVE_PATH_W_MLP_GAN}/generator.pth'))\n",
    "\n",
    "# Plot generator model architecture\n",
    "print(generator)"
   ]
  },
  {
   "cell_type": "markdown",
   "metadata": {
    "id": "sjafFuEqhwQa"
   },
   "source": [
    "Define Root Mean Squared Propagation (RMSprop) optimizers for training."
   ]
  },
  {
   "cell_type": "code",
   "execution_count": 73,
   "metadata": {
    "id": "gbtvFaIDoPSy"
   },
   "outputs": [],
   "source": [
    "# Initialize discriminator RMSprop optimizer\n",
    "optimizer_d = optim.RMSprop(discriminator.parameters(), lr=LEARNING_RATE)\n",
    "\n",
    "# Initialize generator RMSprop optimizer\n",
    "optimizer_g = optim.RMSprop(generator.parameters(), lr=LEARNING_RATE)"
   ]
  },
  {
   "cell_type": "markdown",
   "metadata": {
    "id": "kfwHXX4GhwQa"
   },
   "source": [
    "Train Wasserstein MLP GAN models."
   ]
  },
  {
   "cell_type": "code",
   "execution_count": 74,
   "metadata": {
    "id": "lLujJwAThwQb"
   },
   "outputs": [
    {
     "name": "stdout",
     "output_type": "stream",
     "text": [
      "[1/50][9] Loss D: 0.240814 Loss G: -0.004237\n",
      "[2/50][18] Loss D: 0.266617 Loss G: -0.004898\n",
      "[3/50][87] Loss D: 0.276105 Loss G: -0.007592\n",
      "[4/50][275] Loss D: 0.129665 Loss G: -0.101255\n",
      "[5/50][463] Loss D: 0.011961 Loss G: 0.000137\n",
      "[6/50][631] Loss D: 0.020563 Loss G: -0.007312\n",
      "[7/50][819] Loss D: 0.019328 Loss G: -0.002228\n",
      "[8/50][1000] Loss D: 0.026332 Loss G: -0.003508\n",
      "[9/50][1175] Loss D: 0.028299 Loss G: -0.009197\n",
      "[10/50][1363] Loss D: 0.023458 Loss G: -0.004015\n",
      "[11/50][1531] Loss D: 0.028800 Loss G: -0.013027\n",
      "[12/50][1719] Loss D: 0.020834 Loss G: -0.009696\n",
      "[13/50][1906] Loss D: 0.013980 Loss G: -0.009074\n",
      "[14/50][2075] Loss D: 0.017924 Loss G: -0.006749\n",
      "[15/50][2263] Loss D: 0.018502 Loss G: -0.000614\n",
      "[16/50][2450] Loss D: 0.018008 Loss G: -0.009153\n",
      "[17/50][2619] Loss D: 0.026288 Loss G: -0.010882\n",
      "[18/50][2806] Loss D: 0.023128 Loss G: -0.003345\n",
      "[19/50][2994] Loss D: 0.028857 Loss G: -0.008532\n",
      "[20/50][3163] Loss D: 0.020997 Loss G: 0.001547\n",
      "[21/50][3350] Loss D: 0.020161 Loss G: -0.010579\n",
      "[22/50][3519] Loss D: 0.016693 Loss G: -0.009851\n",
      "[23/50][3706] Loss D: 0.017210 Loss G: -0.006718\n",
      "[24/50][3894] Loss D: 0.015223 Loss G: -0.009437\n",
      "[25/50][4063] Loss D: 0.018958 Loss G: -0.009053\n",
      "[26/50][4250] Loss D: 0.021878 Loss G: -0.008480\n",
      "[27/50][4438] Loss D: 0.022925 Loss G: -0.010098\n",
      "[28/50][4606] Loss D: 0.023281 Loss G: 0.000331\n",
      "[29/50][4794] Loss D: 0.020702 Loss G: -0.005858\n",
      "[30/50][4982] Loss D: 0.019114 Loss G: -0.003164\n",
      "[31/50][5150] Loss D: 0.018186 Loss G: -0.010283\n",
      "[32/50][5338] Loss D: 0.019532 Loss G: -0.007152\n",
      "[33/50][5506] Loss D: 0.015749 Loss G: -0.004390\n",
      "[34/50][5694] Loss D: 0.018754 Loss G: -0.007914\n",
      "[35/50][5882] Loss D: 0.019382 Loss G: -0.000563\n",
      "[36/50][6050] Loss D: 0.017108 Loss G: -0.008979\n",
      "[37/50][6238] Loss D: 0.019162 Loss G: -0.002097\n",
      "[38/50][6425] Loss D: 0.016457 Loss G: -0.002408\n",
      "[39/50][6594] Loss D: 0.015817 Loss G: 0.000679\n",
      "[40/50][6782] Loss D: 0.018364 Loss G: -0.008374\n",
      "[41/50][6969] Loss D: 0.015006 Loss G: -0.013971\n",
      "[42/50][7138] Loss D: 0.016928 Loss G: -0.005280\n",
      "[43/50][7325] Loss D: 0.014449 Loss G: -0.014536\n",
      "[44/50][7500] Loss D: 0.015819 Loss G: -0.013193\n",
      "[45/50][7682] Loss D: 0.015795 Loss G: -0.001417\n",
      "[46/50][7869] Loss D: 0.015418 Loss G: -0.014086\n",
      "[47/50][8038] Loss D: 0.015349 Loss G: -0.006547\n",
      "[48/50][8225] Loss D: 0.013908 Loss G: -0.006084\n",
      "[49/50][8413] Loss D: 0.010868 Loss G: -0.006592\n",
      "[50/50][8582] Loss D: 0.015365 Loss G: -0.013016\n"
     ]
    }
   ],
   "source": [
    "# Train models; Returns a loss histogram that shows the training progess\n",
    "train_stats = train(\n",
    "    mnist, discriminator, generator, optimizer_d, optimizer_g, device=device, save_path=SAVE_PATH_W_MLP_GAN\n",
    ")"
   ]
  },
  {
   "cell_type": "markdown",
   "metadata": {
    "id": "gJFrLHYfhwQb"
   },
   "source": [
    "Plot histogram results of Wasserstein MLP GAN training."
   ]
  },
  {
   "cell_type": "code",
   "execution_count": 75,
   "metadata": {
    "id": "YzRaPutvhwQb",
    "outputId": "919e3c78-9634-4b18-fcaa-c420f0e23be6"
   },
   "outputs": [
    {
     "data": {
      "image/png": "[encoded data removed]",
      "text/plain": [
       "<Figure size 432x288 with 1 Axes>"
      ]
     },
     "metadata": {
      "needs_background": "light"
     },
     "output_type": "display_data"
    }
   ],
   "source": [
    "# Plot results\n",
    "train_stats.plot_hist()"
   ]
  },
  {
   "cell_type": "markdown",
   "metadata": {
    "id": "foKOx39XhwQb"
   },
   "source": [
    "Show resulting fake images."
   ]
  },
  {
   "cell_type": "code",
   "execution_count": 76,
   "metadata": {
    "id": "P9Cl3bbdhwQb",
    "outputId": "fc5c7840-81ab-4eb2-9726-41619cd5f58f",
    "scrolled": true
   },
   "outputs": [
    {
     "data": {
      "text/plain": [
       "<Figure size 720x720 with 0 Axes>"
      ]
     },
     "metadata": {},
     "output_type": "display_data"
    },
    {
     "data": {
      "image/png": "[encoded data removed]",
      "text/plain": [
       "<Figure size 432x288 with 1 Axes>"
      ]
     },
     "metadata": {
      "needs_background": "light"
     },
     "output_type": "display_data"
    }
   ],
   "source": [
    "# Show fake samples.\n",
    "train_stats.plot_fake_images()"
   ]
  },
  {
   "cell_type": "markdown",
   "metadata": {
    "id": "av3c5IWghwQZ"
   },
   "source": [
    "## Wasserstein DC GAN"
   ]
  },
  {
   "cell_type": "code",
   "execution_count": 77,
   "metadata": {
    "id": "oEuGXCX6hwQZ"
   },
   "outputs": [],
   "source": [
    "SAVE_PATH_W_DC_GAN = f\"{DRIVE_PATH}/output/w_dc_gan\""
   ]
  },
  {
   "cell_type": "markdown",
   "metadata": {
    "id": "wZrb7BzshwQZ"
   },
   "source": [
    "Define Wasserstein DC GAN discriminator. "
   ]
  },
  {
   "cell_type": "code",
   "execution_count": 78,
   "metadata": {
    "colab": {
     "base_uri": "https://localhost:8080/"
    },
    "id": "yxnln7ZEl6jX",
    "outputId": "77a2609b-a5fc-474a-f5df-d35f480a5187"
   },
   "outputs": [
    {
     "name": "stdout",
     "output_type": "stream",
     "text": [
      "DC_GAN_Discriminator(\n",
      "  (layers): Sequential(\n",
      "    (0): Sequential(\n",
      "      (0): Conv2d(1, 64, kernel_size=(4, 4), stride=(2, 2), padding=(1, 1), bias=False)\n",
      "      (1): LeakyReLU(negative_slope=0.2, inplace=True)\n",
      "    )\n",
      "    (1): Sequential(\n",
      "      (0): Conv2d(64, 128, kernel_size=(4, 4), stride=(2, 2), padding=(1, 1), bias=False)\n",
      "      (1): BatchNorm2d(128, eps=1e-05, momentum=0.1, affine=True, track_running_stats=True)\n",
      "      (2): LeakyReLU(negative_slope=0.2, inplace=True)\n",
      "    )\n",
      "    (2): Sequential(\n",
      "      (0): Conv2d(128, 256, kernel_size=(4, 4), stride=(2, 2), padding=(1, 1), bias=False)\n",
      "      (1): BatchNorm2d(256, eps=1e-05, momentum=0.1, affine=True, track_running_stats=True)\n",
      "      (2): LeakyReLU(negative_slope=0.2, inplace=True)\n",
      "    )\n",
      "    (3): Conv2d(256, 1, kernel_size=(4, 4), stride=(1, 1), bias=False)\n",
      "  )\n",
      ")\n"
     ]
    }
   ],
   "source": [
    "# Initialize discriminator model\n",
    "discriminator = DC_GAN_Discriminator()\n",
    "\n",
    "# Apply weights initialization\n",
    "discriminator.apply(weights_init)\n",
    "\n",
    "# Load saved discriminator checkpoint (optional)\n",
    "# discriminator.load_state_dict(torch.load(f'{SAVE_PATH_W_DC_GAN}/discriminator.pth'))\n",
    "\n",
    "# Plot discriminator model architecture\n",
    "print(discriminator)"
   ]
  },
  {
   "cell_type": "markdown",
   "metadata": {
    "id": "V2TQZoWVhwQa"
   },
   "source": [
    "Define Wasserstein DC GAN for generator. "
   ]
  },
  {
   "cell_type": "code",
   "execution_count": 79,
   "metadata": {
    "colab": {
     "base_uri": "https://localhost:8080/"
    },
    "id": "qPmwd2U5mojY",
    "outputId": "81291ee4-b91d-4594-e2e3-ca2e3de46d9c"
   },
   "outputs": [
    {
     "name": "stdout",
     "output_type": "stream",
     "text": [
      "DC_GAN_Generator(\n",
      "  (layers): Sequential(\n",
      "    (0): Sequential(\n",
      "      (0): ConvTranspose2d(100, 256, kernel_size=(4, 4), stride=(1, 1), bias=False)\n",
      "      (1): BatchNorm2d(256, eps=1e-05, momentum=0.1, affine=True, track_running_stats=True)\n",
      "      (2): ReLU(inplace=True)\n",
      "    )\n",
      "    (1): Sequential(\n",
      "      (0): ConvTranspose2d(256, 128, kernel_size=(4, 4), stride=(2, 2), padding=(1, 1), bias=False)\n",
      "      (1): BatchNorm2d(128, eps=1e-05, momentum=0.1, affine=True, track_running_stats=True)\n",
      "      (2): ReLU(inplace=True)\n",
      "    )\n",
      "    (2): Sequential(\n",
      "      (0): ConvTranspose2d(128, 64, kernel_size=(4, 4), stride=(2, 2), padding=(1, 1), bias=False)\n",
      "      (1): BatchNorm2d(64, eps=1e-05, momentum=0.1, affine=True, track_running_stats=True)\n",
      "      (2): ReLU(inplace=True)\n",
      "    )\n",
      "    (3): ConvTranspose2d(64, 1, kernel_size=(4, 4), stride=(2, 2), padding=(1, 1), bias=False)\n",
      "    (4): Tanh()\n",
      "  )\n",
      ")\n"
     ]
    }
   ],
   "source": [
    "# Initialize generator model\n",
    "generator = DC_GAN_Generator()\n",
    "\n",
    "# Apply weights initialization\n",
    "generator.apply(weights_init)\n",
    "\n",
    "# Load saved generator checkpoint (optional)\n",
    "# generator.load_state_dict(torch.load(f'{SAVE_PATH_W_DC_GAN}/generator.pth'))\n",
    "\n",
    "# Plot generator model architecture\n",
    "print(generator)"
   ]
  },
  {
   "cell_type": "markdown",
   "metadata": {
    "id": "sjafFuEqhwQa"
   },
   "source": [
    "Define Root Mean Squared Propagation (RMSprop) optimizers for training."
   ]
  },
  {
   "cell_type": "code",
   "execution_count": 80,
   "metadata": {
    "id": "gbtvFaIDoPSy"
   },
   "outputs": [],
   "source": [
    "# Initialize discriminator RMSprop optimizer\n",
    "optimizer_d = optim.RMSprop(discriminator.parameters(), lr=LEARNING_RATE)\n",
    "\n",
    "# Initialize generator RMSprop optimizer\n",
    "optimizer_g = optim.RMSprop(generator.parameters(), lr=LEARNING_RATE)"
   ]
  },
  {
   "cell_type": "markdown",
   "metadata": {
    "id": "kfwHXX4GhwQa"
   },
   "source": [
    "Train Wasserstein DC GAN models."
   ]
  },
  {
   "cell_type": "code",
   "execution_count": 81,
   "metadata": {
    "id": "lLujJwAThwQb"
   },
   "outputs": [
    {
     "name": "stdout",
     "output_type": "stream",
     "text": [
      "[1/50][9] Loss D: 0.711758 Loss G: 0.352121\n",
      "[2/50][18] Loss D: 0.706228 Loss G: 0.345480\n",
      "[3/50][87] Loss D: 0.619544 Loss G: 0.320221\n",
      "[4/50][275] Loss D: 0.667810 Loss G: 0.331325\n",
      "[5/50][463] Loss D: 0.573524 Loss G: 0.293548\n",
      "[6/50][631] Loss D: 0.443514 Loss G: 0.230243\n",
      "[7/50][819] Loss D: 0.358974 Loss G: 0.203780\n",
      "[8/50][1000] Loss D: 0.328227 Loss G: 0.134219\n",
      "[9/50][1175] Loss D: 0.363863 Loss G: 0.143915\n",
      "[10/50][1363] Loss D: 0.318119 Loss G: 0.128823\n",
      "[11/50][1531] Loss D: 0.297122 Loss G: 0.202962\n",
      "[12/50][1719] Loss D: 0.293632 Loss G: 0.123725\n",
      "[13/50][1906] Loss D: 0.232348 Loss G: 0.157018\n",
      "[14/50][2075] Loss D: 0.271074 Loss G: 0.156871\n",
      "[15/50][2263] Loss D: 0.232483 Loss G: 0.193187\n",
      "[16/50][2450] Loss D: 0.231333 Loss G: 0.051083\n",
      "[17/50][2619] Loss D: 0.220672 Loss G: 0.154237\n",
      "[18/50][2806] Loss D: 0.206597 Loss G: 0.171747\n",
      "[19/50][2994] Loss D: 0.225058 Loss G: 0.035807\n",
      "[20/50][3163] Loss D: 0.199810 Loss G: 0.053907\n",
      "[21/50][3350] Loss D: 0.190812 Loss G: 0.156177\n",
      "[22/50][3519] Loss D: 0.189126 Loss G: 0.166709\n",
      "[23/50][3706] Loss D: 0.187627 Loss G: 0.145222\n",
      "[24/50][3894] Loss D: 0.187193 Loss G: 0.157469\n",
      "[25/50][4063] Loss D: 0.163752 Loss G: 0.032287\n",
      "[26/50][4250] Loss D: 0.193796 Loss G: 0.140290\n",
      "[27/50][4438] Loss D: 0.191026 Loss G: 0.150942\n",
      "[28/50][4606] Loss D: 0.182856 Loss G: 0.014800\n",
      "[29/50][4794] Loss D: 0.161220 Loss G: 0.136024\n",
      "[30/50][4982] Loss D: 0.167360 Loss G: 0.151924\n",
      "[31/50][5150] Loss D: 0.154261 Loss G: 0.162869\n",
      "[32/50][5338] Loss D: 0.179138 Loss G: 0.039041\n",
      "[33/50][5506] Loss D: 0.179885 Loss G: 0.047706\n",
      "[34/50][5694] Loss D: 0.114445 Loss G: 0.047293\n",
      "[35/50][5882] Loss D: 0.150396 Loss G: 0.036783\n",
      "[36/50][6050] Loss D: 0.199074 Loss G: 0.145427\n",
      "[37/50][6238] Loss D: 0.143298 Loss G: 0.153719\n",
      "[38/50][6425] Loss D: 0.166688 Loss G: 0.146464\n",
      "[39/50][6594] Loss D: 0.137253 Loss G: 0.163313\n",
      "[40/50][6782] Loss D: 0.155600 Loss G: 0.161322\n",
      "[41/50][6969] Loss D: 0.171654 Loss G: 0.137093\n",
      "[42/50][7138] Loss D: 0.144698 Loss G: 0.134078\n",
      "[43/50][7325] Loss D: 0.124117 Loss G: 0.140716\n",
      "[44/50][7500] Loss D: 0.151664 Loss G: 0.053188\n",
      "[45/50][7682] Loss D: 0.150401 Loss G: 0.104919\n",
      "[46/50][7869] Loss D: 0.164894 Loss G: -0.002384\n",
      "[47/50][8038] Loss D: 0.142478 Loss G: 0.162930\n",
      "[48/50][8225] Loss D: 0.129622 Loss G: 0.002644\n",
      "[49/50][8413] Loss D: 0.172641 Loss G: 0.130724\n",
      "[50/50][8582] Loss D: 0.139748 Loss G: -0.016767\n"
     ]
    }
   ],
   "source": [
    "# Train models; Returns a loss histogram that shows the training progess\n",
    "train_stats = train(\n",
    "    mnist, discriminator, generator, optimizer_d, optimizer_g, device=device, save_path=SAVE_PATH_W_DC_GAN\n",
    ")"
   ]
  },
  {
   "cell_type": "markdown",
   "metadata": {
    "id": "gJFrLHYfhwQb"
   },
   "source": [
    "Plot histogram results of Wasserstein DC GAN training."
   ]
  },
  {
   "cell_type": "code",
   "execution_count": 82,
   "metadata": {
    "id": "YzRaPutvhwQb",
    "outputId": "919e3c78-9634-4b18-fcaa-c420f0e23be6"
   },
   "outputs": [
    {
     "data": {
      "image/png": "[encoded data removed]",
      "text/plain": [
       "<Figure size 432x288 with 1 Axes>"
      ]
     },
     "metadata": {
      "needs_background": "light"
     },
     "output_type": "display_data"
    }
   ],
   "source": [
    "# Plot results\n",
    "train_stats.plot_hist()"
   ]
  },
  {
   "cell_type": "markdown",
   "metadata": {
    "id": "foKOx39XhwQb"
   },
   "source": [
    "Show resulting fake images."
   ]
  },
  {
   "cell_type": "code",
   "execution_count": 83,
   "metadata": {
    "id": "P9Cl3bbdhwQb",
    "outputId": "fc5c7840-81ab-4eb2-9726-41619cd5f58f",
    "scrolled": true
   },
   "outputs": [
    {
     "data": {
      "text/plain": [
       "<Figure size 720x720 with 0 Axes>"
      ]
     },
     "metadata": {},
     "output_type": "display_data"
    },
    {
     "data": {
      "image/png": "[encoded data removed]",
      "text/plain": [
       "<Figure size 432x288 with 1 Axes>"
      ]
     },
     "metadata": {
      "needs_background": "light"
     },
     "output_type": "display_data"
    }
   ],
   "source": [
    "# Show fake samples.\n",
    "train_stats.plot_fake_images()"
   ]
  },
  {
   "cell_type": "markdown",
   "metadata": {},
   "source": [
    "## Vanilla MLP GAN"
   ]
  },
  {
   "cell_type": "code",
   "execution_count": 31,
   "metadata": {
    "id": "WT5ntxLKhwQc"
   },
   "outputs": [],
   "source": [
    "SAVE_PATH_V_MLP_GAN = f\"{DRIVE_PATH}/output/v_mlp_gan\""
   ]
  },
  {
   "cell_type": "markdown",
   "metadata": {},
   "source": [
    "Define Vanilla MLP discriminator. "
   ]
  },
  {
   "cell_type": "code",
   "execution_count": 32,
   "metadata": {},
   "outputs": [
    {
     "name": "stdout",
     "output_type": "stream",
     "text": [
      "MLP_Discriminator(\n",
      "  (layers): Sequential(\n",
      "    (0): Linear(in_features=1024, out_features=64, bias=True)\n",
      "    (1): ReLU(inplace=True)\n",
      "    (2): Linear(in_features=64, out_features=64, bias=True)\n",
      "    (3): ReLU(inplace=True)\n",
      "    (4): Linear(in_features=64, out_features=64, bias=True)\n",
      "    (5): ReLU(inplace=True)\n",
      "    (6): Linear(in_features=64, out_features=1, bias=True)\n",
      "    (final:1:sigmod): Sigmoid()\n",
      "  )\n",
      ")\n"
     ]
    }
   ],
   "source": [
    "# Initialize discriminator model\n",
    "discriminator = MLP_GAN_Discriminator(wasserstein=False)\n",
    "\n",
    "# Apply weights initialization\n",
    "discriminator.apply(weights_init)\n",
    "\n",
    "# Load saved discriminator checkpoint (optional)\n",
    "# discriminator.load_state_dict(torch.load(f'{SAVE_PATH_V_MLP_GAN}/discriminator.pth'))\n",
    "\n",
    "# Plot discriminator model architecture\n",
    "print(discriminator)"
   ]
  },
  {
   "cell_type": "markdown",
   "metadata": {},
   "source": [
    "Define Vanilla MLP generator."
   ]
  },
  {
   "cell_type": "code",
   "execution_count": 33,
   "metadata": {},
   "outputs": [
    {
     "name": "stdout",
     "output_type": "stream",
     "text": [
      "MLP_Generator(\n",
      "  (layers): Sequential(\n",
      "    (0): Linear(in_features=100, out_features=64, bias=True)\n",
      "    (1): ReLU(inplace=True)\n",
      "    (2): Linear(in_features=64, out_features=64, bias=True)\n",
      "    (3): ReLU(inplace=True)\n",
      "    (4): Linear(in_features=64, out_features=64, bias=True)\n",
      "    (5): ReLU(inplace=True)\n",
      "    (6): Linear(in_features=64, out_features=1024, bias=True)\n",
      "  )\n",
      ")\n"
     ]
    }
   ],
   "source": [
    "# Initialize generator model\n",
    "generator = MLP_GAN_Generator()\n",
    "\n",
    "# Apply weights initialization\n",
    "generator.apply(weights_init)\n",
    "\n",
    "# Load saved generator checkpoint (optional)\n",
    "# generator.load_state_dict(torch.load(f'{SAVE_PATH_V_MLP_GAN}/generator.pth'))\n",
    "\n",
    "# Plot generator model architecture\n",
    "print(generator)"
   ]
  },
  {
   "cell_type": "markdown",
   "metadata": {
    "id": "CPJJkxvFhwQc"
   },
   "source": [
    "Define Root Mean Squared Propagation (RMSprop) optimizers for training."
   ]
  },
  {
   "cell_type": "code",
   "execution_count": 34,
   "metadata": {},
   "outputs": [],
   "source": [
    "# Initialize discriminator RMSprop optimizer\n",
    "optimizer_d = optim.RMSprop(discriminator.parameters(), lr=LEARNING_RATE)\n",
    "\n",
    "# Initialize generator RMSprop optimizer\n",
    "optimizer_g = optim.RMSprop(generator.parameters(), lr=LEARNING_RATE)"
   ]
  },
  {
   "cell_type": "markdown",
   "metadata": {
    "id": "gUGfrRDyhwQd"
   },
   "source": [
    "Initialize BCELoss as criterion."
   ]
  },
  {
   "cell_type": "code",
   "execution_count": 35,
   "metadata": {},
   "outputs": [],
   "source": [
    "criterion = nn.BCELoss()"
   ]
  },
  {
   "cell_type": "markdown",
   "metadata": {
    "id": "kIktYYwohwQd"
   },
   "source": [
    "Plot histogram results of Vanilla DC GAN training."
   ]
  },
  {
   "cell_type": "code",
   "execution_count": 36,
   "metadata": {},
   "outputs": [
    {
     "name": "stdout",
     "output_type": "stream",
     "text": [
      "[1/50][938] Loss D: 1.409338 Loss G: 0.900692\n",
      "[2/50][1876] Loss D: 0.751006 Loss G: 1.097246\n",
      "[3/50][2814] Loss D: 0.529324 Loss G: 1.927446\n",
      "[4/50][3752] Loss D: 0.030911 Loss G: 3.935533\n",
      "[5/50][4690] Loss D: 0.866507 Loss G: 1.556063\n",
      "[6/50][5628] Loss D: 1.074644 Loss G: 1.615668\n",
      "[7/50][6566] Loss D: 0.850856 Loss G: 1.599197\n",
      "[8/50][7504] Loss D: 0.641360 Loss G: 2.030917\n",
      "[9/50][8442] Loss D: 1.047527 Loss G: 1.259212\n",
      "[10/50][9380] Loss D: 1.540600 Loss G: 1.183924\n",
      "[11/50][10318] Loss D: 1.257946 Loss G: 2.694448\n",
      "[12/50][11256] Loss D: 0.320979 Loss G: 1.615994\n",
      "[13/50][12194] Loss D: 2.161940 Loss G: 0.760006\n",
      "[14/50][13132] Loss D: 1.336603 Loss G: 1.944247\n",
      "[15/50][14070] Loss D: 1.278397 Loss G: 2.049994\n",
      "[16/50][15008] Loss D: 1.600087 Loss G: 1.072505\n",
      "[17/50][15946] Loss D: 1.439280 Loss G: 0.679071\n",
      "[18/50][16884] Loss D: 1.046822 Loss G: 2.037247\n",
      "[19/50][17822] Loss D: 0.935816 Loss G: 1.128306\n",
      "[20/50][18760] Loss D: 1.084060 Loss G: 1.914515\n",
      "[21/50][19698] Loss D: 0.996004 Loss G: 1.391134\n",
      "[22/50][20636] Loss D: 0.489549 Loss G: 1.979967\n",
      "[23/50][21574] Loss D: 1.273482 Loss G: 1.796050\n",
      "[24/50][22512] Loss D: 1.133332 Loss G: 2.632138\n",
      "[25/50][23450] Loss D: 0.816767 Loss G: 1.533219\n",
      "[26/50][24388] Loss D: 1.110834 Loss G: 0.761879\n",
      "[27/50][25326] Loss D: 0.780553 Loss G: 2.705440\n",
      "[28/50][26264] Loss D: 0.585375 Loss G: 2.243879\n",
      "[29/50][27202] Loss D: 0.789404 Loss G: 1.875079\n",
      "[30/50][28140] Loss D: 0.712921 Loss G: 1.421525\n",
      "[31/50][29078] Loss D: 0.776416 Loss G: 1.303822\n",
      "[32/50][30016] Loss D: 0.382415 Loss G: 2.027464\n",
      "[33/50][30954] Loss D: 0.584967 Loss G: 1.672211\n",
      "[34/50][31892] Loss D: 0.472698 Loss G: 3.544609\n",
      "[35/50][32830] Loss D: 0.438526 Loss G: 4.046972\n",
      "[36/50][33768] Loss D: 0.320182 Loss G: 2.454938\n",
      "[37/50][34706] Loss D: 0.374107 Loss G: 3.307843\n",
      "[38/50][35644] Loss D: 2.038312 Loss G: 1.265986\n",
      "[39/50][36582] Loss D: 0.793603 Loss G: 2.215178\n",
      "[40/50][37520] Loss D: 0.369814 Loss G: 3.738109\n",
      "[41/50][38458] Loss D: 0.318707 Loss G: 6.074541\n",
      "[42/50][39396] Loss D: 0.998587 Loss G: 1.644913\n",
      "[43/50][40334] Loss D: 0.857185 Loss G: 7.210169\n",
      "[44/50][41272] Loss D: 0.295785 Loss G: 2.612895\n",
      "[45/50][42210] Loss D: 0.243736 Loss G: 3.491191\n",
      "[46/50][43148] Loss D: 0.628356 Loss G: 2.266639\n",
      "[47/50][44086] Loss D: 0.350394 Loss G: 2.360200\n",
      "[48/50][45024] Loss D: 0.382756 Loss G: 2.400584\n",
      "[49/50][45962] Loss D: 0.163055 Loss G: 3.206268\n",
      "[50/50][46900] Loss D: 1.217202 Loss G: 1.441321\n"
     ]
    }
   ],
   "source": [
    "# Train models; Returns training statistics that shows the training progess\n",
    "train_stats = train(\n",
    "    mnist, discriminator, generator, optimizer_d, optimizer_g, min_iterations_d=MIN_ITERARTINS_D_VANILLA,\n",
    "    max_iterations_d=MAX_ITERATIONS_D_VANILLA, device=device, save_path=SAVE_PATH_V_MLP_GAN, criterion=criterion, \n",
    "    wasserstein=False\n",
    ")"
   ]
  },
  {
   "cell_type": "markdown",
   "metadata": {
    "id": "kIktYYwohwQd"
   },
   "source": [
    "Plot histogram results of Vanilla MLP GAN training."
   ]
  },
  {
   "cell_type": "code",
   "execution_count": 37,
   "metadata": {},
   "outputs": [
    {
     "data": {
      "image/png": "[encoded data removed]",
      "text/plain": [
       "<Figure size 432x288 with 1 Axes>"
      ]
     },
     "metadata": {
      "needs_background": "light"
     },
     "output_type": "display_data"
    }
   ],
   "source": [
    "# Plot results\n",
    "train_stats.plot_hist()"
   ]
  },
  {
   "cell_type": "markdown",
   "metadata": {
    "id": "_B8mFWNwhwQe"
   },
   "source": [
    "Show resulting fake images."
   ]
  },
  {
   "cell_type": "code",
   "execution_count": 38,
   "metadata": {},
   "outputs": [
    {
     "data": {
      "text/plain": [
       "<Figure size 720x720 with 0 Axes>"
      ]
     },
     "metadata": {},
     "output_type": "display_data"
    },
    {
     "data": {
      "image/png": "[encoded data removed]",
      "text/plain": [
       "<Figure size 432x288 with 1 Axes>"
      ]
     },
     "metadata": {
      "needs_background": "light"
     },
     "output_type": "display_data"
    }
   ],
   "source": [
    "# Show fake samples.\n",
    "train_stats.plot_fake_images()"
   ]
  },
  {
   "cell_type": "markdown",
   "metadata": {
    "id": "sZNlkakwhwQb"
   },
   "source": [
    "## Vanilla DC GAN"
   ]
  },
  {
   "cell_type": "code",
   "execution_count": 39,
   "metadata": {},
   "outputs": [],
   "source": [
    "SAVE_PATH_V_DC_GAN = f\"{DRIVE_PATH}/output/v_dc_gan\""
   ]
  },
  {
   "cell_type": "markdown",
   "metadata": {
    "id": "2lvNdmhZhwQc"
   },
   "source": [
    "Define Vanilla DC GAN discriminator. "
   ]
  },
  {
   "cell_type": "code",
   "execution_count": 40,
   "metadata": {
    "id": "s5xGzNwPhwQc",
    "outputId": "1891bfdc-7429-4e09-c6cc-7202a0c31f5a"
   },
   "outputs": [
    {
     "name": "stdout",
     "output_type": "stream",
     "text": [
      "DCGAN_Discriminator(\n",
      "  (layers): Sequential(\n",
      "    (0): Sequential(\n",
      "      (0): Conv2d(1, 64, kernel_size=(4, 4), stride=(2, 2), padding=(1, 1), bias=False)\n",
      "      (1): LeakyReLU(negative_slope=0.2, inplace=True)\n",
      "    )\n",
      "    (1): Sequential(\n",
      "      (0): Conv2d(64, 128, kernel_size=(4, 4), stride=(2, 2), padding=(1, 1), bias=False)\n",
      "      (1): BatchNorm2d(128, eps=1e-05, momentum=0.1, affine=True, track_running_stats=True)\n",
      "      (2): LeakyReLU(negative_slope=0.2, inplace=True)\n",
      "    )\n",
      "    (2): Sequential(\n",
      "      (0): Conv2d(128, 256, kernel_size=(4, 4), stride=(2, 2), padding=(1, 1), bias=False)\n",
      "      (1): BatchNorm2d(256, eps=1e-05, momentum=0.1, affine=True, track_running_stats=True)\n",
      "      (2): LeakyReLU(negative_slope=0.2, inplace=True)\n",
      "    )\n",
      "    (3): Conv2d(256, 1, kernel_size=(4, 4), stride=(1, 1), bias=False)\n",
      "    (4): Sigmoid()\n",
      "  )\n",
      ")\n"
     ]
    }
   ],
   "source": [
    "# Initialize discriminator model\n",
    "discriminator = DC_GAN_Discriminator(wasserstein=False) \n",
    "\n",
    "# Apply weights initialization\n",
    "discriminator.apply(weights_init)\n",
    "\n",
    "# Load saved discriminator checkpoint (optional)\n",
    "# discriminator.load_state_dict(torch.load(f'{SAVE_PATH_V_DC_GAN}/discriminator.pth'))\n",
    "\n",
    "# Plot discriminator model architecture\n",
    "print(discriminator)"
   ]
  },
  {
   "cell_type": "markdown",
   "metadata": {
    "id": "qXuy_AyDhwQc"
   },
   "source": [
    "Define Vanilla DC GAN generator."
   ]
  },
  {
   "cell_type": "code",
   "execution_count": 41,
   "metadata": {
    "id": "PeQKaNzphwQc",
    "outputId": "f46059be-8c60-4743-df29-ce8042a282a9"
   },
   "outputs": [
    {
     "name": "stdout",
     "output_type": "stream",
     "text": [
      "DCGAN_Generator(\n",
      "  (layers): Sequential(\n",
      "    (0): Sequential(\n",
      "      (0): ConvTranspose2d(100, 256, kernel_size=(4, 4), stride=(1, 1), bias=False)\n",
      "      (1): BatchNorm2d(256, eps=1e-05, momentum=0.1, affine=True, track_running_stats=True)\n",
      "      (2): ReLU(inplace=True)\n",
      "    )\n",
      "    (1): Sequential(\n",
      "      (0): ConvTranspose2d(256, 128, kernel_size=(4, 4), stride=(2, 2), padding=(1, 1), bias=False)\n",
      "      (1): BatchNorm2d(128, eps=1e-05, momentum=0.1, affine=True, track_running_stats=True)\n",
      "      (2): ReLU(inplace=True)\n",
      "    )\n",
      "    (2): Sequential(\n",
      "      (0): ConvTranspose2d(128, 64, kernel_size=(4, 4), stride=(2, 2), padding=(1, 1), bias=False)\n",
      "      (1): BatchNorm2d(64, eps=1e-05, momentum=0.1, affine=True, track_running_stats=True)\n",
      "      (2): ReLU(inplace=True)\n",
      "    )\n",
      "    (3): ConvTranspose2d(64, 1, kernel_size=(4, 4), stride=(2, 2), padding=(1, 1), bias=False)\n",
      "    (4): Tanh()\n",
      "  )\n",
      ")\n"
     ]
    }
   ],
   "source": [
    "# Initialize generator model\n",
    "generator = DC_GAN_Generator()\n",
    "\n",
    "# Apply weights initialization\n",
    "generator.apply(weights_init)\n",
    "\n",
    "# Load saved generator checkpoint (optional)\n",
    "# generator.load_state_dict(torch.load(f'{SAVE_PATH_V_DC_GAN}/generator.pth'))\n",
    "\n",
    "# Plot generator model architecture\n",
    "print(generator)"
   ]
  },
  {
   "cell_type": "markdown",
   "metadata": {
    "id": "CPJJkxvFhwQc"
   },
   "source": [
    "Define Root Mean Squared Propagation (RMSprop) optimizers for training."
   ]
  },
  {
   "cell_type": "code",
   "execution_count": 42,
   "metadata": {
    "id": "lsdn_tq9hwQd"
   },
   "outputs": [],
   "source": [
    "# Initialize discriminator RMSprop optimizer\n",
    "optimizer_d = optim.RMSprop(discriminator.parameters(), lr=LEARINING_RATE)\n",
    "\n",
    "# Initialize generator RMSprop optimizer\n",
    "optimizer_g = optim.RMSprop(generator.parameters(), lr=LEARINING_RATE)"
   ]
  },
  {
   "cell_type": "markdown",
   "metadata": {
    "id": "gUGfrRDyhwQd"
   },
   "source": [
    "Initialize BCELoss as criterion."
   ]
  },
  {
   "cell_type": "code",
   "execution_count": 43,
   "metadata": {
    "id": "ulXUJHEuo4SG"
   },
   "outputs": [],
   "source": [
    "criterion = nn.BCELoss()"
   ]
  },
  {
   "cell_type": "markdown",
   "metadata": {
    "id": "nZ2aS4bPhwQd"
   },
   "source": [
    "Train Vanilla DC GAN models."
   ]
  },
  {
   "cell_type": "code",
   "execution_count": 45,
   "metadata": {
    "id": "_tzTUhnEhwQd"
   },
   "outputs": [
    {
     "name": "stdout",
     "output_type": "stream",
     "text": [
      "[1/50][938] Loss D: 0.155030 Loss G: 2.904615\n",
      "[2/50][1876] Loss D: 0.184753 Loss G: 3.173557\n",
      "[3/50][2814] Loss D: 0.159107 Loss G: 3.073726\n",
      "[4/50][3752] Loss D: 0.146713 Loss G: 3.256948\n",
      "[5/50][4690] Loss D: 0.206200 Loss G: 2.717762\n",
      "[6/50][5628] Loss D: 0.077310 Loss G: 3.816779\n",
      "[7/50][6566] Loss D: 0.183170 Loss G: 3.095915\n",
      "[8/50][7504] Loss D: 0.131768 Loss G: 3.163477\n",
      "[9/50][8442] Loss D: 0.100547 Loss G: 3.852509\n",
      "[10/50][9380] Loss D: 0.114077 Loss G: 3.290453\n",
      "[11/50][10318] Loss D: 0.025464 Loss G: 5.129134\n",
      "[12/50][11256] Loss D: 0.059658 Loss G: 4.458539\n",
      "[13/50][12194] Loss D: 0.028796 Loss G: 4.931079\n",
      "[14/50][13132] Loss D: 0.018765 Loss G: 5.234098\n",
      "[15/50][14070] Loss D: 0.039381 Loss G: 4.975050\n",
      "[16/50][15008] Loss D: 0.013177 Loss G: 6.077506\n",
      "[17/50][15946] Loss D: 0.026551 Loss G: 4.229637\n",
      "[18/50][16884] Loss D: 0.013506 Loss G: 7.045795\n",
      "[19/50][17822] Loss D: 0.352312 Loss G: 3.125139\n",
      "[20/50][18760] Loss D: 0.289895 Loss G: 3.399043\n",
      "[21/50][19698] Loss D: 0.005245 Loss G: 6.925529\n",
      "[22/50][20636] Loss D: 0.006853 Loss G: 6.595371\n",
      "[23/50][21574] Loss D: 0.035629 Loss G: 2.384105\n",
      "[24/50][22512] Loss D: 0.008781 Loss G: 6.706719\n",
      "[25/50][23450] Loss D: 0.002501 Loss G: 8.374345\n",
      "[26/50][24388] Loss D: 0.014879 Loss G: 5.832191\n",
      "[27/50][25326] Loss D: 0.499364 Loss G: 1.411485\n",
      "[28/50][26264] Loss D: 1.578107 Loss G: 0.000002\n",
      "[29/50][27202] Loss D: 0.003155 Loss G: 7.408272\n",
      "[30/50][28140] Loss D: 0.005375 Loss G: 6.601936\n",
      "[31/50][29078] Loss D: 0.008792 Loss G: 6.920240\n",
      "[32/50][30016] Loss D: 0.007462 Loss G: 6.218832\n",
      "[33/50][30954] Loss D: 0.001006 Loss G: 9.215658\n",
      "[34/50][31892] Loss D: 0.000759 Loss G: 8.661630\n",
      "[35/50][32830] Loss D: 0.003009 Loss G: 6.924134\n",
      "[36/50][33768] Loss D: 0.009123 Loss G: 6.946700\n",
      "[37/50][34706] Loss D: 0.020865 Loss G: 5.539057\n",
      "[38/50][35644] Loss D: 0.002307 Loss G: 7.555882\n",
      "[39/50][36582] Loss D: 0.002339 Loss G: 7.659948\n",
      "[40/50][37520] Loss D: 0.003438 Loss G: 7.462524\n",
      "[41/50][38458] Loss D: 0.002717 Loss G: 7.933479\n",
      "[42/50][39396] Loss D: 0.001434 Loss G: 8.404278\n",
      "[43/50][40334] Loss D: 0.143276 Loss G: 5.475479\n",
      "[44/50][41272] Loss D: 0.001330 Loss G: 8.008025\n",
      "[45/50][42210] Loss D: 0.000848 Loss G: 9.217379\n",
      "[46/50][43148] Loss D: 0.001248 Loss G: 8.368645\n",
      "[47/50][44086] Loss D: 0.000589 Loss G: 9.026175\n",
      "[48/50][45024] Loss D: 0.000621 Loss G: 8.641376\n",
      "[49/50][45962] Loss D: 0.307541 Loss G: 2.459365\n",
      "[50/50][46900] Loss D: 0.004071 Loss G: 6.963087\n"
     ]
    }
   ],
   "source": [
    "# Train models; Returns training statistics that shows the training progess\n",
    "train_stats = train(\n",
    "    mnist, discriminator, generator, optimizer_d, optimizer_g, min_iterations_d=MIN_ITERARTINS_D_VANILLA,\n",
    "    max_iterations_d=MAX_ITERATIONS_D_VANILLA, device=device, save_path=SAVE_PATH_V_DC_GAN, criterion=criterion, \n",
    "    wasserstein=False\n",
    ")"
   ]
  },
  {
   "cell_type": "markdown",
   "metadata": {
    "id": "kIktYYwohwQd"
   },
   "source": [
    "Plot histogram results of Vanilla DC GAN training."
   ]
  },
  {
   "cell_type": "code",
   "execution_count": 46,
   "metadata": {
    "id": "zQ_ElZHWhwQd",
    "outputId": "edaed8ae-16d3-4ef5-f26b-0b861e2bad43"
   },
   "outputs": [
    {
     "data": {
      "image/png": "[encoded data removed]",
      "text/plain": [
       "<Figure size 432x288 with 1 Axes>"
      ]
     },
     "metadata": {
      "needs_background": "light"
     },
     "output_type": "display_data"
    }
   ],
   "source": [
    "# Plot results\n",
    "train_stats.plot_hist()"
   ]
  },
  {
   "cell_type": "markdown",
   "metadata": {
    "id": "_B8mFWNwhwQe"
   },
   "source": [
    "Show resulting fake images."
   ]
  },
  {
   "cell_type": "code",
   "execution_count": 47,
   "metadata": {
    "id": "cQQ4dbwNhwQe",
    "outputId": "3722782f-ef18-4ea0-e2c1-f445c934873b"
   },
   "outputs": [
    {
     "data": {
      "text/plain": [
       "<Figure size 720x720 with 0 Axes>"
      ]
     },
     "metadata": {},
     "output_type": "display_data"
    },
    {
     "data": {
      "image/png": "[encoded data removed]",
      "text/plain": [
       "<Figure size 432x288 with 1 Axes>"
      ]
     },
     "metadata": {
      "needs_background": "light"
     },
     "output_type": "display_data"
    }
   ],
   "source": [
    "# Show fake samples.\n",
    "train_stats.plot_fake_images()"
   ]
  },
  {
   "cell_type": "code",
   "execution_count": null,
   "metadata": {},
   "outputs": [],
   "source": []
  }
 ],
 "metadata": {
  "colab": {
   "collapsed_sections": [
    "74N4x0ZqhwQL",
    "EbCmvLbet9GV",
    "DLTD82AKhwQP",
    "SslJAfnAxqan",
    "og7uFQrZyJtv",
    "k-_GNyRIyjzY",
    "tBU1awQqz2SD",
    "aARv-FXu6N6E",
    "vgnkuusm60Hk"
   ],
   "name": "Wasserstein_GAN (long).ipynb",
   "provenance": []
  },
  "kernelspec": {
   "display_name": "Python 3",
   "language": "python",
   "name": "python3"
  },
  "language_info": {
   "codemirror_mode": {
    "name": "ipython",
    "version": 3
   },
   "file_extension": ".py",
   "mimetype": "text/x-python",
   "name": "python",
   "nbconvert_exporter": "python",
   "pygments_lexer": "ipython3",
   "version": "3.8.10"
  }
 },
 "nbformat": 4,
 "nbformat_minor": 1
}
